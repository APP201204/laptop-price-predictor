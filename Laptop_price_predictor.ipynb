{
  "cells": [
    {
      "cell_type": "code",
      "execution_count": null,
      "metadata": {
        "id": "aF4KXw3PQb-H"
      },
      "outputs": [],
      "source": [
        "import numpy as np\n",
        "import pandas as pd\n",
        "import matplotlib.pyplot as plt"
      ]
    },
    {
      "cell_type": "code",
      "execution_count": null,
      "metadata": {
        "id": "kEeoj7lgQcNO"
      },
      "outputs": [],
      "source": [
        "url = 'https://raw.githubusercontent.com/campusx-official/laptop-price-predictor-regression-project/main/laptop_data.csv'\n",
        "df = pd.read_csv(url)\n",
        "df.head()"
      ]
    },
    {
      "cell_type": "code",
      "execution_count": null,
      "metadata": {
        "colab": {
          "base_uri": "https://localhost:8080/"
        },
        "id": "sU9LNB7uQcQV",
        "outputId": "6a52221c-f7c6-4c4f-e241-55c37749f5e0"
      },
      "outputs": [
        {
          "output_type": "execute_result",
          "data": {
            "text/plain": [
              "(1303, 12)"
            ]
          },
          "metadata": {},
          "execution_count": 348
        }
      ],
      "source": [
        "df.shape"
      ]
    },
    {
      "cell_type": "code",
      "execution_count": null,
      "metadata": {
        "colab": {
          "base_uri": "https://localhost:8080/"
        },
        "id": "EEw-D7CzQcUh",
        "outputId": "77265ff0-d19d-4b11-e4e1-980aa310586f"
      },
      "outputs": [
        {
          "output_type": "stream",
          "name": "stdout",
          "text": [
            "<class 'pandas.core.frame.DataFrame'>\n",
            "RangeIndex: 1303 entries, 0 to 1302\n",
            "Data columns (total 12 columns):\n",
            " #   Column            Non-Null Count  Dtype  \n",
            "---  ------            --------------  -----  \n",
            " 0   Unnamed: 0        1303 non-null   int64  \n",
            " 1   Company           1303 non-null   object \n",
            " 2   TypeName          1303 non-null   object \n",
            " 3   Inches            1303 non-null   float64\n",
            " 4   ScreenResolution  1303 non-null   object \n",
            " 5   Cpu               1303 non-null   object \n",
            " 6   Ram               1303 non-null   object \n",
            " 7   Memory            1303 non-null   object \n",
            " 8   Gpu               1303 non-null   object \n",
            " 9   OpSys             1303 non-null   object \n",
            " 10  Weight            1303 non-null   object \n",
            " 11  Price             1303 non-null   float64\n",
            "dtypes: float64(2), int64(1), object(9)\n",
            "memory usage: 122.3+ KB\n"
          ]
        }
      ],
      "source": [
        "df.info()"
      ]
    },
    {
      "cell_type": "code",
      "execution_count": null,
      "metadata": {
        "colab": {
          "base_uri": "https://localhost:8080/"
        },
        "id": "-hcFdYpBQcXW",
        "outputId": "15cfc021-4c82-4a8a-de22-177c0beaa206"
      },
      "outputs": [
        {
          "output_type": "execute_result",
          "data": {
            "text/plain": [
              "0"
            ]
          },
          "metadata": {},
          "execution_count": 350
        }
      ],
      "source": [
        "df.duplicated().sum()"
      ]
    },
    {
      "cell_type": "code",
      "execution_count": null,
      "metadata": {
        "colab": {
          "base_uri": "https://localhost:8080/"
        },
        "id": "lg0zv4a8QcaN",
        "outputId": "165d0435-86e3-4209-ac90-1f105dd4d131"
      },
      "outputs": [
        {
          "output_type": "execute_result",
          "data": {
            "text/plain": [
              "Unnamed: 0          0\n",
              "Company             0\n",
              "TypeName            0\n",
              "Inches              0\n",
              "ScreenResolution    0\n",
              "Cpu                 0\n",
              "Ram                 0\n",
              "Memory              0\n",
              "Gpu                 0\n",
              "OpSys               0\n",
              "Weight              0\n",
              "Price               0\n",
              "dtype: int64"
            ]
          },
          "metadata": {},
          "execution_count": 351
        }
      ],
      "source": [
        "df.isnull().sum()"
      ]
    },
    {
      "cell_type": "code",
      "execution_count": null,
      "metadata": {
        "id": "LVWMB1kkQcdW"
      },
      "outputs": [],
      "source": [
        "df.drop(columns=['Unnamed: 0'],inplace=True)"
      ]
    },
    {
      "cell_type": "code",
      "execution_count": null,
      "metadata": {
        "colab": {
          "base_uri": "https://localhost:8080/",
          "height": 496
        },
        "id": "qTSCnH5rQcgv",
        "outputId": "2514593f-e829-4080-ee05-ff035857df3c"
      },
      "outputs": [
        {
          "output_type": "execute_result",
          "data": {
            "text/plain": [
              "  Company   TypeName  Inches                    ScreenResolution  \\\n",
              "0   Apple  Ultrabook    13.3  IPS Panel Retina Display 2560x1600   \n",
              "1   Apple  Ultrabook    13.3                            1440x900   \n",
              "2      HP   Notebook    15.6                   Full HD 1920x1080   \n",
              "3   Apple  Ultrabook    15.4  IPS Panel Retina Display 2880x1800   \n",
              "4   Apple  Ultrabook    13.3  IPS Panel Retina Display 2560x1600   \n",
              "\n",
              "                          Cpu   Ram               Memory  \\\n",
              "0        Intel Core i5 2.3GHz   8GB            128GB SSD   \n",
              "1        Intel Core i5 1.8GHz   8GB  128GB Flash Storage   \n",
              "2  Intel Core i5 7200U 2.5GHz   8GB            256GB SSD   \n",
              "3        Intel Core i7 2.7GHz  16GB            512GB SSD   \n",
              "4        Intel Core i5 3.1GHz   8GB            256GB SSD   \n",
              "\n",
              "                            Gpu  OpSys  Weight        Price  \n",
              "0  Intel Iris Plus Graphics 640  macOS  1.37kg   71378.6832  \n",
              "1        Intel HD Graphics 6000  macOS  1.34kg   47895.5232  \n",
              "2         Intel HD Graphics 620  No OS  1.86kg   30636.0000  \n",
              "3            AMD Radeon Pro 455  macOS  1.83kg  135195.3360  \n",
              "4  Intel Iris Plus Graphics 650  macOS  1.37kg   96095.8080  "
            ],
            "text/html": [
              "\n",
              "  <div id=\"df-2664123c-859a-4bc3-af2c-1b9a0ef58396\">\n",
              "    <div class=\"colab-df-container\">\n",
              "      <div>\n",
              "<style scoped>\n",
              "    .dataframe tbody tr th:only-of-type {\n",
              "        vertical-align: middle;\n",
              "    }\n",
              "\n",
              "    .dataframe tbody tr th {\n",
              "        vertical-align: top;\n",
              "    }\n",
              "\n",
              "    .dataframe thead th {\n",
              "        text-align: right;\n",
              "    }\n",
              "</style>\n",
              "<table border=\"1\" class=\"dataframe\">\n",
              "  <thead>\n",
              "    <tr style=\"text-align: right;\">\n",
              "      <th></th>\n",
              "      <th>Company</th>\n",
              "      <th>TypeName</th>\n",
              "      <th>Inches</th>\n",
              "      <th>ScreenResolution</th>\n",
              "      <th>Cpu</th>\n",
              "      <th>Ram</th>\n",
              "      <th>Memory</th>\n",
              "      <th>Gpu</th>\n",
              "      <th>OpSys</th>\n",
              "      <th>Weight</th>\n",
              "      <th>Price</th>\n",
              "    </tr>\n",
              "  </thead>\n",
              "  <tbody>\n",
              "    <tr>\n",
              "      <th>0</th>\n",
              "      <td>Apple</td>\n",
              "      <td>Ultrabook</td>\n",
              "      <td>13.3</td>\n",
              "      <td>IPS Panel Retina Display 2560x1600</td>\n",
              "      <td>Intel Core i5 2.3GHz</td>\n",
              "      <td>8GB</td>\n",
              "      <td>128GB SSD</td>\n",
              "      <td>Intel Iris Plus Graphics 640</td>\n",
              "      <td>macOS</td>\n",
              "      <td>1.37kg</td>\n",
              "      <td>71378.6832</td>\n",
              "    </tr>\n",
              "    <tr>\n",
              "      <th>1</th>\n",
              "      <td>Apple</td>\n",
              "      <td>Ultrabook</td>\n",
              "      <td>13.3</td>\n",
              "      <td>1440x900</td>\n",
              "      <td>Intel Core i5 1.8GHz</td>\n",
              "      <td>8GB</td>\n",
              "      <td>128GB Flash Storage</td>\n",
              "      <td>Intel HD Graphics 6000</td>\n",
              "      <td>macOS</td>\n",
              "      <td>1.34kg</td>\n",
              "      <td>47895.5232</td>\n",
              "    </tr>\n",
              "    <tr>\n",
              "      <th>2</th>\n",
              "      <td>HP</td>\n",
              "      <td>Notebook</td>\n",
              "      <td>15.6</td>\n",
              "      <td>Full HD 1920x1080</td>\n",
              "      <td>Intel Core i5 7200U 2.5GHz</td>\n",
              "      <td>8GB</td>\n",
              "      <td>256GB SSD</td>\n",
              "      <td>Intel HD Graphics 620</td>\n",
              "      <td>No OS</td>\n",
              "      <td>1.86kg</td>\n",
              "      <td>30636.0000</td>\n",
              "    </tr>\n",
              "    <tr>\n",
              "      <th>3</th>\n",
              "      <td>Apple</td>\n",
              "      <td>Ultrabook</td>\n",
              "      <td>15.4</td>\n",
              "      <td>IPS Panel Retina Display 2880x1800</td>\n",
              "      <td>Intel Core i7 2.7GHz</td>\n",
              "      <td>16GB</td>\n",
              "      <td>512GB SSD</td>\n",
              "      <td>AMD Radeon Pro 455</td>\n",
              "      <td>macOS</td>\n",
              "      <td>1.83kg</td>\n",
              "      <td>135195.3360</td>\n",
              "    </tr>\n",
              "    <tr>\n",
              "      <th>4</th>\n",
              "      <td>Apple</td>\n",
              "      <td>Ultrabook</td>\n",
              "      <td>13.3</td>\n",
              "      <td>IPS Panel Retina Display 2560x1600</td>\n",
              "      <td>Intel Core i5 3.1GHz</td>\n",
              "      <td>8GB</td>\n",
              "      <td>256GB SSD</td>\n",
              "      <td>Intel Iris Plus Graphics 650</td>\n",
              "      <td>macOS</td>\n",
              "      <td>1.37kg</td>\n",
              "      <td>96095.8080</td>\n",
              "    </tr>\n",
              "  </tbody>\n",
              "</table>\n",
              "</div>\n",
              "      <button class=\"colab-df-convert\" onclick=\"convertToInteractive('df-2664123c-859a-4bc3-af2c-1b9a0ef58396')\"\n",
              "              title=\"Convert this dataframe to an interactive table.\"\n",
              "              style=\"display:none;\">\n",
              "        \n",
              "  <svg xmlns=\"http://www.w3.org/2000/svg\" height=\"24px\"viewBox=\"0 0 24 24\"\n",
              "       width=\"24px\">\n",
              "    <path d=\"M0 0h24v24H0V0z\" fill=\"none\"/>\n",
              "    <path d=\"M18.56 5.44l.94 2.06.94-2.06 2.06-.94-2.06-.94-.94-2.06-.94 2.06-2.06.94zm-11 1L8.5 8.5l.94-2.06 2.06-.94-2.06-.94L8.5 2.5l-.94 2.06-2.06.94zm10 10l.94 2.06.94-2.06 2.06-.94-2.06-.94-.94-2.06-.94 2.06-2.06.94z\"/><path d=\"M17.41 7.96l-1.37-1.37c-.4-.4-.92-.59-1.43-.59-.52 0-1.04.2-1.43.59L10.3 9.45l-7.72 7.72c-.78.78-.78 2.05 0 2.83L4 21.41c.39.39.9.59 1.41.59.51 0 1.02-.2 1.41-.59l7.78-7.78 2.81-2.81c.8-.78.8-2.07 0-2.86zM5.41 20L4 18.59l7.72-7.72 1.47 1.35L5.41 20z\"/>\n",
              "  </svg>\n",
              "      </button>\n",
              "      \n",
              "  <style>\n",
              "    .colab-df-container {\n",
              "      display:flex;\n",
              "      flex-wrap:wrap;\n",
              "      gap: 12px;\n",
              "    }\n",
              "\n",
              "    .colab-df-convert {\n",
              "      background-color: #E8F0FE;\n",
              "      border: none;\n",
              "      border-radius: 50%;\n",
              "      cursor: pointer;\n",
              "      display: none;\n",
              "      fill: #1967D2;\n",
              "      height: 32px;\n",
              "      padding: 0 0 0 0;\n",
              "      width: 32px;\n",
              "    }\n",
              "\n",
              "    .colab-df-convert:hover {\n",
              "      background-color: #E2EBFA;\n",
              "      box-shadow: 0px 1px 2px rgba(60, 64, 67, 0.3), 0px 1px 3px 1px rgba(60, 64, 67, 0.15);\n",
              "      fill: #174EA6;\n",
              "    }\n",
              "\n",
              "    [theme=dark] .colab-df-convert {\n",
              "      background-color: #3B4455;\n",
              "      fill: #D2E3FC;\n",
              "    }\n",
              "\n",
              "    [theme=dark] .colab-df-convert:hover {\n",
              "      background-color: #434B5C;\n",
              "      box-shadow: 0px 1px 3px 1px rgba(0, 0, 0, 0.15);\n",
              "      filter: drop-shadow(0px 1px 2px rgba(0, 0, 0, 0.3));\n",
              "      fill: #FFFFFF;\n",
              "    }\n",
              "  </style>\n",
              "\n",
              "      <script>\n",
              "        const buttonEl =\n",
              "          document.querySelector('#df-2664123c-859a-4bc3-af2c-1b9a0ef58396 button.colab-df-convert');\n",
              "        buttonEl.style.display =\n",
              "          google.colab.kernel.accessAllowed ? 'block' : 'none';\n",
              "\n",
              "        async function convertToInteractive(key) {\n",
              "          const element = document.querySelector('#df-2664123c-859a-4bc3-af2c-1b9a0ef58396');\n",
              "          const dataTable =\n",
              "            await google.colab.kernel.invokeFunction('convertToInteractive',\n",
              "                                                     [key], {});\n",
              "          if (!dataTable) return;\n",
              "\n",
              "          const docLinkHtml = 'Like what you see? Visit the ' +\n",
              "            '<a target=\"_blank\" href=https://colab.research.google.com/notebooks/data_table.ipynb>data table notebook</a>'\n",
              "            + ' to learn more about interactive tables.';\n",
              "          element.innerHTML = '';\n",
              "          dataTable['output_type'] = 'display_data';\n",
              "          await google.colab.output.renderOutput(dataTable, element);\n",
              "          const docLink = document.createElement('div');\n",
              "          docLink.innerHTML = docLinkHtml;\n",
              "          element.appendChild(docLink);\n",
              "        }\n",
              "      </script>\n",
              "    </div>\n",
              "  </div>\n",
              "  "
            ]
          },
          "metadata": {},
          "execution_count": 353
        }
      ],
      "source": [
        "df.head()"
      ]
    },
    {
      "cell_type": "code",
      "execution_count": null,
      "metadata": {
        "id": "OpoMixV9Qcjm"
      },
      "outputs": [],
      "source": [
        "df['Ram'] = df['Ram'].str.extract('(\\d\\d?)',expand = True)\n",
        "df['Weight'] = df['Weight'].str.extract('(\\d\\.\\d\\d?|\\d)',expand = True)"
      ]
    },
    {
      "cell_type": "code",
      "execution_count": null,
      "metadata": {
        "colab": {
          "base_uri": "https://localhost:8080/",
          "height": 496
        },
        "id": "D3UjOcnyQcmM",
        "outputId": "7600555f-bd10-4e5a-ebc1-e5d5be87c876"
      },
      "outputs": [
        {
          "output_type": "execute_result",
          "data": {
            "text/plain": [
              "  Company   TypeName  Inches                    ScreenResolution  \\\n",
              "0   Apple  Ultrabook    13.3  IPS Panel Retina Display 2560x1600   \n",
              "1   Apple  Ultrabook    13.3                            1440x900   \n",
              "2      HP   Notebook    15.6                   Full HD 1920x1080   \n",
              "3   Apple  Ultrabook    15.4  IPS Panel Retina Display 2880x1800   \n",
              "4   Apple  Ultrabook    13.3  IPS Panel Retina Display 2560x1600   \n",
              "\n",
              "                          Cpu Ram               Memory  \\\n",
              "0        Intel Core i5 2.3GHz   8            128GB SSD   \n",
              "1        Intel Core i5 1.8GHz   8  128GB Flash Storage   \n",
              "2  Intel Core i5 7200U 2.5GHz   8            256GB SSD   \n",
              "3        Intel Core i7 2.7GHz  16            512GB SSD   \n",
              "4        Intel Core i5 3.1GHz   8            256GB SSD   \n",
              "\n",
              "                            Gpu  OpSys Weight        Price  \n",
              "0  Intel Iris Plus Graphics 640  macOS   1.37   71378.6832  \n",
              "1        Intel HD Graphics 6000  macOS   1.34   47895.5232  \n",
              "2         Intel HD Graphics 620  No OS   1.86   30636.0000  \n",
              "3            AMD Radeon Pro 455  macOS   1.83  135195.3360  \n",
              "4  Intel Iris Plus Graphics 650  macOS   1.37   96095.8080  "
            ],
            "text/html": [
              "\n",
              "  <div id=\"df-92086553-1727-455d-9bf5-042a097d0bc7\">\n",
              "    <div class=\"colab-df-container\">\n",
              "      <div>\n",
              "<style scoped>\n",
              "    .dataframe tbody tr th:only-of-type {\n",
              "        vertical-align: middle;\n",
              "    }\n",
              "\n",
              "    .dataframe tbody tr th {\n",
              "        vertical-align: top;\n",
              "    }\n",
              "\n",
              "    .dataframe thead th {\n",
              "        text-align: right;\n",
              "    }\n",
              "</style>\n",
              "<table border=\"1\" class=\"dataframe\">\n",
              "  <thead>\n",
              "    <tr style=\"text-align: right;\">\n",
              "      <th></th>\n",
              "      <th>Company</th>\n",
              "      <th>TypeName</th>\n",
              "      <th>Inches</th>\n",
              "      <th>ScreenResolution</th>\n",
              "      <th>Cpu</th>\n",
              "      <th>Ram</th>\n",
              "      <th>Memory</th>\n",
              "      <th>Gpu</th>\n",
              "      <th>OpSys</th>\n",
              "      <th>Weight</th>\n",
              "      <th>Price</th>\n",
              "    </tr>\n",
              "  </thead>\n",
              "  <tbody>\n",
              "    <tr>\n",
              "      <th>0</th>\n",
              "      <td>Apple</td>\n",
              "      <td>Ultrabook</td>\n",
              "      <td>13.3</td>\n",
              "      <td>IPS Panel Retina Display 2560x1600</td>\n",
              "      <td>Intel Core i5 2.3GHz</td>\n",
              "      <td>8</td>\n",
              "      <td>128GB SSD</td>\n",
              "      <td>Intel Iris Plus Graphics 640</td>\n",
              "      <td>macOS</td>\n",
              "      <td>1.37</td>\n",
              "      <td>71378.6832</td>\n",
              "    </tr>\n",
              "    <tr>\n",
              "      <th>1</th>\n",
              "      <td>Apple</td>\n",
              "      <td>Ultrabook</td>\n",
              "      <td>13.3</td>\n",
              "      <td>1440x900</td>\n",
              "      <td>Intel Core i5 1.8GHz</td>\n",
              "      <td>8</td>\n",
              "      <td>128GB Flash Storage</td>\n",
              "      <td>Intel HD Graphics 6000</td>\n",
              "      <td>macOS</td>\n",
              "      <td>1.34</td>\n",
              "      <td>47895.5232</td>\n",
              "    </tr>\n",
              "    <tr>\n",
              "      <th>2</th>\n",
              "      <td>HP</td>\n",
              "      <td>Notebook</td>\n",
              "      <td>15.6</td>\n",
              "      <td>Full HD 1920x1080</td>\n",
              "      <td>Intel Core i5 7200U 2.5GHz</td>\n",
              "      <td>8</td>\n",
              "      <td>256GB SSD</td>\n",
              "      <td>Intel HD Graphics 620</td>\n",
              "      <td>No OS</td>\n",
              "      <td>1.86</td>\n",
              "      <td>30636.0000</td>\n",
              "    </tr>\n",
              "    <tr>\n",
              "      <th>3</th>\n",
              "      <td>Apple</td>\n",
              "      <td>Ultrabook</td>\n",
              "      <td>15.4</td>\n",
              "      <td>IPS Panel Retina Display 2880x1800</td>\n",
              "      <td>Intel Core i7 2.7GHz</td>\n",
              "      <td>16</td>\n",
              "      <td>512GB SSD</td>\n",
              "      <td>AMD Radeon Pro 455</td>\n",
              "      <td>macOS</td>\n",
              "      <td>1.83</td>\n",
              "      <td>135195.3360</td>\n",
              "    </tr>\n",
              "    <tr>\n",
              "      <th>4</th>\n",
              "      <td>Apple</td>\n",
              "      <td>Ultrabook</td>\n",
              "      <td>13.3</td>\n",
              "      <td>IPS Panel Retina Display 2560x1600</td>\n",
              "      <td>Intel Core i5 3.1GHz</td>\n",
              "      <td>8</td>\n",
              "      <td>256GB SSD</td>\n",
              "      <td>Intel Iris Plus Graphics 650</td>\n",
              "      <td>macOS</td>\n",
              "      <td>1.37</td>\n",
              "      <td>96095.8080</td>\n",
              "    </tr>\n",
              "  </tbody>\n",
              "</table>\n",
              "</div>\n",
              "      <button class=\"colab-df-convert\" onclick=\"convertToInteractive('df-92086553-1727-455d-9bf5-042a097d0bc7')\"\n",
              "              title=\"Convert this dataframe to an interactive table.\"\n",
              "              style=\"display:none;\">\n",
              "        \n",
              "  <svg xmlns=\"http://www.w3.org/2000/svg\" height=\"24px\"viewBox=\"0 0 24 24\"\n",
              "       width=\"24px\">\n",
              "    <path d=\"M0 0h24v24H0V0z\" fill=\"none\"/>\n",
              "    <path d=\"M18.56 5.44l.94 2.06.94-2.06 2.06-.94-2.06-.94-.94-2.06-.94 2.06-2.06.94zm-11 1L8.5 8.5l.94-2.06 2.06-.94-2.06-.94L8.5 2.5l-.94 2.06-2.06.94zm10 10l.94 2.06.94-2.06 2.06-.94-2.06-.94-.94-2.06-.94 2.06-2.06.94z\"/><path d=\"M17.41 7.96l-1.37-1.37c-.4-.4-.92-.59-1.43-.59-.52 0-1.04.2-1.43.59L10.3 9.45l-7.72 7.72c-.78.78-.78 2.05 0 2.83L4 21.41c.39.39.9.59 1.41.59.51 0 1.02-.2 1.41-.59l7.78-7.78 2.81-2.81c.8-.78.8-2.07 0-2.86zM5.41 20L4 18.59l7.72-7.72 1.47 1.35L5.41 20z\"/>\n",
              "  </svg>\n",
              "      </button>\n",
              "      \n",
              "  <style>\n",
              "    .colab-df-container {\n",
              "      display:flex;\n",
              "      flex-wrap:wrap;\n",
              "      gap: 12px;\n",
              "    }\n",
              "\n",
              "    .colab-df-convert {\n",
              "      background-color: #E8F0FE;\n",
              "      border: none;\n",
              "      border-radius: 50%;\n",
              "      cursor: pointer;\n",
              "      display: none;\n",
              "      fill: #1967D2;\n",
              "      height: 32px;\n",
              "      padding: 0 0 0 0;\n",
              "      width: 32px;\n",
              "    }\n",
              "\n",
              "    .colab-df-convert:hover {\n",
              "      background-color: #E2EBFA;\n",
              "      box-shadow: 0px 1px 2px rgba(60, 64, 67, 0.3), 0px 1px 3px 1px rgba(60, 64, 67, 0.15);\n",
              "      fill: #174EA6;\n",
              "    }\n",
              "\n",
              "    [theme=dark] .colab-df-convert {\n",
              "      background-color: #3B4455;\n",
              "      fill: #D2E3FC;\n",
              "    }\n",
              "\n",
              "    [theme=dark] .colab-df-convert:hover {\n",
              "      background-color: #434B5C;\n",
              "      box-shadow: 0px 1px 3px 1px rgba(0, 0, 0, 0.15);\n",
              "      filter: drop-shadow(0px 1px 2px rgba(0, 0, 0, 0.3));\n",
              "      fill: #FFFFFF;\n",
              "    }\n",
              "  </style>\n",
              "\n",
              "      <script>\n",
              "        const buttonEl =\n",
              "          document.querySelector('#df-92086553-1727-455d-9bf5-042a097d0bc7 button.colab-df-convert');\n",
              "        buttonEl.style.display =\n",
              "          google.colab.kernel.accessAllowed ? 'block' : 'none';\n",
              "\n",
              "        async function convertToInteractive(key) {\n",
              "          const element = document.querySelector('#df-92086553-1727-455d-9bf5-042a097d0bc7');\n",
              "          const dataTable =\n",
              "            await google.colab.kernel.invokeFunction('convertToInteractive',\n",
              "                                                     [key], {});\n",
              "          if (!dataTable) return;\n",
              "\n",
              "          const docLinkHtml = 'Like what you see? Visit the ' +\n",
              "            '<a target=\"_blank\" href=https://colab.research.google.com/notebooks/data_table.ipynb>data table notebook</a>'\n",
              "            + ' to learn more about interactive tables.';\n",
              "          element.innerHTML = '';\n",
              "          dataTable['output_type'] = 'display_data';\n",
              "          await google.colab.output.renderOutput(dataTable, element);\n",
              "          const docLink = document.createElement('div');\n",
              "          docLink.innerHTML = docLinkHtml;\n",
              "          element.appendChild(docLink);\n",
              "        }\n",
              "      </script>\n",
              "    </div>\n",
              "  </div>\n",
              "  "
            ]
          },
          "metadata": {},
          "execution_count": 355
        }
      ],
      "source": [
        "df.head()"
      ]
    },
    {
      "cell_type": "code",
      "execution_count": null,
      "metadata": {
        "colab": {
          "base_uri": "https://localhost:8080/"
        },
        "id": "3sL7G0BjQcpD",
        "outputId": "943131ee-e71e-487d-eb91-16ad739b7f04"
      },
      "outputs": [
        {
          "output_type": "stream",
          "name": "stdout",
          "text": [
            "<class 'pandas.core.frame.DataFrame'>\n",
            "RangeIndex: 1303 entries, 0 to 1302\n",
            "Data columns (total 11 columns):\n",
            " #   Column            Non-Null Count  Dtype  \n",
            "---  ------            --------------  -----  \n",
            " 0   Company           1303 non-null   object \n",
            " 1   TypeName          1303 non-null   object \n",
            " 2   Inches            1303 non-null   float64\n",
            " 3   ScreenResolution  1303 non-null   object \n",
            " 4   Cpu               1303 non-null   object \n",
            " 5   Ram               1303 non-null   object \n",
            " 6   Memory            1303 non-null   object \n",
            " 7   Gpu               1303 non-null   object \n",
            " 8   OpSys             1303 non-null   object \n",
            " 9   Weight            1303 non-null   object \n",
            " 10  Price             1303 non-null   float64\n",
            "dtypes: float64(2), object(9)\n",
            "memory usage: 112.1+ KB\n"
          ]
        }
      ],
      "source": [
        "df.info()"
      ]
    },
    {
      "cell_type": "code",
      "execution_count": null,
      "metadata": {
        "id": "zQxJ7-z-Ssdh"
      },
      "outputs": [],
      "source": [
        "df['Ram'] = df['Ram'].astype('int32')\n",
        "df['Weight'] = df['Weight'].astype('float32')"
      ]
    },
    {
      "cell_type": "code",
      "execution_count": null,
      "metadata": {
        "colab": {
          "base_uri": "https://localhost:8080/"
        },
        "id": "njrPtrEDSyxQ",
        "outputId": "79f349a6-765e-4258-9c9b-1b52b377fbc8"
      },
      "outputs": [
        {
          "output_type": "stream",
          "name": "stdout",
          "text": [
            "<class 'pandas.core.frame.DataFrame'>\n",
            "RangeIndex: 1303 entries, 0 to 1302\n",
            "Data columns (total 11 columns):\n",
            " #   Column            Non-Null Count  Dtype  \n",
            "---  ------            --------------  -----  \n",
            " 0   Company           1303 non-null   object \n",
            " 1   TypeName          1303 non-null   object \n",
            " 2   Inches            1303 non-null   float64\n",
            " 3   ScreenResolution  1303 non-null   object \n",
            " 4   Cpu               1303 non-null   object \n",
            " 5   Ram               1303 non-null   int32  \n",
            " 6   Memory            1303 non-null   object \n",
            " 7   Gpu               1303 non-null   object \n",
            " 8   OpSys             1303 non-null   object \n",
            " 9   Weight            1303 non-null   float32\n",
            " 10  Price             1303 non-null   float64\n",
            "dtypes: float32(1), float64(2), int32(1), object(7)\n",
            "memory usage: 101.9+ KB\n"
          ]
        }
      ],
      "source": [
        "df.info()"
      ]
    },
    {
      "cell_type": "code",
      "execution_count": null,
      "metadata": {
        "id": "Sz9-yfcMS1d8"
      },
      "outputs": [],
      "source": [
        "import seaborn as sns"
      ]
    },
    {
      "cell_type": "code",
      "execution_count": null,
      "metadata": {
        "colab": {
          "base_uri": "https://localhost:8080/",
          "height": 363
        },
        "id": "rVRJwHIKJCRw",
        "outputId": "cb1de16d-40e6-4da6-c17e-95b7645b9d8f"
      },
      "outputs": [
        {
          "output_type": "stream",
          "name": "stderr",
          "text": [
            "/usr/local/lib/python3.7/dist-packages/seaborn/distributions.py:2619: FutureWarning: `distplot` is a deprecated function and will be removed in a future version. Please adapt your code to use either `displot` (a figure-level function with similar flexibility) or `histplot` (an axes-level function for histograms).\n",
            "  warnings.warn(msg, FutureWarning)\n"
          ]
        },
        {
          "output_type": "execute_result",
          "data": {
            "text/plain": [
              "<matplotlib.axes._subplots.AxesSubplot at 0x7fa76a1e4e90>"
            ]
          },
          "metadata": {},
          "execution_count": 360
        },
        {
          "output_type": "display_data",
          "data": {
            "text/plain": [
              "<Figure size 432x288 with 1 Axes>"
            ],
            "image/png": "[encoded data removed]"
          },
          "metadata": {
            "needs_background": "light"
          }
        }
      ],
      "source": [
        "sns.distplot(df['Price'])"
      ]
    },
    {
      "cell_type": "code",
      "execution_count": null,
      "metadata": {
        "colab": {
          "base_uri": "https://localhost:8080/",
          "height": 325
        },
        "id": "-QCKQyPWJEtK",
        "outputId": "73317d82-e15f-4bf9-e894-88e6f956c7a5"
      },
      "outputs": [
        {
          "output_type": "execute_result",
          "data": {
            "text/plain": [
              "<matplotlib.axes._subplots.AxesSubplot at 0x7fa75ba5ff10>"
            ]
          },
          "metadata": {},
          "execution_count": 361
        },
        {
          "output_type": "display_data",
          "data": {
            "text/plain": [
              "<Figure size 432x288 with 1 Axes>"
            ],
            "image/png": "[encoded data removed]"
          },
          "metadata": {
            "needs_background": "light"
          }
        }
      ],
      "source": [
        "df['Company'].value_counts().plot(kind='bar')"
      ]
    },
    {
      "cell_type": "code",
      "execution_count": null,
      "metadata": {
        "colab": {
          "base_uri": "https://localhost:8080/",
          "height": 321
        },
        "id": "p5yMpoeJJRVj",
        "outputId": "8abb311e-6225-4986-8be2-1e982e30ff05"
      },
      "outputs": [
        {
          "output_type": "display_data",
          "data": {
            "text/plain": [
              "<Figure size 432x288 with 1 Axes>"
            ],
            "image/png": "[encoded data removed]"
          },
          "metadata": {
            "needs_background": "light"
          }
        }
      ],
      "source": [
        "sns.barplot(x=df['Company'],y=df['Price'])\n",
        "plt.xticks(rotation='vertical')\n",
        "plt.show()"
      ]
    },
    {
      "cell_type": "code",
      "execution_count": null,
      "metadata": {
        "colab": {
          "base_uri": "https://localhost:8080/",
          "height": 362
        },
        "id": "DUgmT7AcJ1jb",
        "outputId": "0fa9a57b-92f5-4849-ba4d-1a1d6a43eb22"
      },
      "outputs": [
        {
          "output_type": "execute_result",
          "data": {
            "text/plain": [
              "<matplotlib.axes._subplots.AxesSubplot at 0x7fa75b9e2910>"
            ]
          },
          "metadata": {},
          "execution_count": 363
        },
        {
          "output_type": "display_data",
          "data": {
            "text/plain": [
              "<Figure size 432x288 with 1 Axes>"
            ],
            "image/png": "[encoded data removed]"
          },
          "metadata": {
            "needs_background": "light"
          }
        }
      ],
      "source": [
        "df['TypeName'].value_counts().plot(kind='bar')"
      ]
    },
    {
      "cell_type": "code",
      "execution_count": null,
      "metadata": {
        "colab": {
          "base_uri": "https://localhost:8080/",
          "height": 359
        },
        "id": "tBe0Tch3KUxD",
        "outputId": "e0e788d2-068a-4086-c6e6-a11521b2a8c3"
      },
      "outputs": [
        {
          "output_type": "display_data",
          "data": {
            "text/plain": [
              "<Figure size 432x288 with 1 Axes>"
            ],
            "image/png": "[encoded data removed]"
          },
          "metadata": {
            "needs_background": "light"
          }
        }
      ],
      "source": [
        "sns.barplot(x=df['TypeName'],y=df['Price'])\n",
        "plt.xticks(rotation='vertical')\n",
        "plt.show()"
      ]
    },
    {
      "cell_type": "code",
      "execution_count": null,
      "metadata": {
        "colab": {
          "base_uri": "https://localhost:8080/",
          "height": 352
        },
        "id": "dBQNAaI_Kcao",
        "outputId": "442e9639-e691-41b9-8770-78fb94b91912"
      },
      "outputs": [
        {
          "output_type": "stream",
          "name": "stderr",
          "text": [
            "/usr/local/lib/python3.7/dist-packages/seaborn/distributions.py:2619: FutureWarning: `distplot` is a deprecated function and will be removed in a future version. Please adapt your code to use either `displot` (a figure-level function with similar flexibility) or `histplot` (an axes-level function for histograms).\n",
            "  warnings.warn(msg, FutureWarning)\n"
          ]
        },
        {
          "output_type": "execute_result",
          "data": {
            "text/plain": [
              "<matplotlib.axes._subplots.AxesSubplot at 0x7fa75b7f86d0>"
            ]
          },
          "metadata": {},
          "execution_count": 365
        },
        {
          "output_type": "display_data",
          "data": {
            "text/plain": [
              "<Figure size 432x288 with 1 Axes>"
            ],
            "image/png": "[encoded data removed]"
          },
          "metadata": {
            "needs_background": "light"
          }
        }
      ],
      "source": [
        "sns.distplot(df['Inches'])"
      ]
    },
    {
      "cell_type": "code",
      "execution_count": null,
      "metadata": {
        "colab": {
          "base_uri": "https://localhost:8080/"
        },
        "id": "A9qUrPJtKgbW",
        "outputId": "3aefc8a5-65d6-4ecd-e86d-500b43c2d0d4"
      },
      "outputs": [
        {
          "output_type": "execute_result",
          "data": {
            "text/plain": [
              "Full HD 1920x1080                                507\n",
              "1366x768                                         281\n",
              "IPS Panel Full HD 1920x1080                      230\n",
              "IPS Panel Full HD / Touchscreen 1920x1080         53\n",
              "Full HD / Touchscreen 1920x1080                   47\n",
              "1600x900                                          23\n",
              "Touchscreen 1366x768                              16\n",
              "Quad HD+ / Touchscreen 3200x1800                  15\n",
              "IPS Panel 4K Ultra HD 3840x2160                   12\n",
              "IPS Panel 4K Ultra HD / Touchscreen 3840x2160     11\n",
              "4K Ultra HD / Touchscreen 3840x2160               10\n",
              "4K Ultra HD 3840x2160                              7\n",
              "Touchscreen 2560x1440                              7\n",
              "IPS Panel 1366x768                                 7\n",
              "IPS Panel Quad HD+ / Touchscreen 3200x1800         6\n",
              "IPS Panel Retina Display 2560x1600                 6\n",
              "IPS Panel Retina Display 2304x1440                 6\n",
              "Touchscreen 2256x1504                              6\n",
              "IPS Panel Touchscreen 2560x1440                    5\n",
              "IPS Panel Retina Display 2880x1800                 4\n",
              "IPS Panel Touchscreen 1920x1200                    4\n",
              "1440x900                                           4\n",
              "IPS Panel 2560x1440                                4\n",
              "IPS Panel Quad HD+ 2560x1440                       3\n",
              "Quad HD+ 3200x1800                                 3\n",
              "1920x1080                                          3\n",
              "Touchscreen 2400x1600                              3\n",
              "2560x1440                                          3\n",
              "IPS Panel Touchscreen 1366x768                     3\n",
              "IPS Panel Touchscreen / 4K Ultra HD 3840x2160      2\n",
              "IPS Panel Full HD 2160x1440                        2\n",
              "IPS Panel Quad HD+ 3200x1800                       2\n",
              "IPS Panel Retina Display 2736x1824                 1\n",
              "IPS Panel Full HD 1920x1200                        1\n",
              "IPS Panel Full HD 2560x1440                        1\n",
              "IPS Panel Full HD 1366x768                         1\n",
              "Touchscreen / Full HD 1920x1080                    1\n",
              "Touchscreen / Quad HD+ 3200x1800                   1\n",
              "Touchscreen / 4K Ultra HD 3840x2160                1\n",
              "IPS Panel Touchscreen 2400x1600                    1\n",
              "Name: ScreenResolution, dtype: int64"
            ]
          },
          "metadata": {},
          "execution_count": 366
        }
      ],
      "source": [
        "df['ScreenResolution'].value_counts()"
      ]
    },
    {
      "cell_type": "code",
      "execution_count": null,
      "metadata": {
        "colab": {
          "base_uri": "https://localhost:8080/"
        },
        "id": "CY-6yvIYKkUJ",
        "outputId": "5e334ac1-936f-456b-d77f-1d35b7f4d837"
      },
      "outputs": [
        {
          "output_type": "stream",
          "name": "stdout",
          "text": [
            "TypeName  \n",
            "['Ultrabook' 'Notebook' 'Netbook' 'Gaming' '2 in 1 Convertible'\n",
            " 'Workstation']                                                                                                                         \n",
            "6         \n",
            "\n",
            "Cpu       \n",
            "['Intel Core i5 2.3GHz' 'Intel Core i5 1.8GHz'\n",
            " 'Intel Core i5 7200U 2.5GHz' 'Intel Core i7 2.7GHz'\n",
            " 'Intel Core i5 3.1GHz' 'AMD A9-Series 9420 3GHz' 'Intel Core i7 2.2GHz'\n",
            " 'Intel Core i7 8550U 1.8GHz' 'Intel Core i5 8250U 1.6GHz'\n",
            " 'Intel Core i3 6006U 2GHz' 'Intel Core i7 2.8GHz'\n",
            " 'Intel Core M m3 1.2GHz' 'Intel Core i7 7500U 2.7GHz'\n",
            " 'Intel Core i7 2.9GHz' 'Intel Core i3 7100U 2.4GHz'\n",
            " 'Intel Atom x5-Z8350 1.44GHz' 'Intel Core i5 7300HQ 2.5GHz'\n",
            " 'AMD E-Series E2-9000e 1.5GHz' 'Intel Core i5 1.6GHz'\n",
            " 'Intel Core i7 8650U 1.9GHz' 'Intel Atom x5-Z8300 1.44GHz'\n",
            " 'AMD E-Series E2-6110 1.5GHz' 'AMD A6-Series 9220 2.5GHz'\n",
            " 'Intel Celeron Dual Core N3350 1.1GHz' 'Intel Core i3 7130U 2.7GHz'\n",
            " 'Intel Core i7 7700HQ 2.8GHz' 'Intel Core i5 2.0GHz'\n",
            " 'AMD Ryzen 1700 3GHz' 'Intel Pentium Quad Core N4200 1.1GHz'\n",
            " 'Intel Atom x5-Z8550 1.44GHz' 'Intel Celeron Dual Core N3060 1.6GHz'\n",
            " 'Intel Core i5 1.3GHz' 'AMD FX 9830P 3GHz' 'Intel Core i7 7560U 2.4GHz'\n",
            " 'AMD E-Series 6110 1.5GHz' 'Intel Core i5 6200U 2.3GHz'\n",
            " 'Intel Core M 6Y75 1.2GHz' 'Intel Core i5 7500U 2.7GHz'\n",
            " 'Intel Core i3 6006U 2.2GHz' 'AMD A6-Series 9220 2.9GHz'\n",
            " 'Intel Core i7 6920HQ 2.9GHz' 'Intel Core i5 7Y54 1.2GHz'\n",
            " 'Intel Core i7 7820HK 2.9GHz' 'Intel Xeon E3-1505M V6 3GHz'\n",
            " 'Intel Core i7 6500U 2.5GHz' 'AMD E-Series 9000e 1.5GHz'\n",
            " 'AMD A10-Series A10-9620P 2.5GHz' 'AMD A6-Series A6-9220 2.5GHz'\n",
            " 'Intel Core i5 2.9GHz' 'Intel Core i7 6600U 2.6GHz'\n",
            " 'Intel Core i3 6006U 2.0GHz' 'Intel Celeron Dual Core 3205U 1.5GHz'\n",
            " 'Intel Core i7 7820HQ 2.9GHz' 'AMD A10-Series 9600P 2.4GHz'\n",
            " 'Intel Core i7 7600U 2.8GHz' 'AMD A8-Series 7410 2.2GHz'\n",
            " 'Intel Celeron Dual Core 3855U 1.6GHz'\n",
            " 'Intel Pentium Quad Core N3710 1.6GHz' 'AMD A12-Series 9720P 2.7GHz'\n",
            " 'Intel Core i5 7300U 2.6GHz' 'AMD A12-Series 9720P 3.6GHz'\n",
            " 'Intel Celeron Quad Core N3450 1.1GHz'\n",
            " 'Intel Celeron Dual Core N3060 1.60GHz' 'Intel Core i5 6440HQ 2.6GHz'\n",
            " 'Intel Core i7 6820HQ 2.7GHz' 'AMD Ryzen 1600 3.2GHz'\n",
            " 'Intel Core i7 7Y75 1.3GHz' 'Intel Core i5 7440HQ 2.8GHz'\n",
            " 'Intel Core i7 7660U 2.5GHz' 'Intel Core i7 7700HQ 2.7GHz'\n",
            " 'Intel Core M m3-7Y30 2.2GHz' 'Intel Core i5 7Y57 1.2GHz'\n",
            " 'Intel Core i7 6700HQ 2.6GHz' 'Intel Core i3 6100U 2.3GHz'\n",
            " 'AMD A10-Series 9620P 2.5GHz' 'AMD E-Series 7110 1.8GHz'\n",
            " 'Intel Celeron Dual Core N3350 2.0GHz' 'AMD A9-Series A9-9420 3GHz'\n",
            " 'Intel Core i7 6820HK 2.7GHz' 'Intel Core M 7Y30 1.0GHz'\n",
            " 'Intel Xeon E3-1535M v6 3.1GHz' 'Intel Celeron Quad Core N3160 1.6GHz'\n",
            " 'Intel Core i5 6300U 2.4GHz' 'Intel Core i3 6100U 2.1GHz'\n",
            " 'AMD E-Series E2-9000 2.2GHz' 'Intel Celeron Dual Core N3050 1.6GHz'\n",
            " 'Intel Core M M3-6Y30 0.9GHz' 'AMD A9-Series 9420 2.9GHz'\n",
            " 'Intel Core i5 6300HQ 2.3GHz' 'AMD A6-Series 7310 2GHz'\n",
            " 'Intel Atom Z8350 1.92GHz' 'Intel Xeon E3-1535M v5 2.9GHz'\n",
            " 'Intel Core i5 6260U 1.8GHz' 'Intel Pentium Dual Core N4200 1.1GHz'\n",
            " 'Intel Celeron Quad Core N3710 1.6GHz' 'Intel Core M 1.2GHz'\n",
            " 'AMD A12-Series 9700P 2.5GHz' 'Intel Core i7 7500U 2.5GHz'\n",
            " 'Intel Pentium Dual Core 4405U 2.1GHz' 'AMD A4-Series 7210 2.2GHz'\n",
            " 'Intel Core i7 6560U 2.2GHz' 'Intel Core M m7-6Y75 1.2GHz'\n",
            " 'AMD FX 8800P 2.1GHz' 'Intel Core M M7-6Y75 1.2GHz'\n",
            " 'Intel Core i5 7200U 2.50GHz' 'Intel Core i5 7200U 2.70GHz'\n",
            " 'Intel Atom X5-Z8350 1.44GHz' 'Intel Core i5 7200U 2.7GHz'\n",
            " 'Intel Core M 1.1GHz' 'Intel Pentium Dual Core 4405Y 1.5GHz'\n",
            " 'Intel Pentium Quad Core N3700 1.6GHz' 'Intel Core M 6Y54 1.1GHz'\n",
            " 'Intel Core i7 6500U 2.50GHz' 'Intel Celeron Dual Core N3350 2GHz'\n",
            " 'Samsung Cortex A72&A53 2.0GHz' 'AMD E-Series 9000 2.2GHz'\n",
            " 'Intel Core M 6Y30 0.9GHz' 'AMD A9-Series 9410 2.9GHz']\n",
            "118       \n",
            "\n",
            "Gpu       \n",
            "['Intel Iris Plus Graphics 640' 'Intel HD Graphics 6000'\n",
            " 'Intel HD Graphics 620' 'AMD Radeon Pro 455'\n",
            " 'Intel Iris Plus Graphics 650' 'AMD Radeon R5' 'Intel Iris Pro Graphics'\n",
            " 'Nvidia GeForce MX150' 'Intel UHD Graphics 620' 'Intel HD Graphics 520'\n",
            " 'AMD Radeon Pro 555' 'AMD Radeon R5 M430' 'Intel HD Graphics 615'\n",
            " 'AMD Radeon Pro 560' 'Nvidia GeForce 940MX' 'Intel HD Graphics 400'\n",
            " 'Nvidia GeForce GTX 1050' 'AMD Radeon R2' 'AMD Radeon 530'\n",
            " 'Nvidia GeForce 930MX' 'Intel HD Graphics' 'Intel HD Graphics 500'\n",
            " 'Nvidia GeForce 930MX ' 'Nvidia GeForce GTX 1060' 'Nvidia GeForce 150MX'\n",
            " 'Intel Iris Graphics 540' 'AMD Radeon RX 580' 'Nvidia GeForce 920MX'\n",
            " 'AMD Radeon R4 Graphics' 'AMD Radeon 520' 'Nvidia GeForce GTX 1070'\n",
            " 'Nvidia GeForce GTX 1050 Ti' 'Nvidia GeForce MX130' 'AMD R4 Graphics'\n",
            " 'Nvidia GeForce GTX 940MX' 'AMD Radeon RX 560' 'Nvidia GeForce 920M'\n",
            " 'AMD Radeon R7 M445' 'AMD Radeon RX 550' 'Nvidia GeForce GTX 1050M'\n",
            " 'Intel HD Graphics 515' 'AMD Radeon R5 M420' 'Intel HD Graphics 505'\n",
            " 'Nvidia GTX 980 SLI' 'AMD R17M-M1-70' 'Nvidia GeForce GTX 1080'\n",
            " 'Nvidia Quadro M1200' 'Nvidia GeForce 920MX ' 'Nvidia GeForce GTX 950M'\n",
            " 'AMD FirePro W4190M ' 'Nvidia GeForce GTX 980M' 'Intel Iris Graphics 550'\n",
            " 'Nvidia GeForce 930M' 'Intel HD Graphics 630' 'AMD Radeon R5 430'\n",
            " 'Nvidia GeForce GTX 940M' 'Intel HD Graphics 510' 'Intel HD Graphics 405'\n",
            " 'AMD Radeon RX 540' 'Nvidia GeForce GT 940MX' 'AMD FirePro W5130M'\n",
            " 'Nvidia Quadro M2200M' 'AMD Radeon R4' 'Nvidia Quadro M620'\n",
            " 'AMD Radeon R7 M460' 'Intel HD Graphics 530' 'Nvidia GeForce GTX 965M'\n",
            " 'Nvidia GeForce GTX1080' 'Nvidia GeForce GTX1050 Ti'\n",
            " 'Nvidia GeForce GTX 960M' 'AMD Radeon R2 Graphics' 'Nvidia Quadro M620M'\n",
            " 'Nvidia GeForce GTX 970M' 'Nvidia GeForce GTX 960<U+039C>'\n",
            " 'Intel Graphics 620' 'Nvidia GeForce GTX 960' 'AMD Radeon R5 520'\n",
            " 'AMD Radeon R7 M440' 'AMD Radeon R7' 'Nvidia Quadro M520M'\n",
            " 'Nvidia Quadro M2200' 'Nvidia Quadro M2000M' 'Intel HD Graphics 540'\n",
            " 'Nvidia Quadro M1000M' 'AMD Radeon 540' 'Nvidia GeForce GTX 1070M'\n",
            " 'Nvidia GeForce GTX1060' 'Intel HD Graphics 5300' 'AMD Radeon R5 M420X'\n",
            " 'AMD Radeon R7 Graphics' 'Nvidia GeForce 920' 'Nvidia GeForce 940M'\n",
            " 'Nvidia GeForce GTX 930MX' 'AMD Radeon R7 M465' 'AMD Radeon R3'\n",
            " 'Nvidia GeForce GTX 1050Ti' 'AMD Radeon R7 M365X' 'AMD Radeon R9 M385'\n",
            " 'Intel HD Graphics 620 ' 'Nvidia Quadro 3000M' 'Nvidia GeForce GTX 980 '\n",
            " 'AMD Radeon R5 M330' 'AMD FirePro W4190M' 'AMD FirePro W6150M'\n",
            " 'AMD Radeon R5 M315' 'Nvidia Quadro M500M' 'AMD Radeon R7 M360'\n",
            " 'Nvidia Quadro M3000M' 'Nvidia GeForce 960M' 'ARM Mali T860 MP4']\n",
            "110       \n",
            "\n",
            "Inches    \n",
            "[13.3 15.6 15.4 14.  12.  11.6 17.3 10.1 13.5 12.5 13.  18.4 13.9 12.3\n",
            " 17.  15.  14.1 11.3]                                                                                                            \n",
            "18        \n",
            "\n",
            "Ram       \n",
            "[ 8 16  4  2 12  6 32 24 64]                                                                                                                                                                            \n",
            "9         \n",
            "\n",
            "Memory    \n",
            "['128GB SSD' '128GB Flash Storage' '256GB SSD' '512GB SSD' '500GB HDD'\n",
            " '256GB Flash Storage' '1TB HDD' '32GB Flash Storage'\n",
            " '128GB SSD +  1TB HDD' '256GB SSD +  256GB SSD' '64GB Flash Storage'\n",
            " '256GB SSD +  1TB HDD' '256GB SSD +  2TB HDD' '32GB SSD' '2TB HDD'\n",
            " '64GB SSD' '1.0TB Hybrid' '512GB SSD +  1TB HDD' '1TB SSD'\n",
            " '256GB SSD +  500GB HDD' '128GB SSD +  2TB HDD' '512GB SSD +  512GB SSD'\n",
            " '16GB SSD' '16GB Flash Storage' '512GB SSD +  256GB SSD'\n",
            " '512GB SSD +  2TB HDD' '64GB Flash Storage +  1TB HDD' '180GB SSD'\n",
            " '1TB HDD +  1TB HDD' '32GB HDD' '1TB SSD +  1TB HDD'\n",
            " '512GB Flash Storage' '128GB HDD' '240GB SSD' '8GB SSD' '508GB Hybrid'\n",
            " '1.0TB HDD' '512GB SSD +  1.0TB Hybrid' '256GB SSD +  1.0TB Hybrid']\n",
            "39        \n",
            "\n",
            "OpSys     \n",
            "['macOS' 'No OS' 'Windows 10' 'Mac OS X' 'Linux' 'Android' 'Windows 10 S'\n",
            " 'Chrome OS' 'Windows 7']                                                                                                     \n",
            "9         \n",
            "\n",
            "Weight    \n",
            "[1.37 1.34 1.86 1.83 2.1  2.04 1.3  1.6  2.2  0.92 1.22 0.98 2.5  1.62\n",
            " 1.91 2.3  1.35 1.88 1.89 1.65 2.71 1.2  1.44 2.8  2.   2.65 2.77 3.2\n",
            " 0.69 1.49 2.4  2.13 2.43 1.7  1.4  1.8  1.9  3.   1.25 2.7  2.02 1.63\n",
            " 1.96 1.21 2.45 1.5  2.62 1.38 1.58 1.85 1.23 1.26 2.16 2.36 2.05 1.32\n",
            " 1.75 0.97 2.9  2.56 1.48 1.74 1.1  1.56 2.03 1.05 4.4  1.29 1.95 2.06\n",
            " 1.12 1.42 3.49 3.35 2.23 4.42 2.69 2.37 4.7  3.6  2.08 4.3  1.68 1.41\n",
            " 4.14 2.18 2.24 2.67 2.14 1.36 2.25 2.15 2.19 2.54 3.42 1.28 2.33 1.45\n",
            " 2.79 1.84 2.6  2.26 3.25 1.59 1.13 1.78 1.15 1.27 1.43 2.31 1.16 1.64\n",
            " 2.17 1.47 3.78 1.79 0.91 1.99 4.33 1.93 1.87 2.63 3.4  3.14 1.94 1.24\n",
            " 4.6  4.5  2.73 1.39 2.29 2.59 2.94 1.14 3.8  3.31 1.09 3.21 1.19 1.98\n",
            " 1.17 4.36 1.71 2.32 4.2  1.55 0.81 1.18 2.72 1.31 3.74 1.76 1.54 2.83\n",
            " 2.07 2.38 3.58 1.08 2.75 2.99 1.11 2.09 4.   0.99 3.52 2.21 3.3  2.34]\n",
            "168       \n",
            "\n"
          ]
        }
      ],
      "source": [
        "explorecols=['TypeName','Cpu','Gpu','Inches','Ram','Memory','OpSys','Weight']\n",
        "\n",
        "for i in explorecols:\n",
        "    print(\"%-10s\\n%-200s\\n%-10d\\n\"%(i,df[i].unique(),df[i].nunique()))"
      ]
    },
    {
      "cell_type": "code",
      "execution_count": null,
      "metadata": {
        "id": "4boYi15UMh5D"
      },
      "outputs": [],
      "source": [
        "df['Touchscreen'] = df['ScreenResolution'].apply(lambda x:1 if 'Touchscreen' in x else 0)"
      ]
    },
    {
      "cell_type": "code",
      "execution_count": null,
      "metadata": {
        "colab": {
          "base_uri": "https://localhost:8080/",
          "height": 496
        },
        "id": "bYupyIMWNOGC",
        "outputId": "db72b4db-8fd5-4970-d628-79897464ce0a"
      },
      "outputs": [
        {
          "output_type": "execute_result",
          "data": {
            "text/plain": [
              "  Company   TypeName  Inches                    ScreenResolution  \\\n",
              "0   Apple  Ultrabook    13.3  IPS Panel Retina Display 2560x1600   \n",
              "1   Apple  Ultrabook    13.3                            1440x900   \n",
              "2      HP   Notebook    15.6                   Full HD 1920x1080   \n",
              "3   Apple  Ultrabook    15.4  IPS Panel Retina Display 2880x1800   \n",
              "4   Apple  Ultrabook    13.3  IPS Panel Retina Display 2560x1600   \n",
              "\n",
              "                          Cpu  Ram               Memory  \\\n",
              "0        Intel Core i5 2.3GHz    8            128GB SSD   \n",
              "1        Intel Core i5 1.8GHz    8  128GB Flash Storage   \n",
              "2  Intel Core i5 7200U 2.5GHz    8            256GB SSD   \n",
              "3        Intel Core i7 2.7GHz   16            512GB SSD   \n",
              "4        Intel Core i5 3.1GHz    8            256GB SSD   \n",
              "\n",
              "                            Gpu  OpSys  Weight        Price  Touchscreen  \n",
              "0  Intel Iris Plus Graphics 640  macOS    1.37   71378.6832            0  \n",
              "1        Intel HD Graphics 6000  macOS    1.34   47895.5232            0  \n",
              "2         Intel HD Graphics 620  No OS    1.86   30636.0000            0  \n",
              "3            AMD Radeon Pro 455  macOS    1.83  135195.3360            0  \n",
              "4  Intel Iris Plus Graphics 650  macOS    1.37   96095.8080            0  "
            ],
            "text/html": [
              "\n",
              "  <div id=\"df-cb24fea7-ee52-4eb4-a9b6-681d3ded78b8\">\n",
              "    <div class=\"colab-df-container\">\n",
              "      <div>\n",
              "<style scoped>\n",
              "    .dataframe tbody tr th:only-of-type {\n",
              "        vertical-align: middle;\n",
              "    }\n",
              "\n",
              "    .dataframe tbody tr th {\n",
              "        vertical-align: top;\n",
              "    }\n",
              "\n",
              "    .dataframe thead th {\n",
              "        text-align: right;\n",
              "    }\n",
              "</style>\n",
              "<table border=\"1\" class=\"dataframe\">\n",
              "  <thead>\n",
              "    <tr style=\"text-align: right;\">\n",
              "      <th></th>\n",
              "      <th>Company</th>\n",
              "      <th>TypeName</th>\n",
              "      <th>Inches</th>\n",
              "      <th>ScreenResolution</th>\n",
              "      <th>Cpu</th>\n",
              "      <th>Ram</th>\n",
              "      <th>Memory</th>\n",
              "      <th>Gpu</th>\n",
              "      <th>OpSys</th>\n",
              "      <th>Weight</th>\n",
              "      <th>Price</th>\n",
              "      <th>Touchscreen</th>\n",
              "    </tr>\n",
              "  </thead>\n",
              "  <tbody>\n",
              "    <tr>\n",
              "      <th>0</th>\n",
              "      <td>Apple</td>\n",
              "      <td>Ultrabook</td>\n",
              "      <td>13.3</td>\n",
              "      <td>IPS Panel Retina Display 2560x1600</td>\n",
              "      <td>Intel Core i5 2.3GHz</td>\n",
              "      <td>8</td>\n",
              "      <td>128GB SSD</td>\n",
              "      <td>Intel Iris Plus Graphics 640</td>\n",
              "      <td>macOS</td>\n",
              "      <td>1.37</td>\n",
              "      <td>71378.6832</td>\n",
              "      <td>0</td>\n",
              "    </tr>\n",
              "    <tr>\n",
              "      <th>1</th>\n",
              "      <td>Apple</td>\n",
              "      <td>Ultrabook</td>\n",
              "      <td>13.3</td>\n",
              "      <td>1440x900</td>\n",
              "      <td>Intel Core i5 1.8GHz</td>\n",
              "      <td>8</td>\n",
              "      <td>128GB Flash Storage</td>\n",
              "      <td>Intel HD Graphics 6000</td>\n",
              "      <td>macOS</td>\n",
              "      <td>1.34</td>\n",
              "      <td>47895.5232</td>\n",
              "      <td>0</td>\n",
              "    </tr>\n",
              "    <tr>\n",
              "      <th>2</th>\n",
              "      <td>HP</td>\n",
              "      <td>Notebook</td>\n",
              "      <td>15.6</td>\n",
              "      <td>Full HD 1920x1080</td>\n",
              "      <td>Intel Core i5 7200U 2.5GHz</td>\n",
              "      <td>8</td>\n",
              "      <td>256GB SSD</td>\n",
              "      <td>Intel HD Graphics 620</td>\n",
              "      <td>No OS</td>\n",
              "      <td>1.86</td>\n",
              "      <td>30636.0000</td>\n",
              "      <td>0</td>\n",
              "    </tr>\n",
              "    <tr>\n",
              "      <th>3</th>\n",
              "      <td>Apple</td>\n",
              "      <td>Ultrabook</td>\n",
              "      <td>15.4</td>\n",
              "      <td>IPS Panel Retina Display 2880x1800</td>\n",
              "      <td>Intel Core i7 2.7GHz</td>\n",
              "      <td>16</td>\n",
              "      <td>512GB SSD</td>\n",
              "      <td>AMD Radeon Pro 455</td>\n",
              "      <td>macOS</td>\n",
              "      <td>1.83</td>\n",
              "      <td>135195.3360</td>\n",
              "      <td>0</td>\n",
              "    </tr>\n",
              "    <tr>\n",
              "      <th>4</th>\n",
              "      <td>Apple</td>\n",
              "      <td>Ultrabook</td>\n",
              "      <td>13.3</td>\n",
              "      <td>IPS Panel Retina Display 2560x1600</td>\n",
              "      <td>Intel Core i5 3.1GHz</td>\n",
              "      <td>8</td>\n",
              "      <td>256GB SSD</td>\n",
              "      <td>Intel Iris Plus Graphics 650</td>\n",
              "      <td>macOS</td>\n",
              "      <td>1.37</td>\n",
              "      <td>96095.8080</td>\n",
              "      <td>0</td>\n",
              "    </tr>\n",
              "  </tbody>\n",
              "</table>\n",
              "</div>\n",
              "      <button class=\"colab-df-convert\" onclick=\"convertToInteractive('df-cb24fea7-ee52-4eb4-a9b6-681d3ded78b8')\"\n",
              "              title=\"Convert this dataframe to an interactive table.\"\n",
              "              style=\"display:none;\">\n",
              "        \n",
              "  <svg xmlns=\"http://www.w3.org/2000/svg\" height=\"24px\"viewBox=\"0 0 24 24\"\n",
              "       width=\"24px\">\n",
              "    <path d=\"M0 0h24v24H0V0z\" fill=\"none\"/>\n",
              "    <path d=\"M18.56 5.44l.94 2.06.94-2.06 2.06-.94-2.06-.94-.94-2.06-.94 2.06-2.06.94zm-11 1L8.5 8.5l.94-2.06 2.06-.94-2.06-.94L8.5 2.5l-.94 2.06-2.06.94zm10 10l.94 2.06.94-2.06 2.06-.94-2.06-.94-.94-2.06-.94 2.06-2.06.94z\"/><path d=\"M17.41 7.96l-1.37-1.37c-.4-.4-.92-.59-1.43-.59-.52 0-1.04.2-1.43.59L10.3 9.45l-7.72 7.72c-.78.78-.78 2.05 0 2.83L4 21.41c.39.39.9.59 1.41.59.51 0 1.02-.2 1.41-.59l7.78-7.78 2.81-2.81c.8-.78.8-2.07 0-2.86zM5.41 20L4 18.59l7.72-7.72 1.47 1.35L5.41 20z\"/>\n",
              "  </svg>\n",
              "      </button>\n",
              "      \n",
              "  <style>\n",
              "    .colab-df-container {\n",
              "      display:flex;\n",
              "      flex-wrap:wrap;\n",
              "      gap: 12px;\n",
              "    }\n",
              "\n",
              "    .colab-df-convert {\n",
              "      background-color: #E8F0FE;\n",
              "      border: none;\n",
              "      border-radius: 50%;\n",
              "      cursor: pointer;\n",
              "      display: none;\n",
              "      fill: #1967D2;\n",
              "      height: 32px;\n",
              "      padding: 0 0 0 0;\n",
              "      width: 32px;\n",
              "    }\n",
              "\n",
              "    .colab-df-convert:hover {\n",
              "      background-color: #E2EBFA;\n",
              "      box-shadow: 0px 1px 2px rgba(60, 64, 67, 0.3), 0px 1px 3px 1px rgba(60, 64, 67, 0.15);\n",
              "      fill: #174EA6;\n",
              "    }\n",
              "\n",
              "    [theme=dark] .colab-df-convert {\n",
              "      background-color: #3B4455;\n",
              "      fill: #D2E3FC;\n",
              "    }\n",
              "\n",
              "    [theme=dark] .colab-df-convert:hover {\n",
              "      background-color: #434B5C;\n",
              "      box-shadow: 0px 1px 3px 1px rgba(0, 0, 0, 0.15);\n",
              "      filter: drop-shadow(0px 1px 2px rgba(0, 0, 0, 0.3));\n",
              "      fill: #FFFFFF;\n",
              "    }\n",
              "  </style>\n",
              "\n",
              "      <script>\n",
              "        const buttonEl =\n",
              "          document.querySelector('#df-cb24fea7-ee52-4eb4-a9b6-681d3ded78b8 button.colab-df-convert');\n",
              "        buttonEl.style.display =\n",
              "          google.colab.kernel.accessAllowed ? 'block' : 'none';\n",
              "\n",
              "        async function convertToInteractive(key) {\n",
              "          const element = document.querySelector('#df-cb24fea7-ee52-4eb4-a9b6-681d3ded78b8');\n",
              "          const dataTable =\n",
              "            await google.colab.kernel.invokeFunction('convertToInteractive',\n",
              "                                                     [key], {});\n",
              "          if (!dataTable) return;\n",
              "\n",
              "          const docLinkHtml = 'Like what you see? Visit the ' +\n",
              "            '<a target=\"_blank\" href=https://colab.research.google.com/notebooks/data_table.ipynb>data table notebook</a>'\n",
              "            + ' to learn more about interactive tables.';\n",
              "          element.innerHTML = '';\n",
              "          dataTable['output_type'] = 'display_data';\n",
              "          await google.colab.output.renderOutput(dataTable, element);\n",
              "          const docLink = document.createElement('div');\n",
              "          docLink.innerHTML = docLinkHtml;\n",
              "          element.appendChild(docLink);\n",
              "        }\n",
              "      </script>\n",
              "    </div>\n",
              "  </div>\n",
              "  "
            ]
          },
          "metadata": {},
          "execution_count": 369
        }
      ],
      "source": [
        "df.head()"
      ]
    },
    {
      "cell_type": "code",
      "execution_count": null,
      "metadata": {
        "colab": {
          "base_uri": "https://localhost:8080/",
          "height": 280
        },
        "id": "vl38X5aJNRdn",
        "outputId": "389429be-47c6-4bad-cde5-67899814e84c"
      },
      "outputs": [
        {
          "output_type": "execute_result",
          "data": {
            "text/plain": [
              "<matplotlib.axes._subplots.AxesSubplot at 0x7fa75b744dd0>"
            ]
          },
          "metadata": {},
          "execution_count": 370
        },
        {
          "output_type": "display_data",
          "data": {
            "text/plain": [
              "<Figure size 432x288 with 1 Axes>"
            ],
            "image/png": "[encoded data removed]"
          },
          "metadata": {
            "needs_background": "light"
          }
        }
      ],
      "source": [
        "df['Touchscreen'].value_counts().plot(kind='bar')"
      ]
    },
    {
      "cell_type": "code",
      "execution_count": null,
      "metadata": {
        "colab": {
          "base_uri": "https://localhost:8080/",
          "height": 297
        },
        "id": "BrPtBsZUNXBi",
        "outputId": "d8cb8ea0-cb13-449d-c82d-220b66a6c1d5"
      },
      "outputs": [
        {
          "output_type": "execute_result",
          "data": {
            "text/plain": [
              "<matplotlib.axes._subplots.AxesSubplot at 0x7fa75b6ae150>"
            ]
          },
          "metadata": {},
          "execution_count": 371
        },
        {
          "output_type": "display_data",
          "data": {
            "text/plain": [
              "<Figure size 432x288 with 1 Axes>"
            ],
            "image/png": "[encoded data removed]"
          },
          "metadata": {
            "needs_background": "light"
          }
        }
      ],
      "source": [
        "sns.barplot(x=df['Touchscreen'],y=df['Price'])"
      ]
    },
    {
      "cell_type": "code",
      "execution_count": null,
      "metadata": {
        "id": "RMOP1rXANY_m"
      },
      "outputs": [],
      "source": [
        "df['Ips'] = df['ScreenResolution'].apply(lambda x:1 if 'IPS' in x else 0)"
      ]
    },
    {
      "cell_type": "code",
      "execution_count": null,
      "metadata": {
        "colab": {
          "base_uri": "https://localhost:8080/",
          "height": 496
        },
        "id": "wKhm7R7FNcwb",
        "outputId": "f362624e-c750-4cf1-dd76-b59a3da71c52"
      },
      "outputs": [
        {
          "output_type": "execute_result",
          "data": {
            "text/plain": [
              "  Company   TypeName  Inches                    ScreenResolution  \\\n",
              "0   Apple  Ultrabook    13.3  IPS Panel Retina Display 2560x1600   \n",
              "1   Apple  Ultrabook    13.3                            1440x900   \n",
              "2      HP   Notebook    15.6                   Full HD 1920x1080   \n",
              "3   Apple  Ultrabook    15.4  IPS Panel Retina Display 2880x1800   \n",
              "4   Apple  Ultrabook    13.3  IPS Panel Retina Display 2560x1600   \n",
              "\n",
              "                          Cpu  Ram               Memory  \\\n",
              "0        Intel Core i5 2.3GHz    8            128GB SSD   \n",
              "1        Intel Core i5 1.8GHz    8  128GB Flash Storage   \n",
              "2  Intel Core i5 7200U 2.5GHz    8            256GB SSD   \n",
              "3        Intel Core i7 2.7GHz   16            512GB SSD   \n",
              "4        Intel Core i5 3.1GHz    8            256GB SSD   \n",
              "\n",
              "                            Gpu  OpSys  Weight        Price  Touchscreen  Ips  \n",
              "0  Intel Iris Plus Graphics 640  macOS    1.37   71378.6832            0    1  \n",
              "1        Intel HD Graphics 6000  macOS    1.34   47895.5232            0    0  \n",
              "2         Intel HD Graphics 620  No OS    1.86   30636.0000            0    0  \n",
              "3            AMD Radeon Pro 455  macOS    1.83  135195.3360            0    1  \n",
              "4  Intel Iris Plus Graphics 650  macOS    1.37   96095.8080            0    1  "
            ],
            "text/html": [
              "\n",
              "  <div id=\"df-04e31682-8031-428e-a24c-1496a8ea4b32\">\n",
              "    <div class=\"colab-df-container\">\n",
              "      <div>\n",
              "<style scoped>\n",
              "    .dataframe tbody tr th:only-of-type {\n",
              "        vertical-align: middle;\n",
              "    }\n",
              "\n",
              "    .dataframe tbody tr th {\n",
              "        vertical-align: top;\n",
              "    }\n",
              "\n",
              "    .dataframe thead th {\n",
              "        text-align: right;\n",
              "    }\n",
              "</style>\n",
              "<table border=\"1\" class=\"dataframe\">\n",
              "  <thead>\n",
              "    <tr style=\"text-align: right;\">\n",
              "      <th></th>\n",
              "      <th>Company</th>\n",
              "      <th>TypeName</th>\n",
              "      <th>Inches</th>\n",
              "      <th>ScreenResolution</th>\n",
              "      <th>Cpu</th>\n",
              "      <th>Ram</th>\n",
              "      <th>Memory</th>\n",
              "      <th>Gpu</th>\n",
              "      <th>OpSys</th>\n",
              "      <th>Weight</th>\n",
              "      <th>Price</th>\n",
              "      <th>Touchscreen</th>\n",
              "      <th>Ips</th>\n",
              "    </tr>\n",
              "  </thead>\n",
              "  <tbody>\n",
              "    <tr>\n",
              "      <th>0</th>\n",
              "      <td>Apple</td>\n",
              "      <td>Ultrabook</td>\n",
              "      <td>13.3</td>\n",
              "      <td>IPS Panel Retina Display 2560x1600</td>\n",
              "      <td>Intel Core i5 2.3GHz</td>\n",
              "      <td>8</td>\n",
              "      <td>128GB SSD</td>\n",
              "      <td>Intel Iris Plus Graphics 640</td>\n",
              "      <td>macOS</td>\n",
              "      <td>1.37</td>\n",
              "      <td>71378.6832</td>\n",
              "      <td>0</td>\n",
              "      <td>1</td>\n",
              "    </tr>\n",
              "    <tr>\n",
              "      <th>1</th>\n",
              "      <td>Apple</td>\n",
              "      <td>Ultrabook</td>\n",
              "      <td>13.3</td>\n",
              "      <td>1440x900</td>\n",
              "      <td>Intel Core i5 1.8GHz</td>\n",
              "      <td>8</td>\n",
              "      <td>128GB Flash Storage</td>\n",
              "      <td>Intel HD Graphics 6000</td>\n",
              "      <td>macOS</td>\n",
              "      <td>1.34</td>\n",
              "      <td>47895.5232</td>\n",
              "      <td>0</td>\n",
              "      <td>0</td>\n",
              "    </tr>\n",
              "    <tr>\n",
              "      <th>2</th>\n",
              "      <td>HP</td>\n",
              "      <td>Notebook</td>\n",
              "      <td>15.6</td>\n",
              "      <td>Full HD 1920x1080</td>\n",
              "      <td>Intel Core i5 7200U 2.5GHz</td>\n",
              "      <td>8</td>\n",
              "      <td>256GB SSD</td>\n",
              "      <td>Intel HD Graphics 620</td>\n",
              "      <td>No OS</td>\n",
              "      <td>1.86</td>\n",
              "      <td>30636.0000</td>\n",
              "      <td>0</td>\n",
              "      <td>0</td>\n",
              "    </tr>\n",
              "    <tr>\n",
              "      <th>3</th>\n",
              "      <td>Apple</td>\n",
              "      <td>Ultrabook</td>\n",
              "      <td>15.4</td>\n",
              "      <td>IPS Panel Retina Display 2880x1800</td>\n",
              "      <td>Intel Core i7 2.7GHz</td>\n",
              "      <td>16</td>\n",
              "      <td>512GB SSD</td>\n",
              "      <td>AMD Radeon Pro 455</td>\n",
              "      <td>macOS</td>\n",
              "      <td>1.83</td>\n",
              "      <td>135195.3360</td>\n",
              "      <td>0</td>\n",
              "      <td>1</td>\n",
              "    </tr>\n",
              "    <tr>\n",
              "      <th>4</th>\n",
              "      <td>Apple</td>\n",
              "      <td>Ultrabook</td>\n",
              "      <td>13.3</td>\n",
              "      <td>IPS Panel Retina Display 2560x1600</td>\n",
              "      <td>Intel Core i5 3.1GHz</td>\n",
              "      <td>8</td>\n",
              "      <td>256GB SSD</td>\n",
              "      <td>Intel Iris Plus Graphics 650</td>\n",
              "      <td>macOS</td>\n",
              "      <td>1.37</td>\n",
              "      <td>96095.8080</td>\n",
              "      <td>0</td>\n",
              "      <td>1</td>\n",
              "    </tr>\n",
              "  </tbody>\n",
              "</table>\n",
              "</div>\n",
              "      <button class=\"colab-df-convert\" onclick=\"convertToInteractive('df-04e31682-8031-428e-a24c-1496a8ea4b32')\"\n",
              "              title=\"Convert this dataframe to an interactive table.\"\n",
              "              style=\"display:none;\">\n",
              "        \n",
              "  <svg xmlns=\"http://www.w3.org/2000/svg\" height=\"24px\"viewBox=\"0 0 24 24\"\n",
              "       width=\"24px\">\n",
              "    <path d=\"M0 0h24v24H0V0z\" fill=\"none\"/>\n",
              "    <path d=\"M18.56 5.44l.94 2.06.94-2.06 2.06-.94-2.06-.94-.94-2.06-.94 2.06-2.06.94zm-11 1L8.5 8.5l.94-2.06 2.06-.94-2.06-.94L8.5 2.5l-.94 2.06-2.06.94zm10 10l.94 2.06.94-2.06 2.06-.94-2.06-.94-.94-2.06-.94 2.06-2.06.94z\"/><path d=\"M17.41 7.96l-1.37-1.37c-.4-.4-.92-.59-1.43-.59-.52 0-1.04.2-1.43.59L10.3 9.45l-7.72 7.72c-.78.78-.78 2.05 0 2.83L4 21.41c.39.39.9.59 1.41.59.51 0 1.02-.2 1.41-.59l7.78-7.78 2.81-2.81c.8-.78.8-2.07 0-2.86zM5.41 20L4 18.59l7.72-7.72 1.47 1.35L5.41 20z\"/>\n",
              "  </svg>\n",
              "      </button>\n",
              "      \n",
              "  <style>\n",
              "    .colab-df-container {\n",
              "      display:flex;\n",
              "      flex-wrap:wrap;\n",
              "      gap: 12px;\n",
              "    }\n",
              "\n",
              "    .colab-df-convert {\n",
              "      background-color: #E8F0FE;\n",
              "      border: none;\n",
              "      border-radius: 50%;\n",
              "      cursor: pointer;\n",
              "      display: none;\n",
              "      fill: #1967D2;\n",
              "      height: 32px;\n",
              "      padding: 0 0 0 0;\n",
              "      width: 32px;\n",
              "    }\n",
              "\n",
              "    .colab-df-convert:hover {\n",
              "      background-color: #E2EBFA;\n",
              "      box-shadow: 0px 1px 2px rgba(60, 64, 67, 0.3), 0px 1px 3px 1px rgba(60, 64, 67, 0.15);\n",
              "      fill: #174EA6;\n",
              "    }\n",
              "\n",
              "    [theme=dark] .colab-df-convert {\n",
              "      background-color: #3B4455;\n",
              "      fill: #D2E3FC;\n",
              "    }\n",
              "\n",
              "    [theme=dark] .colab-df-convert:hover {\n",
              "      background-color: #434B5C;\n",
              "      box-shadow: 0px 1px 3px 1px rgba(0, 0, 0, 0.15);\n",
              "      filter: drop-shadow(0px 1px 2px rgba(0, 0, 0, 0.3));\n",
              "      fill: #FFFFFF;\n",
              "    }\n",
              "  </style>\n",
              "\n",
              "      <script>\n",
              "        const buttonEl =\n",
              "          document.querySelector('#df-04e31682-8031-428e-a24c-1496a8ea4b32 button.colab-df-convert');\n",
              "        buttonEl.style.display =\n",
              "          google.colab.kernel.accessAllowed ? 'block' : 'none';\n",
              "\n",
              "        async function convertToInteractive(key) {\n",
              "          const element = document.querySelector('#df-04e31682-8031-428e-a24c-1496a8ea4b32');\n",
              "          const dataTable =\n",
              "            await google.colab.kernel.invokeFunction('convertToInteractive',\n",
              "                                                     [key], {});\n",
              "          if (!dataTable) return;\n",
              "\n",
              "          const docLinkHtml = 'Like what you see? Visit the ' +\n",
              "            '<a target=\"_blank\" href=https://colab.research.google.com/notebooks/data_table.ipynb>data table notebook</a>'\n",
              "            + ' to learn more about interactive tables.';\n",
              "          element.innerHTML = '';\n",
              "          dataTable['output_type'] = 'display_data';\n",
              "          await google.colab.output.renderOutput(dataTable, element);\n",
              "          const docLink = document.createElement('div');\n",
              "          docLink.innerHTML = docLinkHtml;\n",
              "          element.appendChild(docLink);\n",
              "        }\n",
              "      </script>\n",
              "    </div>\n",
              "  </div>\n",
              "  "
            ]
          },
          "metadata": {},
          "execution_count": 373
        }
      ],
      "source": [
        "df.head()"
      ]
    },
    {
      "cell_type": "code",
      "execution_count": null,
      "metadata": {
        "colab": {
          "base_uri": "https://localhost:8080/",
          "height": 280
        },
        "id": "0D8M84EQNfCi",
        "outputId": "d196e9d7-ecb5-4eb7-d377-4bba50b9c3ee"
      },
      "outputs": [
        {
          "output_type": "execute_result",
          "data": {
            "text/plain": [
              "<matplotlib.axes._subplots.AxesSubplot at 0x7fa75b645150>"
            ]
          },
          "metadata": {},
          "execution_count": 374
        },
        {
          "output_type": "display_data",
          "data": {
            "text/plain": [
              "<Figure size 432x288 with 1 Axes>"
            ],
            "image/png": "[encoded data removed]"
          },
          "metadata": {
            "needs_background": "light"
          }
        }
      ],
      "source": [
        "df['Ips'].value_counts().plot(kind='bar')"
      ]
    },
    {
      "cell_type": "code",
      "execution_count": null,
      "metadata": {
        "colab": {
          "base_uri": "https://localhost:8080/",
          "height": 297
        },
        "id": "-6VOHjTRNhuB",
        "outputId": "ca6aab5e-d124-4f00-a747-4c6779a143e0"
      },
      "outputs": [
        {
          "output_type": "execute_result",
          "data": {
            "text/plain": [
              "<matplotlib.axes._subplots.AxesSubplot at 0x7fa75b7e2d90>"
            ]
          },
          "metadata": {},
          "execution_count": 375
        },
        {
          "output_type": "display_data",
          "data": {
            "text/plain": [
              "<Figure size 432x288 with 1 Axes>"
            ],
            "image/png": "[encoded data removed]"
          },
          "metadata": {
            "needs_background": "light"
          }
        }
      ],
      "source": [
        "sns.barplot(x=df['Ips'],y=df['Price'])"
      ]
    },
    {
      "cell_type": "code",
      "execution_count": null,
      "metadata": {
        "id": "UnYjIKpqNkNt"
      },
      "outputs": [],
      "source": [
        "df['ScreenResolution_x']=df['ScreenResolution'].str.extract('(\\d\\d\\d\\d?)',expand=True)\n"
      ]
    },
    {
      "cell_type": "code",
      "execution_count": null,
      "metadata": {
        "colab": {
          "base_uri": "https://localhost:8080/",
          "height": 496
        },
        "id": "vc0dkoggN3vD",
        "outputId": "59020ab3-7669-4b0e-e749-f794367d140a"
      },
      "outputs": [
        {
          "output_type": "execute_result",
          "data": {
            "text/plain": [
              "  Company   TypeName  Inches                    ScreenResolution  \\\n",
              "0   Apple  Ultrabook    13.3  IPS Panel Retina Display 2560x1600   \n",
              "1   Apple  Ultrabook    13.3                            1440x900   \n",
              "2      HP   Notebook    15.6                   Full HD 1920x1080   \n",
              "3   Apple  Ultrabook    15.4  IPS Panel Retina Display 2880x1800   \n",
              "4   Apple  Ultrabook    13.3  IPS Panel Retina Display 2560x1600   \n",
              "\n",
              "                          Cpu  Ram               Memory  \\\n",
              "0        Intel Core i5 2.3GHz    8            128GB SSD   \n",
              "1        Intel Core i5 1.8GHz    8  128GB Flash Storage   \n",
              "2  Intel Core i5 7200U 2.5GHz    8            256GB SSD   \n",
              "3        Intel Core i7 2.7GHz   16            512GB SSD   \n",
              "4        Intel Core i5 3.1GHz    8            256GB SSD   \n",
              "\n",
              "                            Gpu  OpSys  Weight        Price  Touchscreen  Ips  \\\n",
              "0  Intel Iris Plus Graphics 640  macOS    1.37   71378.6832            0    1   \n",
              "1        Intel HD Graphics 6000  macOS    1.34   47895.5232            0    0   \n",
              "2         Intel HD Graphics 620  No OS    1.86   30636.0000            0    0   \n",
              "3            AMD Radeon Pro 455  macOS    1.83  135195.3360            0    1   \n",
              "4  Intel Iris Plus Graphics 650  macOS    1.37   96095.8080            0    1   \n",
              "\n",
              "  ScreenResolution_x  \n",
              "0               2560  \n",
              "1               1440  \n",
              "2               1920  \n",
              "3               2880  \n",
              "4               2560  "
            ],
            "text/html": [
              "\n",
              "  <div id=\"df-1a8a45df-f773-4471-bad0-848546e479b3\">\n",
              "    <div class=\"colab-df-container\">\n",
              "      <div>\n",
              "<style scoped>\n",
              "    .dataframe tbody tr th:only-of-type {\n",
              "        vertical-align: middle;\n",
              "    }\n",
              "\n",
              "    .dataframe tbody tr th {\n",
              "        vertical-align: top;\n",
              "    }\n",
              "\n",
              "    .dataframe thead th {\n",
              "        text-align: right;\n",
              "    }\n",
              "</style>\n",
              "<table border=\"1\" class=\"dataframe\">\n",
              "  <thead>\n",
              "    <tr style=\"text-align: right;\">\n",
              "      <th></th>\n",
              "      <th>Company</th>\n",
              "      <th>TypeName</th>\n",
              "      <th>Inches</th>\n",
              "      <th>ScreenResolution</th>\n",
              "      <th>Cpu</th>\n",
              "      <th>Ram</th>\n",
              "      <th>Memory</th>\n",
              "      <th>Gpu</th>\n",
              "      <th>OpSys</th>\n",
              "      <th>Weight</th>\n",
              "      <th>Price</th>\n",
              "      <th>Touchscreen</th>\n",
              "      <th>Ips</th>\n",
              "      <th>ScreenResolution_x</th>\n",
              "    </tr>\n",
              "  </thead>\n",
              "  <tbody>\n",
              "    <tr>\n",
              "      <th>0</th>\n",
              "      <td>Apple</td>\n",
              "      <td>Ultrabook</td>\n",
              "      <td>13.3</td>\n",
              "      <td>IPS Panel Retina Display 2560x1600</td>\n",
              "      <td>Intel Core i5 2.3GHz</td>\n",
              "      <td>8</td>\n",
              "      <td>128GB SSD</td>\n",
              "      <td>Intel Iris Plus Graphics 640</td>\n",
              "      <td>macOS</td>\n",
              "      <td>1.37</td>\n",
              "      <td>71378.6832</td>\n",
              "      <td>0</td>\n",
              "      <td>1</td>\n",
              "      <td>2560</td>\n",
              "    </tr>\n",
              "    <tr>\n",
              "      <th>1</th>\n",
              "      <td>Apple</td>\n",
              "      <td>Ultrabook</td>\n",
              "      <td>13.3</td>\n",
              "      <td>1440x900</td>\n",
              "      <td>Intel Core i5 1.8GHz</td>\n",
              "      <td>8</td>\n",
              "      <td>128GB Flash Storage</td>\n",
              "      <td>Intel HD Graphics 6000</td>\n",
              "      <td>macOS</td>\n",
              "      <td>1.34</td>\n",
              "      <td>47895.5232</td>\n",
              "      <td>0</td>\n",
              "      <td>0</td>\n",
              "      <td>1440</td>\n",
              "    </tr>\n",
              "    <tr>\n",
              "      <th>2</th>\n",
              "      <td>HP</td>\n",
              "      <td>Notebook</td>\n",
              "      <td>15.6</td>\n",
              "      <td>Full HD 1920x1080</td>\n",
              "      <td>Intel Core i5 7200U 2.5GHz</td>\n",
              "      <td>8</td>\n",
              "      <td>256GB SSD</td>\n",
              "      <td>Intel HD Graphics 620</td>\n",
              "      <td>No OS</td>\n",
              "      <td>1.86</td>\n",
              "      <td>30636.0000</td>\n",
              "      <td>0</td>\n",
              "      <td>0</td>\n",
              "      <td>1920</td>\n",
              "    </tr>\n",
              "    <tr>\n",
              "      <th>3</th>\n",
              "      <td>Apple</td>\n",
              "      <td>Ultrabook</td>\n",
              "      <td>15.4</td>\n",
              "      <td>IPS Panel Retina Display 2880x1800</td>\n",
              "      <td>Intel Core i7 2.7GHz</td>\n",
              "      <td>16</td>\n",
              "      <td>512GB SSD</td>\n",
              "      <td>AMD Radeon Pro 455</td>\n",
              "      <td>macOS</td>\n",
              "      <td>1.83</td>\n",
              "      <td>135195.3360</td>\n",
              "      <td>0</td>\n",
              "      <td>1</td>\n",
              "      <td>2880</td>\n",
              "    </tr>\n",
              "    <tr>\n",
              "      <th>4</th>\n",
              "      <td>Apple</td>\n",
              "      <td>Ultrabook</td>\n",
              "      <td>13.3</td>\n",
              "      <td>IPS Panel Retina Display 2560x1600</td>\n",
              "      <td>Intel Core i5 3.1GHz</td>\n",
              "      <td>8</td>\n",
              "      <td>256GB SSD</td>\n",
              "      <td>Intel Iris Plus Graphics 650</td>\n",
              "      <td>macOS</td>\n",
              "      <td>1.37</td>\n",
              "      <td>96095.8080</td>\n",
              "      <td>0</td>\n",
              "      <td>1</td>\n",
              "      <td>2560</td>\n",
              "    </tr>\n",
              "  </tbody>\n",
              "</table>\n",
              "</div>\n",
              "      <button class=\"colab-df-convert\" onclick=\"convertToInteractive('df-1a8a45df-f773-4471-bad0-848546e479b3')\"\n",
              "              title=\"Convert this dataframe to an interactive table.\"\n",
              "              style=\"display:none;\">\n",
              "        \n",
              "  <svg xmlns=\"http://www.w3.org/2000/svg\" height=\"24px\"viewBox=\"0 0 24 24\"\n",
              "       width=\"24px\">\n",
              "    <path d=\"M0 0h24v24H0V0z\" fill=\"none\"/>\n",
              "    <path d=\"M18.56 5.44l.94 2.06.94-2.06 2.06-.94-2.06-.94-.94-2.06-.94 2.06-2.06.94zm-11 1L8.5 8.5l.94-2.06 2.06-.94-2.06-.94L8.5 2.5l-.94 2.06-2.06.94zm10 10l.94 2.06.94-2.06 2.06-.94-2.06-.94-.94-2.06-.94 2.06-2.06.94z\"/><path d=\"M17.41 7.96l-1.37-1.37c-.4-.4-.92-.59-1.43-.59-.52 0-1.04.2-1.43.59L10.3 9.45l-7.72 7.72c-.78.78-.78 2.05 0 2.83L4 21.41c.39.39.9.59 1.41.59.51 0 1.02-.2 1.41-.59l7.78-7.78 2.81-2.81c.8-.78.8-2.07 0-2.86zM5.41 20L4 18.59l7.72-7.72 1.47 1.35L5.41 20z\"/>\n",
              "  </svg>\n",
              "      </button>\n",
              "      \n",
              "  <style>\n",
              "    .colab-df-container {\n",
              "      display:flex;\n",
              "      flex-wrap:wrap;\n",
              "      gap: 12px;\n",
              "    }\n",
              "\n",
              "    .colab-df-convert {\n",
              "      background-color: #E8F0FE;\n",
              "      border: none;\n",
              "      border-radius: 50%;\n",
              "      cursor: pointer;\n",
              "      display: none;\n",
              "      fill: #1967D2;\n",
              "      height: 32px;\n",
              "      padding: 0 0 0 0;\n",
              "      width: 32px;\n",
              "    }\n",
              "\n",
              "    .colab-df-convert:hover {\n",
              "      background-color: #E2EBFA;\n",
              "      box-shadow: 0px 1px 2px rgba(60, 64, 67, 0.3), 0px 1px 3px 1px rgba(60, 64, 67, 0.15);\n",
              "      fill: #174EA6;\n",
              "    }\n",
              "\n",
              "    [theme=dark] .colab-df-convert {\n",
              "      background-color: #3B4455;\n",
              "      fill: #D2E3FC;\n",
              "    }\n",
              "\n",
              "    [theme=dark] .colab-df-convert:hover {\n",
              "      background-color: #434B5C;\n",
              "      box-shadow: 0px 1px 3px 1px rgba(0, 0, 0, 0.15);\n",
              "      filter: drop-shadow(0px 1px 2px rgba(0, 0, 0, 0.3));\n",
              "      fill: #FFFFFF;\n",
              "    }\n",
              "  </style>\n",
              "\n",
              "      <script>\n",
              "        const buttonEl =\n",
              "          document.querySelector('#df-1a8a45df-f773-4471-bad0-848546e479b3 button.colab-df-convert');\n",
              "        buttonEl.style.display =\n",
              "          google.colab.kernel.accessAllowed ? 'block' : 'none';\n",
              "\n",
              "        async function convertToInteractive(key) {\n",
              "          const element = document.querySelector('#df-1a8a45df-f773-4471-bad0-848546e479b3');\n",
              "          const dataTable =\n",
              "            await google.colab.kernel.invokeFunction('convertToInteractive',\n",
              "                                                     [key], {});\n",
              "          if (!dataTable) return;\n",
              "\n",
              "          const docLinkHtml = 'Like what you see? Visit the ' +\n",
              "            '<a target=\"_blank\" href=https://colab.research.google.com/notebooks/data_table.ipynb>data table notebook</a>'\n",
              "            + ' to learn more about interactive tables.';\n",
              "          element.innerHTML = '';\n",
              "          dataTable['output_type'] = 'display_data';\n",
              "          await google.colab.output.renderOutput(dataTable, element);\n",
              "          const docLink = document.createElement('div');\n",
              "          docLink.innerHTML = docLinkHtml;\n",
              "          element.appendChild(docLink);\n",
              "        }\n",
              "      </script>\n",
              "    </div>\n",
              "  </div>\n",
              "  "
            ]
          },
          "metadata": {},
          "execution_count": 377
        }
      ],
      "source": [
        "df.head()"
      ]
    },
    {
      "cell_type": "code",
      "execution_count": null,
      "metadata": {
        "id": "48u3qXQpN5go"
      },
      "outputs": [],
      "source": [
        "df['ScreenResolution_z']=df['ScreenResolution'].str.extract('(x\\d\\d\\d\\d?)',expand=True)"
      ]
    },
    {
      "cell_type": "code",
      "execution_count": null,
      "metadata": {
        "colab": {
          "base_uri": "https://localhost:8080/",
          "height": 496
        },
        "id": "jHqcfWWYOXpB",
        "outputId": "42f01364-db55-4b14-d20e-420292183b9a"
      },
      "outputs": [
        {
          "output_type": "execute_result",
          "data": {
            "text/plain": [
              "  Company   TypeName  Inches                    ScreenResolution  \\\n",
              "0   Apple  Ultrabook    13.3  IPS Panel Retina Display 2560x1600   \n",
              "1   Apple  Ultrabook    13.3                            1440x900   \n",
              "2      HP   Notebook    15.6                   Full HD 1920x1080   \n",
              "3   Apple  Ultrabook    15.4  IPS Panel Retina Display 2880x1800   \n",
              "4   Apple  Ultrabook    13.3  IPS Panel Retina Display 2560x1600   \n",
              "\n",
              "                          Cpu  Ram               Memory  \\\n",
              "0        Intel Core i5 2.3GHz    8            128GB SSD   \n",
              "1        Intel Core i5 1.8GHz    8  128GB Flash Storage   \n",
              "2  Intel Core i5 7200U 2.5GHz    8            256GB SSD   \n",
              "3        Intel Core i7 2.7GHz   16            512GB SSD   \n",
              "4        Intel Core i5 3.1GHz    8            256GB SSD   \n",
              "\n",
              "                            Gpu  OpSys  Weight        Price  Touchscreen  Ips  \\\n",
              "0  Intel Iris Plus Graphics 640  macOS    1.37   71378.6832            0    1   \n",
              "1        Intel HD Graphics 6000  macOS    1.34   47895.5232            0    0   \n",
              "2         Intel HD Graphics 620  No OS    1.86   30636.0000            0    0   \n",
              "3            AMD Radeon Pro 455  macOS    1.83  135195.3360            0    1   \n",
              "4  Intel Iris Plus Graphics 650  macOS    1.37   96095.8080            0    1   \n",
              "\n",
              "  ScreenResolution_x ScreenResolution_z  \n",
              "0               2560              x1600  \n",
              "1               1440               x900  \n",
              "2               1920              x1080  \n",
              "3               2880              x1800  \n",
              "4               2560              x1600  "
            ],
            "text/html": [
              "\n",
              "  <div id=\"df-342a8fb2-77b7-40fa-aed6-037dbfb10711\">\n",
              "    <div class=\"colab-df-container\">\n",
              "      <div>\n",
              "<style scoped>\n",
              "    .dataframe tbody tr th:only-of-type {\n",
              "        vertical-align: middle;\n",
              "    }\n",
              "\n",
              "    .dataframe tbody tr th {\n",
              "        vertical-align: top;\n",
              "    }\n",
              "\n",
              "    .dataframe thead th {\n",
              "        text-align: right;\n",
              "    }\n",
              "</style>\n",
              "<table border=\"1\" class=\"dataframe\">\n",
              "  <thead>\n",
              "    <tr style=\"text-align: right;\">\n",
              "      <th></th>\n",
              "      <th>Company</th>\n",
              "      <th>TypeName</th>\n",
              "      <th>Inches</th>\n",
              "      <th>ScreenResolution</th>\n",
              "      <th>Cpu</th>\n",
              "      <th>Ram</th>\n",
              "      <th>Memory</th>\n",
              "      <th>Gpu</th>\n",
              "      <th>OpSys</th>\n",
              "      <th>Weight</th>\n",
              "      <th>Price</th>\n",
              "      <th>Touchscreen</th>\n",
              "      <th>Ips</th>\n",
              "      <th>ScreenResolution_x</th>\n",
              "      <th>ScreenResolution_z</th>\n",
              "    </tr>\n",
              "  </thead>\n",
              "  <tbody>\n",
              "    <tr>\n",
              "      <th>0</th>\n",
              "      <td>Apple</td>\n",
              "      <td>Ultrabook</td>\n",
              "      <td>13.3</td>\n",
              "      <td>IPS Panel Retina Display 2560x1600</td>\n",
              "      <td>Intel Core i5 2.3GHz</td>\n",
              "      <td>8</td>\n",
              "      <td>128GB SSD</td>\n",
              "      <td>Intel Iris Plus Graphics 640</td>\n",
              "      <td>macOS</td>\n",
              "      <td>1.37</td>\n",
              "      <td>71378.6832</td>\n",
              "      <td>0</td>\n",
              "      <td>1</td>\n",
              "      <td>2560</td>\n",
              "      <td>x1600</td>\n",
              "    </tr>\n",
              "    <tr>\n",
              "      <th>1</th>\n",
              "      <td>Apple</td>\n",
              "      <td>Ultrabook</td>\n",
              "      <td>13.3</td>\n",
              "      <td>1440x900</td>\n",
              "      <td>Intel Core i5 1.8GHz</td>\n",
              "      <td>8</td>\n",
              "      <td>128GB Flash Storage</td>\n",
              "      <td>Intel HD Graphics 6000</td>\n",
              "      <td>macOS</td>\n",
              "      <td>1.34</td>\n",
              "      <td>47895.5232</td>\n",
              "      <td>0</td>\n",
              "      <td>0</td>\n",
              "      <td>1440</td>\n",
              "      <td>x900</td>\n",
              "    </tr>\n",
              "    <tr>\n",
              "      <th>2</th>\n",
              "      <td>HP</td>\n",
              "      <td>Notebook</td>\n",
              "      <td>15.6</td>\n",
              "      <td>Full HD 1920x1080</td>\n",
              "      <td>Intel Core i5 7200U 2.5GHz</td>\n",
              "      <td>8</td>\n",
              "      <td>256GB SSD</td>\n",
              "      <td>Intel HD Graphics 620</td>\n",
              "      <td>No OS</td>\n",
              "      <td>1.86</td>\n",
              "      <td>30636.0000</td>\n",
              "      <td>0</td>\n",
              "      <td>0</td>\n",
              "      <td>1920</td>\n",
              "      <td>x1080</td>\n",
              "    </tr>\n",
              "    <tr>\n",
              "      <th>3</th>\n",
              "      <td>Apple</td>\n",
              "      <td>Ultrabook</td>\n",
              "      <td>15.4</td>\n",
              "      <td>IPS Panel Retina Display 2880x1800</td>\n",
              "      <td>Intel Core i7 2.7GHz</td>\n",
              "      <td>16</td>\n",
              "      <td>512GB SSD</td>\n",
              "      <td>AMD Radeon Pro 455</td>\n",
              "      <td>macOS</td>\n",
              "      <td>1.83</td>\n",
              "      <td>135195.3360</td>\n",
              "      <td>0</td>\n",
              "      <td>1</td>\n",
              "      <td>2880</td>\n",
              "      <td>x1800</td>\n",
              "    </tr>\n",
              "    <tr>\n",
              "      <th>4</th>\n",
              "      <td>Apple</td>\n",
              "      <td>Ultrabook</td>\n",
              "      <td>13.3</td>\n",
              "      <td>IPS Panel Retina Display 2560x1600</td>\n",
              "      <td>Intel Core i5 3.1GHz</td>\n",
              "      <td>8</td>\n",
              "      <td>256GB SSD</td>\n",
              "      <td>Intel Iris Plus Graphics 650</td>\n",
              "      <td>macOS</td>\n",
              "      <td>1.37</td>\n",
              "      <td>96095.8080</td>\n",
              "      <td>0</td>\n",
              "      <td>1</td>\n",
              "      <td>2560</td>\n",
              "      <td>x1600</td>\n",
              "    </tr>\n",
              "  </tbody>\n",
              "</table>\n",
              "</div>\n",
              "      <button class=\"colab-df-convert\" onclick=\"convertToInteractive('df-342a8fb2-77b7-40fa-aed6-037dbfb10711')\"\n",
              "              title=\"Convert this dataframe to an interactive table.\"\n",
              "              style=\"display:none;\">\n",
              "        \n",
              "  <svg xmlns=\"http://www.w3.org/2000/svg\" height=\"24px\"viewBox=\"0 0 24 24\"\n",
              "       width=\"24px\">\n",
              "    <path d=\"M0 0h24v24H0V0z\" fill=\"none\"/>\n",
              "    <path d=\"M18.56 5.44l.94 2.06.94-2.06 2.06-.94-2.06-.94-.94-2.06-.94 2.06-2.06.94zm-11 1L8.5 8.5l.94-2.06 2.06-.94-2.06-.94L8.5 2.5l-.94 2.06-2.06.94zm10 10l.94 2.06.94-2.06 2.06-.94-2.06-.94-.94-2.06-.94 2.06-2.06.94z\"/><path d=\"M17.41 7.96l-1.37-1.37c-.4-.4-.92-.59-1.43-.59-.52 0-1.04.2-1.43.59L10.3 9.45l-7.72 7.72c-.78.78-.78 2.05 0 2.83L4 21.41c.39.39.9.59 1.41.59.51 0 1.02-.2 1.41-.59l7.78-7.78 2.81-2.81c.8-.78.8-2.07 0-2.86zM5.41 20L4 18.59l7.72-7.72 1.47 1.35L5.41 20z\"/>\n",
              "  </svg>\n",
              "      </button>\n",
              "      \n",
              "  <style>\n",
              "    .colab-df-container {\n",
              "      display:flex;\n",
              "      flex-wrap:wrap;\n",
              "      gap: 12px;\n",
              "    }\n",
              "\n",
              "    .colab-df-convert {\n",
              "      background-color: #E8F0FE;\n",
              "      border: none;\n",
              "      border-radius: 50%;\n",
              "      cursor: pointer;\n",
              "      display: none;\n",
              "      fill: #1967D2;\n",
              "      height: 32px;\n",
              "      padding: 0 0 0 0;\n",
              "      width: 32px;\n",
              "    }\n",
              "\n",
              "    .colab-df-convert:hover {\n",
              "      background-color: #E2EBFA;\n",
              "      box-shadow: 0px 1px 2px rgba(60, 64, 67, 0.3), 0px 1px 3px 1px rgba(60, 64, 67, 0.15);\n",
              "      fill: #174EA6;\n",
              "    }\n",
              "\n",
              "    [theme=dark] .colab-df-convert {\n",
              "      background-color: #3B4455;\n",
              "      fill: #D2E3FC;\n",
              "    }\n",
              "\n",
              "    [theme=dark] .colab-df-convert:hover {\n",
              "      background-color: #434B5C;\n",
              "      box-shadow: 0px 1px 3px 1px rgba(0, 0, 0, 0.15);\n",
              "      filter: drop-shadow(0px 1px 2px rgba(0, 0, 0, 0.3));\n",
              "      fill: #FFFFFF;\n",
              "    }\n",
              "  </style>\n",
              "\n",
              "      <script>\n",
              "        const buttonEl =\n",
              "          document.querySelector('#df-342a8fb2-77b7-40fa-aed6-037dbfb10711 button.colab-df-convert');\n",
              "        buttonEl.style.display =\n",
              "          google.colab.kernel.accessAllowed ? 'block' : 'none';\n",
              "\n",
              "        async function convertToInteractive(key) {\n",
              "          const element = document.querySelector('#df-342a8fb2-77b7-40fa-aed6-037dbfb10711');\n",
              "          const dataTable =\n",
              "            await google.colab.kernel.invokeFunction('convertToInteractive',\n",
              "                                                     [key], {});\n",
              "          if (!dataTable) return;\n",
              "\n",
              "          const docLinkHtml = 'Like what you see? Visit the ' +\n",
              "            '<a target=\"_blank\" href=https://colab.research.google.com/notebooks/data_table.ipynb>data table notebook</a>'\n",
              "            + ' to learn more about interactive tables.';\n",
              "          element.innerHTML = '';\n",
              "          dataTable['output_type'] = 'display_data';\n",
              "          await google.colab.output.renderOutput(dataTable, element);\n",
              "          const docLink = document.createElement('div');\n",
              "          docLink.innerHTML = docLinkHtml;\n",
              "          element.appendChild(docLink);\n",
              "        }\n",
              "      </script>\n",
              "    </div>\n",
              "  </div>\n",
              "  "
            ]
          },
          "metadata": {},
          "execution_count": 379
        }
      ],
      "source": [
        "df.head()"
      ]
    },
    {
      "cell_type": "code",
      "execution_count": null,
      "metadata": {
        "id": "knoxZOjwOZeE"
      },
      "outputs": [],
      "source": [
        "df['ScreenResolution_y']=df['ScreenResolution_z'].str.extract('(\\d\\d\\d\\d?)',expand=True)"
      ]
    },
    {
      "cell_type": "code",
      "execution_count": null,
      "metadata": {
        "colab": {
          "base_uri": "https://localhost:8080/",
          "height": 496
        },
        "id": "kCKVY2axO-B_",
        "outputId": "9a21b130-510e-4a64-da86-2a266a49b4c9"
      },
      "outputs": [
        {
          "output_type": "execute_result",
          "data": {
            "text/plain": [
              "  Company   TypeName  Inches                    ScreenResolution  \\\n",
              "0   Apple  Ultrabook    13.3  IPS Panel Retina Display 2560x1600   \n",
              "1   Apple  Ultrabook    13.3                            1440x900   \n",
              "2      HP   Notebook    15.6                   Full HD 1920x1080   \n",
              "3   Apple  Ultrabook    15.4  IPS Panel Retina Display 2880x1800   \n",
              "4   Apple  Ultrabook    13.3  IPS Panel Retina Display 2560x1600   \n",
              "\n",
              "                          Cpu  Ram               Memory  \\\n",
              "0        Intel Core i5 2.3GHz    8            128GB SSD   \n",
              "1        Intel Core i5 1.8GHz    8  128GB Flash Storage   \n",
              "2  Intel Core i5 7200U 2.5GHz    8            256GB SSD   \n",
              "3        Intel Core i7 2.7GHz   16            512GB SSD   \n",
              "4        Intel Core i5 3.1GHz    8            256GB SSD   \n",
              "\n",
              "                            Gpu  OpSys  Weight        Price  Touchscreen  Ips  \\\n",
              "0  Intel Iris Plus Graphics 640  macOS    1.37   71378.6832            0    1   \n",
              "1        Intel HD Graphics 6000  macOS    1.34   47895.5232            0    0   \n",
              "2         Intel HD Graphics 620  No OS    1.86   30636.0000            0    0   \n",
              "3            AMD Radeon Pro 455  macOS    1.83  135195.3360            0    1   \n",
              "4  Intel Iris Plus Graphics 650  macOS    1.37   96095.8080            0    1   \n",
              "\n",
              "  ScreenResolution_x ScreenResolution_z ScreenResolution_y  \n",
              "0               2560              x1600               1600  \n",
              "1               1440               x900                900  \n",
              "2               1920              x1080               1080  \n",
              "3               2880              x1800               1800  \n",
              "4               2560              x1600               1600  "
            ],
            "text/html": [
              "\n",
              "  <div id=\"df-6d4bab83-5220-4af4-85e8-a49c900bea57\">\n",
              "    <div class=\"colab-df-container\">\n",
              "      <div>\n",
              "<style scoped>\n",
              "    .dataframe tbody tr th:only-of-type {\n",
              "        vertical-align: middle;\n",
              "    }\n",
              "\n",
              "    .dataframe tbody tr th {\n",
              "        vertical-align: top;\n",
              "    }\n",
              "\n",
              "    .dataframe thead th {\n",
              "        text-align: right;\n",
              "    }\n",
              "</style>\n",
              "<table border=\"1\" class=\"dataframe\">\n",
              "  <thead>\n",
              "    <tr style=\"text-align: right;\">\n",
              "      <th></th>\n",
              "      <th>Company</th>\n",
              "      <th>TypeName</th>\n",
              "      <th>Inches</th>\n",
              "      <th>ScreenResolution</th>\n",
              "      <th>Cpu</th>\n",
              "      <th>Ram</th>\n",
              "      <th>Memory</th>\n",
              "      <th>Gpu</th>\n",
              "      <th>OpSys</th>\n",
              "      <th>Weight</th>\n",
              "      <th>Price</th>\n",
              "      <th>Touchscreen</th>\n",
              "      <th>Ips</th>\n",
              "      <th>ScreenResolution_x</th>\n",
              "      <th>ScreenResolution_z</th>\n",
              "      <th>ScreenResolution_y</th>\n",
              "    </tr>\n",
              "  </thead>\n",
              "  <tbody>\n",
              "    <tr>\n",
              "      <th>0</th>\n",
              "      <td>Apple</td>\n",
              "      <td>Ultrabook</td>\n",
              "      <td>13.3</td>\n",
              "      <td>IPS Panel Retina Display 2560x1600</td>\n",
              "      <td>Intel Core i5 2.3GHz</td>\n",
              "      <td>8</td>\n",
              "      <td>128GB SSD</td>\n",
              "      <td>Intel Iris Plus Graphics 640</td>\n",
              "      <td>macOS</td>\n",
              "      <td>1.37</td>\n",
              "      <td>71378.6832</td>\n",
              "      <td>0</td>\n",
              "      <td>1</td>\n",
              "      <td>2560</td>\n",
              "      <td>x1600</td>\n",
              "      <td>1600</td>\n",
              "    </tr>\n",
              "    <tr>\n",
              "      <th>1</th>\n",
              "      <td>Apple</td>\n",
              "      <td>Ultrabook</td>\n",
              "      <td>13.3</td>\n",
              "      <td>1440x900</td>\n",
              "      <td>Intel Core i5 1.8GHz</td>\n",
              "      <td>8</td>\n",
              "      <td>128GB Flash Storage</td>\n",
              "      <td>Intel HD Graphics 6000</td>\n",
              "      <td>macOS</td>\n",
              "      <td>1.34</td>\n",
              "      <td>47895.5232</td>\n",
              "      <td>0</td>\n",
              "      <td>0</td>\n",
              "      <td>1440</td>\n",
              "      <td>x900</td>\n",
              "      <td>900</td>\n",
              "    </tr>\n",
              "    <tr>\n",
              "      <th>2</th>\n",
              "      <td>HP</td>\n",
              "      <td>Notebook</td>\n",
              "      <td>15.6</td>\n",
              "      <td>Full HD 1920x1080</td>\n",
              "      <td>Intel Core i5 7200U 2.5GHz</td>\n",
              "      <td>8</td>\n",
              "      <td>256GB SSD</td>\n",
              "      <td>Intel HD Graphics 620</td>\n",
              "      <td>No OS</td>\n",
              "      <td>1.86</td>\n",
              "      <td>30636.0000</td>\n",
              "      <td>0</td>\n",
              "      <td>0</td>\n",
              "      <td>1920</td>\n",
              "      <td>x1080</td>\n",
              "      <td>1080</td>\n",
              "    </tr>\n",
              "    <tr>\n",
              "      <th>3</th>\n",
              "      <td>Apple</td>\n",
              "      <td>Ultrabook</td>\n",
              "      <td>15.4</td>\n",
              "      <td>IPS Panel Retina Display 2880x1800</td>\n",
              "      <td>Intel Core i7 2.7GHz</td>\n",
              "      <td>16</td>\n",
              "      <td>512GB SSD</td>\n",
              "      <td>AMD Radeon Pro 455</td>\n",
              "      <td>macOS</td>\n",
              "      <td>1.83</td>\n",
              "      <td>135195.3360</td>\n",
              "      <td>0</td>\n",
              "      <td>1</td>\n",
              "      <td>2880</td>\n",
              "      <td>x1800</td>\n",
              "      <td>1800</td>\n",
              "    </tr>\n",
              "    <tr>\n",
              "      <th>4</th>\n",
              "      <td>Apple</td>\n",
              "      <td>Ultrabook</td>\n",
              "      <td>13.3</td>\n",
              "      <td>IPS Panel Retina Display 2560x1600</td>\n",
              "      <td>Intel Core i5 3.1GHz</td>\n",
              "      <td>8</td>\n",
              "      <td>256GB SSD</td>\n",
              "      <td>Intel Iris Plus Graphics 650</td>\n",
              "      <td>macOS</td>\n",
              "      <td>1.37</td>\n",
              "      <td>96095.8080</td>\n",
              "      <td>0</td>\n",
              "      <td>1</td>\n",
              "      <td>2560</td>\n",
              "      <td>x1600</td>\n",
              "      <td>1600</td>\n",
              "    </tr>\n",
              "  </tbody>\n",
              "</table>\n",
              "</div>\n",
              "      <button class=\"colab-df-convert\" onclick=\"convertToInteractive('df-6d4bab83-5220-4af4-85e8-a49c900bea57')\"\n",
              "              title=\"Convert this dataframe to an interactive table.\"\n",
              "              style=\"display:none;\">\n",
              "        \n",
              "  <svg xmlns=\"http://www.w3.org/2000/svg\" height=\"24px\"viewBox=\"0 0 24 24\"\n",
              "       width=\"24px\">\n",
              "    <path d=\"M0 0h24v24H0V0z\" fill=\"none\"/>\n",
              "    <path d=\"M18.56 5.44l.94 2.06.94-2.06 2.06-.94-2.06-.94-.94-2.06-.94 2.06-2.06.94zm-11 1L8.5 8.5l.94-2.06 2.06-.94-2.06-.94L8.5 2.5l-.94 2.06-2.06.94zm10 10l.94 2.06.94-2.06 2.06-.94-2.06-.94-.94-2.06-.94 2.06-2.06.94z\"/><path d=\"M17.41 7.96l-1.37-1.37c-.4-.4-.92-.59-1.43-.59-.52 0-1.04.2-1.43.59L10.3 9.45l-7.72 7.72c-.78.78-.78 2.05 0 2.83L4 21.41c.39.39.9.59 1.41.59.51 0 1.02-.2 1.41-.59l7.78-7.78 2.81-2.81c.8-.78.8-2.07 0-2.86zM5.41 20L4 18.59l7.72-7.72 1.47 1.35L5.41 20z\"/>\n",
              "  </svg>\n",
              "      </button>\n",
              "      \n",
              "  <style>\n",
              "    .colab-df-container {\n",
              "      display:flex;\n",
              "      flex-wrap:wrap;\n",
              "      gap: 12px;\n",
              "    }\n",
              "\n",
              "    .colab-df-convert {\n",
              "      background-color: #E8F0FE;\n",
              "      border: none;\n",
              "      border-radius: 50%;\n",
              "      cursor: pointer;\n",
              "      display: none;\n",
              "      fill: #1967D2;\n",
              "      height: 32px;\n",
              "      padding: 0 0 0 0;\n",
              "      width: 32px;\n",
              "    }\n",
              "\n",
              "    .colab-df-convert:hover {\n",
              "      background-color: #E2EBFA;\n",
              "      box-shadow: 0px 1px 2px rgba(60, 64, 67, 0.3), 0px 1px 3px 1px rgba(60, 64, 67, 0.15);\n",
              "      fill: #174EA6;\n",
              "    }\n",
              "\n",
              "    [theme=dark] .colab-df-convert {\n",
              "      background-color: #3B4455;\n",
              "      fill: #D2E3FC;\n",
              "    }\n",
              "\n",
              "    [theme=dark] .colab-df-convert:hover {\n",
              "      background-color: #434B5C;\n",
              "      box-shadow: 0px 1px 3px 1px rgba(0, 0, 0, 0.15);\n",
              "      filter: drop-shadow(0px 1px 2px rgba(0, 0, 0, 0.3));\n",
              "      fill: #FFFFFF;\n",
              "    }\n",
              "  </style>\n",
              "\n",
              "      <script>\n",
              "        const buttonEl =\n",
              "          document.querySelector('#df-6d4bab83-5220-4af4-85e8-a49c900bea57 button.colab-df-convert');\n",
              "        buttonEl.style.display =\n",
              "          google.colab.kernel.accessAllowed ? 'block' : 'none';\n",
              "\n",
              "        async function convertToInteractive(key) {\n",
              "          const element = document.querySelector('#df-6d4bab83-5220-4af4-85e8-a49c900bea57');\n",
              "          const dataTable =\n",
              "            await google.colab.kernel.invokeFunction('convertToInteractive',\n",
              "                                                     [key], {});\n",
              "          if (!dataTable) return;\n",
              "\n",
              "          const docLinkHtml = 'Like what you see? Visit the ' +\n",
              "            '<a target=\"_blank\" href=https://colab.research.google.com/notebooks/data_table.ipynb>data table notebook</a>'\n",
              "            + ' to learn more about interactive tables.';\n",
              "          element.innerHTML = '';\n",
              "          dataTable['output_type'] = 'display_data';\n",
              "          await google.colab.output.renderOutput(dataTable, element);\n",
              "          const docLink = document.createElement('div');\n",
              "          docLink.innerHTML = docLinkHtml;\n",
              "          element.appendChild(docLink);\n",
              "        }\n",
              "      </script>\n",
              "    </div>\n",
              "  </div>\n",
              "  "
            ]
          },
          "metadata": {},
          "execution_count": 381
        }
      ],
      "source": [
        "df.head()"
      ]
    },
    {
      "cell_type": "code",
      "execution_count": null,
      "metadata": {
        "id": "DoJHfSR6O_aU"
      },
      "outputs": [],
      "source": [
        "df.drop(columns = 'ScreenResolution_z',inplace = True)"
      ]
    },
    {
      "cell_type": "code",
      "execution_count": null,
      "metadata": {
        "colab": {
          "base_uri": "https://localhost:8080/",
          "height": 496
        },
        "id": "lvq6iHC1PTV6",
        "outputId": "05e0a548-e773-4b08-c063-e0e1e2dc14ca"
      },
      "outputs": [
        {
          "output_type": "execute_result",
          "data": {
            "text/plain": [
              "  Company   TypeName  Inches                    ScreenResolution  \\\n",
              "0   Apple  Ultrabook    13.3  IPS Panel Retina Display 2560x1600   \n",
              "1   Apple  Ultrabook    13.3                            1440x900   \n",
              "2      HP   Notebook    15.6                   Full HD 1920x1080   \n",
              "3   Apple  Ultrabook    15.4  IPS Panel Retina Display 2880x1800   \n",
              "4   Apple  Ultrabook    13.3  IPS Panel Retina Display 2560x1600   \n",
              "\n",
              "                          Cpu  Ram               Memory  \\\n",
              "0        Intel Core i5 2.3GHz    8            128GB SSD   \n",
              "1        Intel Core i5 1.8GHz    8  128GB Flash Storage   \n",
              "2  Intel Core i5 7200U 2.5GHz    8            256GB SSD   \n",
              "3        Intel Core i7 2.7GHz   16            512GB SSD   \n",
              "4        Intel Core i5 3.1GHz    8            256GB SSD   \n",
              "\n",
              "                            Gpu  OpSys  Weight        Price  Touchscreen  Ips  \\\n",
              "0  Intel Iris Plus Graphics 640  macOS    1.37   71378.6832            0    1   \n",
              "1        Intel HD Graphics 6000  macOS    1.34   47895.5232            0    0   \n",
              "2         Intel HD Graphics 620  No OS    1.86   30636.0000            0    0   \n",
              "3            AMD Radeon Pro 455  macOS    1.83  135195.3360            0    1   \n",
              "4  Intel Iris Plus Graphics 650  macOS    1.37   96095.8080            0    1   \n",
              "\n",
              "  ScreenResolution_x ScreenResolution_y  \n",
              "0               2560               1600  \n",
              "1               1440                900  \n",
              "2               1920               1080  \n",
              "3               2880               1800  \n",
              "4               2560               1600  "
            ],
            "text/html": [
              "\n",
              "  <div id=\"df-a3fb45dc-3901-4197-83fb-fb525ecb12d7\">\n",
              "    <div class=\"colab-df-container\">\n",
              "      <div>\n",
              "<style scoped>\n",
              "    .dataframe tbody tr th:only-of-type {\n",
              "        vertical-align: middle;\n",
              "    }\n",
              "\n",
              "    .dataframe tbody tr th {\n",
              "        vertical-align: top;\n",
              "    }\n",
              "\n",
              "    .dataframe thead th {\n",
              "        text-align: right;\n",
              "    }\n",
              "</style>\n",
              "<table border=\"1\" class=\"dataframe\">\n",
              "  <thead>\n",
              "    <tr style=\"text-align: right;\">\n",
              "      <th></th>\n",
              "      <th>Company</th>\n",
              "      <th>TypeName</th>\n",
              "      <th>Inches</th>\n",
              "      <th>ScreenResolution</th>\n",
              "      <th>Cpu</th>\n",
              "      <th>Ram</th>\n",
              "      <th>Memory</th>\n",
              "      <th>Gpu</th>\n",
              "      <th>OpSys</th>\n",
              "      <th>Weight</th>\n",
              "      <th>Price</th>\n",
              "      <th>Touchscreen</th>\n",
              "      <th>Ips</th>\n",
              "      <th>ScreenResolution_x</th>\n",
              "      <th>ScreenResolution_y</th>\n",
              "    </tr>\n",
              "  </thead>\n",
              "  <tbody>\n",
              "    <tr>\n",
              "      <th>0</th>\n",
              "      <td>Apple</td>\n",
              "      <td>Ultrabook</td>\n",
              "      <td>13.3</td>\n",
              "      <td>IPS Panel Retina Display 2560x1600</td>\n",
              "      <td>Intel Core i5 2.3GHz</td>\n",
              "      <td>8</td>\n",
              "      <td>128GB SSD</td>\n",
              "      <td>Intel Iris Plus Graphics 640</td>\n",
              "      <td>macOS</td>\n",
              "      <td>1.37</td>\n",
              "      <td>71378.6832</td>\n",
              "      <td>0</td>\n",
              "      <td>1</td>\n",
              "      <td>2560</td>\n",
              "      <td>1600</td>\n",
              "    </tr>\n",
              "    <tr>\n",
              "      <th>1</th>\n",
              "      <td>Apple</td>\n",
              "      <td>Ultrabook</td>\n",
              "      <td>13.3</td>\n",
              "      <td>1440x900</td>\n",
              "      <td>Intel Core i5 1.8GHz</td>\n",
              "      <td>8</td>\n",
              "      <td>128GB Flash Storage</td>\n",
              "      <td>Intel HD Graphics 6000</td>\n",
              "      <td>macOS</td>\n",
              "      <td>1.34</td>\n",
              "      <td>47895.5232</td>\n",
              "      <td>0</td>\n",
              "      <td>0</td>\n",
              "      <td>1440</td>\n",
              "      <td>900</td>\n",
              "    </tr>\n",
              "    <tr>\n",
              "      <th>2</th>\n",
              "      <td>HP</td>\n",
              "      <td>Notebook</td>\n",
              "      <td>15.6</td>\n",
              "      <td>Full HD 1920x1080</td>\n",
              "      <td>Intel Core i5 7200U 2.5GHz</td>\n",
              "      <td>8</td>\n",
              "      <td>256GB SSD</td>\n",
              "      <td>Intel HD Graphics 620</td>\n",
              "      <td>No OS</td>\n",
              "      <td>1.86</td>\n",
              "      <td>30636.0000</td>\n",
              "      <td>0</td>\n",
              "      <td>0</td>\n",
              "      <td>1920</td>\n",
              "      <td>1080</td>\n",
              "    </tr>\n",
              "    <tr>\n",
              "      <th>3</th>\n",
              "      <td>Apple</td>\n",
              "      <td>Ultrabook</td>\n",
              "      <td>15.4</td>\n",
              "      <td>IPS Panel Retina Display 2880x1800</td>\n",
              "      <td>Intel Core i7 2.7GHz</td>\n",
              "      <td>16</td>\n",
              "      <td>512GB SSD</td>\n",
              "      <td>AMD Radeon Pro 455</td>\n",
              "      <td>macOS</td>\n",
              "      <td>1.83</td>\n",
              "      <td>135195.3360</td>\n",
              "      <td>0</td>\n",
              "      <td>1</td>\n",
              "      <td>2880</td>\n",
              "      <td>1800</td>\n",
              "    </tr>\n",
              "    <tr>\n",
              "      <th>4</th>\n",
              "      <td>Apple</td>\n",
              "      <td>Ultrabook</td>\n",
              "      <td>13.3</td>\n",
              "      <td>IPS Panel Retina Display 2560x1600</td>\n",
              "      <td>Intel Core i5 3.1GHz</td>\n",
              "      <td>8</td>\n",
              "      <td>256GB SSD</td>\n",
              "      <td>Intel Iris Plus Graphics 650</td>\n",
              "      <td>macOS</td>\n",
              "      <td>1.37</td>\n",
              "      <td>96095.8080</td>\n",
              "      <td>0</td>\n",
              "      <td>1</td>\n",
              "      <td>2560</td>\n",
              "      <td>1600</td>\n",
              "    </tr>\n",
              "  </tbody>\n",
              "</table>\n",
              "</div>\n",
              "      <button class=\"colab-df-convert\" onclick=\"convertToInteractive('df-a3fb45dc-3901-4197-83fb-fb525ecb12d7')\"\n",
              "              title=\"Convert this dataframe to an interactive table.\"\n",
              "              style=\"display:none;\">\n",
              "        \n",
              "  <svg xmlns=\"http://www.w3.org/2000/svg\" height=\"24px\"viewBox=\"0 0 24 24\"\n",
              "       width=\"24px\">\n",
              "    <path d=\"M0 0h24v24H0V0z\" fill=\"none\"/>\n",
              "    <path d=\"M18.56 5.44l.94 2.06.94-2.06 2.06-.94-2.06-.94-.94-2.06-.94 2.06-2.06.94zm-11 1L8.5 8.5l.94-2.06 2.06-.94-2.06-.94L8.5 2.5l-.94 2.06-2.06.94zm10 10l.94 2.06.94-2.06 2.06-.94-2.06-.94-.94-2.06-.94 2.06-2.06.94z\"/><path d=\"M17.41 7.96l-1.37-1.37c-.4-.4-.92-.59-1.43-.59-.52 0-1.04.2-1.43.59L10.3 9.45l-7.72 7.72c-.78.78-.78 2.05 0 2.83L4 21.41c.39.39.9.59 1.41.59.51 0 1.02-.2 1.41-.59l7.78-7.78 2.81-2.81c.8-.78.8-2.07 0-2.86zM5.41 20L4 18.59l7.72-7.72 1.47 1.35L5.41 20z\"/>\n",
              "  </svg>\n",
              "      </button>\n",
              "      \n",
              "  <style>\n",
              "    .colab-df-container {\n",
              "      display:flex;\n",
              "      flex-wrap:wrap;\n",
              "      gap: 12px;\n",
              "    }\n",
              "\n",
              "    .colab-df-convert {\n",
              "      background-color: #E8F0FE;\n",
              "      border: none;\n",
              "      border-radius: 50%;\n",
              "      cursor: pointer;\n",
              "      display: none;\n",
              "      fill: #1967D2;\n",
              "      height: 32px;\n",
              "      padding: 0 0 0 0;\n",
              "      width: 32px;\n",
              "    }\n",
              "\n",
              "    .colab-df-convert:hover {\n",
              "      background-color: #E2EBFA;\n",
              "      box-shadow: 0px 1px 2px rgba(60, 64, 67, 0.3), 0px 1px 3px 1px rgba(60, 64, 67, 0.15);\n",
              "      fill: #174EA6;\n",
              "    }\n",
              "\n",
              "    [theme=dark] .colab-df-convert {\n",
              "      background-color: #3B4455;\n",
              "      fill: #D2E3FC;\n",
              "    }\n",
              "\n",
              "    [theme=dark] .colab-df-convert:hover {\n",
              "      background-color: #434B5C;\n",
              "      box-shadow: 0px 1px 3px 1px rgba(0, 0, 0, 0.15);\n",
              "      filter: drop-shadow(0px 1px 2px rgba(0, 0, 0, 0.3));\n",
              "      fill: #FFFFFF;\n",
              "    }\n",
              "  </style>\n",
              "\n",
              "      <script>\n",
              "        const buttonEl =\n",
              "          document.querySelector('#df-a3fb45dc-3901-4197-83fb-fb525ecb12d7 button.colab-df-convert');\n",
              "        buttonEl.style.display =\n",
              "          google.colab.kernel.accessAllowed ? 'block' : 'none';\n",
              "\n",
              "        async function convertToInteractive(key) {\n",
              "          const element = document.querySelector('#df-a3fb45dc-3901-4197-83fb-fb525ecb12d7');\n",
              "          const dataTable =\n",
              "            await google.colab.kernel.invokeFunction('convertToInteractive',\n",
              "                                                     [key], {});\n",
              "          if (!dataTable) return;\n",
              "\n",
              "          const docLinkHtml = 'Like what you see? Visit the ' +\n",
              "            '<a target=\"_blank\" href=https://colab.research.google.com/notebooks/data_table.ipynb>data table notebook</a>'\n",
              "            + ' to learn more about interactive tables.';\n",
              "          element.innerHTML = '';\n",
              "          dataTable['output_type'] = 'display_data';\n",
              "          await google.colab.output.renderOutput(dataTable, element);\n",
              "          const docLink = document.createElement('div');\n",
              "          docLink.innerHTML = docLinkHtml;\n",
              "          element.appendChild(docLink);\n",
              "        }\n",
              "      </script>\n",
              "    </div>\n",
              "  </div>\n",
              "  "
            ]
          },
          "metadata": {},
          "execution_count": 383
        }
      ],
      "source": [
        "df.head()"
      ]
    },
    {
      "cell_type": "code",
      "execution_count": null,
      "metadata": {
        "id": "mMK2otqzPiK4"
      },
      "outputs": [],
      "source": [
        "df['ScreenResolution_x'] = df['ScreenResolution_x'].astype('int')\n",
        "df['ScreenResolution_y'] = df['ScreenResolution_y'].astype('int')"
      ]
    },
    {
      "cell_type": "code",
      "execution_count": null,
      "metadata": {
        "colab": {
          "base_uri": "https://localhost:8080/"
        },
        "id": "x1Jdg_YSPx_z",
        "outputId": "b6aa6edf-8530-47dd-cca8-2cf7d7975ca9"
      },
      "outputs": [
        {
          "output_type": "stream",
          "name": "stdout",
          "text": [
            "<class 'pandas.core.frame.DataFrame'>\n",
            "RangeIndex: 1303 entries, 0 to 1302\n",
            "Data columns (total 15 columns):\n",
            " #   Column              Non-Null Count  Dtype  \n",
            "---  ------              --------------  -----  \n",
            " 0   Company             1303 non-null   object \n",
            " 1   TypeName            1303 non-null   object \n",
            " 2   Inches              1303 non-null   float64\n",
            " 3   ScreenResolution    1303 non-null   object \n",
            " 4   Cpu                 1303 non-null   object \n",
            " 5   Ram                 1303 non-null   int32  \n",
            " 6   Memory              1303 non-null   object \n",
            " 7   Gpu                 1303 non-null   object \n",
            " 8   OpSys               1303 non-null   object \n",
            " 9   Weight              1303 non-null   float32\n",
            " 10  Price               1303 non-null   float64\n",
            " 11  Touchscreen         1303 non-null   int64  \n",
            " 12  Ips                 1303 non-null   int64  \n",
            " 13  ScreenResolution_x  1303 non-null   int64  \n",
            " 14  ScreenResolution_y  1303 non-null   int64  \n",
            "dtypes: float32(1), float64(2), int32(1), int64(4), object(7)\n",
            "memory usage: 142.6+ KB\n"
          ]
        }
      ],
      "source": [
        "df.info()"
      ]
    },
    {
      "cell_type": "code",
      "execution_count": null,
      "metadata": {
        "id": "cOaZokwTPzV5"
      },
      "outputs": [],
      "source": [
        "df['ppi'] = (((df['ScreenResolution_x']**2) + (df['ScreenResolution_y']**2))**0.5/df['Inches']).astype('float')"
      ]
    },
    {
      "cell_type": "code",
      "execution_count": null,
      "metadata": {
        "colab": {
          "base_uri": "https://localhost:8080/",
          "height": 496
        },
        "id": "fiFfpzTwQHPK",
        "outputId": "a5176f34-f68d-4312-fa48-933bc9cd91ce"
      },
      "outputs": [
        {
          "output_type": "execute_result",
          "data": {
            "text/plain": [
              "  Company   TypeName  Inches                    ScreenResolution  \\\n",
              "0   Apple  Ultrabook    13.3  IPS Panel Retina Display 2560x1600   \n",
              "1   Apple  Ultrabook    13.3                            1440x900   \n",
              "2      HP   Notebook    15.6                   Full HD 1920x1080   \n",
              "3   Apple  Ultrabook    15.4  IPS Panel Retina Display 2880x1800   \n",
              "4   Apple  Ultrabook    13.3  IPS Panel Retina Display 2560x1600   \n",
              "\n",
              "                          Cpu  Ram               Memory  \\\n",
              "0        Intel Core i5 2.3GHz    8            128GB SSD   \n",
              "1        Intel Core i5 1.8GHz    8  128GB Flash Storage   \n",
              "2  Intel Core i5 7200U 2.5GHz    8            256GB SSD   \n",
              "3        Intel Core i7 2.7GHz   16            512GB SSD   \n",
              "4        Intel Core i5 3.1GHz    8            256GB SSD   \n",
              "\n",
              "                            Gpu  OpSys  Weight        Price  Touchscreen  Ips  \\\n",
              "0  Intel Iris Plus Graphics 640  macOS    1.37   71378.6832            0    1   \n",
              "1        Intel HD Graphics 6000  macOS    1.34   47895.5232            0    0   \n",
              "2         Intel HD Graphics 620  No OS    1.86   30636.0000            0    0   \n",
              "3            AMD Radeon Pro 455  macOS    1.83  135195.3360            0    1   \n",
              "4  Intel Iris Plus Graphics 650  macOS    1.37   96095.8080            0    1   \n",
              "\n",
              "   ScreenResolution_x  ScreenResolution_y         ppi  \n",
              "0                2560                1600  226.983005  \n",
              "1                1440                 900  127.677940  \n",
              "2                1920                1080  141.211998  \n",
              "3                2880                1800  220.534624  \n",
              "4                2560                1600  226.983005  "
            ],
            "text/html": [
              "\n",
              "  <div id=\"df-16e92333-2547-4935-842b-d334ead4e58c\">\n",
              "    <div class=\"colab-df-container\">\n",
              "      <div>\n",
              "<style scoped>\n",
              "    .dataframe tbody tr th:only-of-type {\n",
              "        vertical-align: middle;\n",
              "    }\n",
              "\n",
              "    .dataframe tbody tr th {\n",
              "        vertical-align: top;\n",
              "    }\n",
              "\n",
              "    .dataframe thead th {\n",
              "        text-align: right;\n",
              "    }\n",
              "</style>\n",
              "<table border=\"1\" class=\"dataframe\">\n",
              "  <thead>\n",
              "    <tr style=\"text-align: right;\">\n",
              "      <th></th>\n",
              "      <th>Company</th>\n",
              "      <th>TypeName</th>\n",
              "      <th>Inches</th>\n",
              "      <th>ScreenResolution</th>\n",
              "      <th>Cpu</th>\n",
              "      <th>Ram</th>\n",
              "      <th>Memory</th>\n",
              "      <th>Gpu</th>\n",
              "      <th>OpSys</th>\n",
              "      <th>Weight</th>\n",
              "      <th>Price</th>\n",
              "      <th>Touchscreen</th>\n",
              "      <th>Ips</th>\n",
              "      <th>ScreenResolution_x</th>\n",
              "      <th>ScreenResolution_y</th>\n",
              "      <th>ppi</th>\n",
              "    </tr>\n",
              "  </thead>\n",
              "  <tbody>\n",
              "    <tr>\n",
              "      <th>0</th>\n",
              "      <td>Apple</td>\n",
              "      <td>Ultrabook</td>\n",
              "      <td>13.3</td>\n",
              "      <td>IPS Panel Retina Display 2560x1600</td>\n",
              "      <td>Intel Core i5 2.3GHz</td>\n",
              "      <td>8</td>\n",
              "      <td>128GB SSD</td>\n",
              "      <td>Intel Iris Plus Graphics 640</td>\n",
              "      <td>macOS</td>\n",
              "      <td>1.37</td>\n",
              "      <td>71378.6832</td>\n",
              "      <td>0</td>\n",
              "      <td>1</td>\n",
              "      <td>2560</td>\n",
              "      <td>1600</td>\n",
              "      <td>226.983005</td>\n",
              "    </tr>\n",
              "    <tr>\n",
              "      <th>1</th>\n",
              "      <td>Apple</td>\n",
              "      <td>Ultrabook</td>\n",
              "      <td>13.3</td>\n",
              "      <td>1440x900</td>\n",
              "      <td>Intel Core i5 1.8GHz</td>\n",
              "      <td>8</td>\n",
              "      <td>128GB Flash Storage</td>\n",
              "      <td>Intel HD Graphics 6000</td>\n",
              "      <td>macOS</td>\n",
              "      <td>1.34</td>\n",
              "      <td>47895.5232</td>\n",
              "      <td>0</td>\n",
              "      <td>0</td>\n",
              "      <td>1440</td>\n",
              "      <td>900</td>\n",
              "      <td>127.677940</td>\n",
              "    </tr>\n",
              "    <tr>\n",
              "      <th>2</th>\n",
              "      <td>HP</td>\n",
              "      <td>Notebook</td>\n",
              "      <td>15.6</td>\n",
              "      <td>Full HD 1920x1080</td>\n",
              "      <td>Intel Core i5 7200U 2.5GHz</td>\n",
              "      <td>8</td>\n",
              "      <td>256GB SSD</td>\n",
              "      <td>Intel HD Graphics 620</td>\n",
              "      <td>No OS</td>\n",
              "      <td>1.86</td>\n",
              "      <td>30636.0000</td>\n",
              "      <td>0</td>\n",
              "      <td>0</td>\n",
              "      <td>1920</td>\n",
              "      <td>1080</td>\n",
              "      <td>141.211998</td>\n",
              "    </tr>\n",
              "    <tr>\n",
              "      <th>3</th>\n",
              "      <td>Apple</td>\n",
              "      <td>Ultrabook</td>\n",
              "      <td>15.4</td>\n",
              "      <td>IPS Panel Retina Display 2880x1800</td>\n",
              "      <td>Intel Core i7 2.7GHz</td>\n",
              "      <td>16</td>\n",
              "      <td>512GB SSD</td>\n",
              "      <td>AMD Radeon Pro 455</td>\n",
              "      <td>macOS</td>\n",
              "      <td>1.83</td>\n",
              "      <td>135195.3360</td>\n",
              "      <td>0</td>\n",
              "      <td>1</td>\n",
              "      <td>2880</td>\n",
              "      <td>1800</td>\n",
              "      <td>220.534624</td>\n",
              "    </tr>\n",
              "    <tr>\n",
              "      <th>4</th>\n",
              "      <td>Apple</td>\n",
              "      <td>Ultrabook</td>\n",
              "      <td>13.3</td>\n",
              "      <td>IPS Panel Retina Display 2560x1600</td>\n",
              "      <td>Intel Core i5 3.1GHz</td>\n",
              "      <td>8</td>\n",
              "      <td>256GB SSD</td>\n",
              "      <td>Intel Iris Plus Graphics 650</td>\n",
              "      <td>macOS</td>\n",
              "      <td>1.37</td>\n",
              "      <td>96095.8080</td>\n",
              "      <td>0</td>\n",
              "      <td>1</td>\n",
              "      <td>2560</td>\n",
              "      <td>1600</td>\n",
              "      <td>226.983005</td>\n",
              "    </tr>\n",
              "  </tbody>\n",
              "</table>\n",
              "</div>\n",
              "      <button class=\"colab-df-convert\" onclick=\"convertToInteractive('df-16e92333-2547-4935-842b-d334ead4e58c')\"\n",
              "              title=\"Convert this dataframe to an interactive table.\"\n",
              "              style=\"display:none;\">\n",
              "        \n",
              "  <svg xmlns=\"http://www.w3.org/2000/svg\" height=\"24px\"viewBox=\"0 0 24 24\"\n",
              "       width=\"24px\">\n",
              "    <path d=\"M0 0h24v24H0V0z\" fill=\"none\"/>\n",
              "    <path d=\"M18.56 5.44l.94 2.06.94-2.06 2.06-.94-2.06-.94-.94-2.06-.94 2.06-2.06.94zm-11 1L8.5 8.5l.94-2.06 2.06-.94-2.06-.94L8.5 2.5l-.94 2.06-2.06.94zm10 10l.94 2.06.94-2.06 2.06-.94-2.06-.94-.94-2.06-.94 2.06-2.06.94z\"/><path d=\"M17.41 7.96l-1.37-1.37c-.4-.4-.92-.59-1.43-.59-.52 0-1.04.2-1.43.59L10.3 9.45l-7.72 7.72c-.78.78-.78 2.05 0 2.83L4 21.41c.39.39.9.59 1.41.59.51 0 1.02-.2 1.41-.59l7.78-7.78 2.81-2.81c.8-.78.8-2.07 0-2.86zM5.41 20L4 18.59l7.72-7.72 1.47 1.35L5.41 20z\"/>\n",
              "  </svg>\n",
              "      </button>\n",
              "      \n",
              "  <style>\n",
              "    .colab-df-container {\n",
              "      display:flex;\n",
              "      flex-wrap:wrap;\n",
              "      gap: 12px;\n",
              "    }\n",
              "\n",
              "    .colab-df-convert {\n",
              "      background-color: #E8F0FE;\n",
              "      border: none;\n",
              "      border-radius: 50%;\n",
              "      cursor: pointer;\n",
              "      display: none;\n",
              "      fill: #1967D2;\n",
              "      height: 32px;\n",
              "      padding: 0 0 0 0;\n",
              "      width: 32px;\n",
              "    }\n",
              "\n",
              "    .colab-df-convert:hover {\n",
              "      background-color: #E2EBFA;\n",
              "      box-shadow: 0px 1px 2px rgba(60, 64, 67, 0.3), 0px 1px 3px 1px rgba(60, 64, 67, 0.15);\n",
              "      fill: #174EA6;\n",
              "    }\n",
              "\n",
              "    [theme=dark] .colab-df-convert {\n",
              "      background-color: #3B4455;\n",
              "      fill: #D2E3FC;\n",
              "    }\n",
              "\n",
              "    [theme=dark] .colab-df-convert:hover {\n",
              "      background-color: #434B5C;\n",
              "      box-shadow: 0px 1px 3px 1px rgba(0, 0, 0, 0.15);\n",
              "      filter: drop-shadow(0px 1px 2px rgba(0, 0, 0, 0.3));\n",
              "      fill: #FFFFFF;\n",
              "    }\n",
              "  </style>\n",
              "\n",
              "      <script>\n",
              "        const buttonEl =\n",
              "          document.querySelector('#df-16e92333-2547-4935-842b-d334ead4e58c button.colab-df-convert');\n",
              "        buttonEl.style.display =\n",
              "          google.colab.kernel.accessAllowed ? 'block' : 'none';\n",
              "\n",
              "        async function convertToInteractive(key) {\n",
              "          const element = document.querySelector('#df-16e92333-2547-4935-842b-d334ead4e58c');\n",
              "          const dataTable =\n",
              "            await google.colab.kernel.invokeFunction('convertToInteractive',\n",
              "                                                     [key], {});\n",
              "          if (!dataTable) return;\n",
              "\n",
              "          const docLinkHtml = 'Like what you see? Visit the ' +\n",
              "            '<a target=\"_blank\" href=https://colab.research.google.com/notebooks/data_table.ipynb>data table notebook</a>'\n",
              "            + ' to learn more about interactive tables.';\n",
              "          element.innerHTML = '';\n",
              "          dataTable['output_type'] = 'display_data';\n",
              "          await google.colab.output.renderOutput(dataTable, element);\n",
              "          const docLink = document.createElement('div');\n",
              "          docLink.innerHTML = docLinkHtml;\n",
              "          element.appendChild(docLink);\n",
              "        }\n",
              "      </script>\n",
              "    </div>\n",
              "  </div>\n",
              "  "
            ]
          },
          "metadata": {},
          "execution_count": 387
        }
      ],
      "source": [
        "df.head()"
      ]
    },
    {
      "cell_type": "code",
      "execution_count": null,
      "metadata": {
        "colab": {
          "base_uri": "https://localhost:8080/"
        },
        "id": "UFobSComQKQe",
        "outputId": "6ed4ca44-8ee7-478c-e24d-a9e05f01d52c"
      },
      "outputs": [
        {
          "output_type": "execute_result",
          "data": {
            "text/plain": [
              "Inches                0.068197\n",
              "Ram                   0.743007\n",
              "Weight                0.210366\n",
              "Price                 1.000000\n",
              "Touchscreen           0.191226\n",
              "Ips                   0.252208\n",
              "ScreenResolution_x    0.556529\n",
              "ScreenResolution_y    0.552809\n",
              "ppi                   0.473487\n",
              "Name: Price, dtype: float64"
            ]
          },
          "metadata": {},
          "execution_count": 388
        }
      ],
      "source": [
        "df.corr()['Price']"
      ]
    },
    {
      "cell_type": "code",
      "execution_count": null,
      "metadata": {
        "id": "9H0wOz55QONv"
      },
      "outputs": [],
      "source": [
        "df.drop(columns=['ScreenResolution'],inplace=True)"
      ]
    },
    {
      "cell_type": "code",
      "execution_count": null,
      "metadata": {
        "colab": {
          "base_uri": "https://localhost:8080/",
          "height": 496
        },
        "id": "GwWS_vLVQVKc",
        "outputId": "78b5e6a1-a5bf-4bc0-a805-6f0baaa34262"
      },
      "outputs": [
        {
          "output_type": "execute_result",
          "data": {
            "text/plain": [
              "  Company   TypeName  Inches                         Cpu  Ram  \\\n",
              "0   Apple  Ultrabook    13.3        Intel Core i5 2.3GHz    8   \n",
              "1   Apple  Ultrabook    13.3        Intel Core i5 1.8GHz    8   \n",
              "2      HP   Notebook    15.6  Intel Core i5 7200U 2.5GHz    8   \n",
              "3   Apple  Ultrabook    15.4        Intel Core i7 2.7GHz   16   \n",
              "4   Apple  Ultrabook    13.3        Intel Core i5 3.1GHz    8   \n",
              "\n",
              "                Memory                           Gpu  OpSys  Weight  \\\n",
              "0            128GB SSD  Intel Iris Plus Graphics 640  macOS    1.37   \n",
              "1  128GB Flash Storage        Intel HD Graphics 6000  macOS    1.34   \n",
              "2            256GB SSD         Intel HD Graphics 620  No OS    1.86   \n",
              "3            512GB SSD            AMD Radeon Pro 455  macOS    1.83   \n",
              "4            256GB SSD  Intel Iris Plus Graphics 650  macOS    1.37   \n",
              "\n",
              "         Price  Touchscreen  Ips  ScreenResolution_x  ScreenResolution_y  \\\n",
              "0   71378.6832            0    1                2560                1600   \n",
              "1   47895.5232            0    0                1440                 900   \n",
              "2   30636.0000            0    0                1920                1080   \n",
              "3  135195.3360            0    1                2880                1800   \n",
              "4   96095.8080            0    1                2560                1600   \n",
              "\n",
              "          ppi  \n",
              "0  226.983005  \n",
              "1  127.677940  \n",
              "2  141.211998  \n",
              "3  220.534624  \n",
              "4  226.983005  "
            ],
            "text/html": [
              "\n",
              "  <div id=\"df-00075e84-d816-457d-8230-219e9082f029\">\n",
              "    <div class=\"colab-df-container\">\n",
              "      <div>\n",
              "<style scoped>\n",
              "    .dataframe tbody tr th:only-of-type {\n",
              "        vertical-align: middle;\n",
              "    }\n",
              "\n",
              "    .dataframe tbody tr th {\n",
              "        vertical-align: top;\n",
              "    }\n",
              "\n",
              "    .dataframe thead th {\n",
              "        text-align: right;\n",
              "    }\n",
              "</style>\n",
              "<table border=\"1\" class=\"dataframe\">\n",
              "  <thead>\n",
              "    <tr style=\"text-align: right;\">\n",
              "      <th></th>\n",
              "      <th>Company</th>\n",
              "      <th>TypeName</th>\n",
              "      <th>Inches</th>\n",
              "      <th>Cpu</th>\n",
              "      <th>Ram</th>\n",
              "      <th>Memory</th>\n",
              "      <th>Gpu</th>\n",
              "      <th>OpSys</th>\n",
              "      <th>Weight</th>\n",
              "      <th>Price</th>\n",
              "      <th>Touchscreen</th>\n",
              "      <th>Ips</th>\n",
              "      <th>ScreenResolution_x</th>\n",
              "      <th>ScreenResolution_y</th>\n",
              "      <th>ppi</th>\n",
              "    </tr>\n",
              "  </thead>\n",
              "  <tbody>\n",
              "    <tr>\n",
              "      <th>0</th>\n",
              "      <td>Apple</td>\n",
              "      <td>Ultrabook</td>\n",
              "      <td>13.3</td>\n",
              "      <td>Intel Core i5 2.3GHz</td>\n",
              "      <td>8</td>\n",
              "      <td>128GB SSD</td>\n",
              "      <td>Intel Iris Plus Graphics 640</td>\n",
              "      <td>macOS</td>\n",
              "      <td>1.37</td>\n",
              "      <td>71378.6832</td>\n",
              "      <td>0</td>\n",
              "      <td>1</td>\n",
              "      <td>2560</td>\n",
              "      <td>1600</td>\n",
              "      <td>226.983005</td>\n",
              "    </tr>\n",
              "    <tr>\n",
              "      <th>1</th>\n",
              "      <td>Apple</td>\n",
              "      <td>Ultrabook</td>\n",
              "      <td>13.3</td>\n",
              "      <td>Intel Core i5 1.8GHz</td>\n",
              "      <td>8</td>\n",
              "      <td>128GB Flash Storage</td>\n",
              "      <td>Intel HD Graphics 6000</td>\n",
              "      <td>macOS</td>\n",
              "      <td>1.34</td>\n",
              "      <td>47895.5232</td>\n",
              "      <td>0</td>\n",
              "      <td>0</td>\n",
              "      <td>1440</td>\n",
              "      <td>900</td>\n",
              "      <td>127.677940</td>\n",
              "    </tr>\n",
              "    <tr>\n",
              "      <th>2</th>\n",
              "      <td>HP</td>\n",
              "      <td>Notebook</td>\n",
              "      <td>15.6</td>\n",
              "      <td>Intel Core i5 7200U 2.5GHz</td>\n",
              "      <td>8</td>\n",
              "      <td>256GB SSD</td>\n",
              "      <td>Intel HD Graphics 620</td>\n",
              "      <td>No OS</td>\n",
              "      <td>1.86</td>\n",
              "      <td>30636.0000</td>\n",
              "      <td>0</td>\n",
              "      <td>0</td>\n",
              "      <td>1920</td>\n",
              "      <td>1080</td>\n",
              "      <td>141.211998</td>\n",
              "    </tr>\n",
              "    <tr>\n",
              "      <th>3</th>\n",
              "      <td>Apple</td>\n",
              "      <td>Ultrabook</td>\n",
              "      <td>15.4</td>\n",
              "      <td>Intel Core i7 2.7GHz</td>\n",
              "      <td>16</td>\n",
              "      <td>512GB SSD</td>\n",
              "      <td>AMD Radeon Pro 455</td>\n",
              "      <td>macOS</td>\n",
              "      <td>1.83</td>\n",
              "      <td>135195.3360</td>\n",
              "      <td>0</td>\n",
              "      <td>1</td>\n",
              "      <td>2880</td>\n",
              "      <td>1800</td>\n",
              "      <td>220.534624</td>\n",
              "    </tr>\n",
              "    <tr>\n",
              "      <th>4</th>\n",
              "      <td>Apple</td>\n",
              "      <td>Ultrabook</td>\n",
              "      <td>13.3</td>\n",
              "      <td>Intel Core i5 3.1GHz</td>\n",
              "      <td>8</td>\n",
              "      <td>256GB SSD</td>\n",
              "      <td>Intel Iris Plus Graphics 650</td>\n",
              "      <td>macOS</td>\n",
              "      <td>1.37</td>\n",
              "      <td>96095.8080</td>\n",
              "      <td>0</td>\n",
              "      <td>1</td>\n",
              "      <td>2560</td>\n",
              "      <td>1600</td>\n",
              "      <td>226.983005</td>\n",
              "    </tr>\n",
              "  </tbody>\n",
              "</table>\n",
              "</div>\n",
              "      <button class=\"colab-df-convert\" onclick=\"convertToInteractive('df-00075e84-d816-457d-8230-219e9082f029')\"\n",
              "              title=\"Convert this dataframe to an interactive table.\"\n",
              "              style=\"display:none;\">\n",
              "        \n",
              "  <svg xmlns=\"http://www.w3.org/2000/svg\" height=\"24px\"viewBox=\"0 0 24 24\"\n",
              "       width=\"24px\">\n",
              "    <path d=\"M0 0h24v24H0V0z\" fill=\"none\"/>\n",
              "    <path d=\"M18.56 5.44l.94 2.06.94-2.06 2.06-.94-2.06-.94-.94-2.06-.94 2.06-2.06.94zm-11 1L8.5 8.5l.94-2.06 2.06-.94-2.06-.94L8.5 2.5l-.94 2.06-2.06.94zm10 10l.94 2.06.94-2.06 2.06-.94-2.06-.94-.94-2.06-.94 2.06-2.06.94z\"/><path d=\"M17.41 7.96l-1.37-1.37c-.4-.4-.92-.59-1.43-.59-.52 0-1.04.2-1.43.59L10.3 9.45l-7.72 7.72c-.78.78-.78 2.05 0 2.83L4 21.41c.39.39.9.59 1.41.59.51 0 1.02-.2 1.41-.59l7.78-7.78 2.81-2.81c.8-.78.8-2.07 0-2.86zM5.41 20L4 18.59l7.72-7.72 1.47 1.35L5.41 20z\"/>\n",
              "  </svg>\n",
              "      </button>\n",
              "      \n",
              "  <style>\n",
              "    .colab-df-container {\n",
              "      display:flex;\n",
              "      flex-wrap:wrap;\n",
              "      gap: 12px;\n",
              "    }\n",
              "\n",
              "    .colab-df-convert {\n",
              "      background-color: #E8F0FE;\n",
              "      border: none;\n",
              "      border-radius: 50%;\n",
              "      cursor: pointer;\n",
              "      display: none;\n",
              "      fill: #1967D2;\n",
              "      height: 32px;\n",
              "      padding: 0 0 0 0;\n",
              "      width: 32px;\n",
              "    }\n",
              "\n",
              "    .colab-df-convert:hover {\n",
              "      background-color: #E2EBFA;\n",
              "      box-shadow: 0px 1px 2px rgba(60, 64, 67, 0.3), 0px 1px 3px 1px rgba(60, 64, 67, 0.15);\n",
              "      fill: #174EA6;\n",
              "    }\n",
              "\n",
              "    [theme=dark] .colab-df-convert {\n",
              "      background-color: #3B4455;\n",
              "      fill: #D2E3FC;\n",
              "    }\n",
              "\n",
              "    [theme=dark] .colab-df-convert:hover {\n",
              "      background-color: #434B5C;\n",
              "      box-shadow: 0px 1px 3px 1px rgba(0, 0, 0, 0.15);\n",
              "      filter: drop-shadow(0px 1px 2px rgba(0, 0, 0, 0.3));\n",
              "      fill: #FFFFFF;\n",
              "    }\n",
              "  </style>\n",
              "\n",
              "      <script>\n",
              "        const buttonEl =\n",
              "          document.querySelector('#df-00075e84-d816-457d-8230-219e9082f029 button.colab-df-convert');\n",
              "        buttonEl.style.display =\n",
              "          google.colab.kernel.accessAllowed ? 'block' : 'none';\n",
              "\n",
              "        async function convertToInteractive(key) {\n",
              "          const element = document.querySelector('#df-00075e84-d816-457d-8230-219e9082f029');\n",
              "          const dataTable =\n",
              "            await google.colab.kernel.invokeFunction('convertToInteractive',\n",
              "                                                     [key], {});\n",
              "          if (!dataTable) return;\n",
              "\n",
              "          const docLinkHtml = 'Like what you see? Visit the ' +\n",
              "            '<a target=\"_blank\" href=https://colab.research.google.com/notebooks/data_table.ipynb>data table notebook</a>'\n",
              "            + ' to learn more about interactive tables.';\n",
              "          element.innerHTML = '';\n",
              "          dataTable['output_type'] = 'display_data';\n",
              "          await google.colab.output.renderOutput(dataTable, element);\n",
              "          const docLink = document.createElement('div');\n",
              "          docLink.innerHTML = docLinkHtml;\n",
              "          element.appendChild(docLink);\n",
              "        }\n",
              "      </script>\n",
              "    </div>\n",
              "  </div>\n",
              "  "
            ]
          },
          "metadata": {},
          "execution_count": 390
        }
      ],
      "source": [
        "df.head()"
      ]
    },
    {
      "cell_type": "code",
      "execution_count": null,
      "metadata": {
        "id": "Xj2nNz-tQXeW"
      },
      "outputs": [],
      "source": [
        "df.drop(columns=['Inches','ScreenResolution_x','ScreenResolution_y'],inplace=True)"
      ]
    },
    {
      "cell_type": "code",
      "execution_count": null,
      "metadata": {
        "colab": {
          "base_uri": "https://localhost:8080/",
          "height": 496
        },
        "id": "xtdLA76CQhmC",
        "outputId": "8a18a691-ad44-49e6-9c6c-08701bb5e4ff"
      },
      "outputs": [
        {
          "output_type": "execute_result",
          "data": {
            "text/plain": [
              "  Company   TypeName                         Cpu  Ram               Memory  \\\n",
              "0   Apple  Ultrabook        Intel Core i5 2.3GHz    8            128GB SSD   \n",
              "1   Apple  Ultrabook        Intel Core i5 1.8GHz    8  128GB Flash Storage   \n",
              "2      HP   Notebook  Intel Core i5 7200U 2.5GHz    8            256GB SSD   \n",
              "3   Apple  Ultrabook        Intel Core i7 2.7GHz   16            512GB SSD   \n",
              "4   Apple  Ultrabook        Intel Core i5 3.1GHz    8            256GB SSD   \n",
              "\n",
              "                            Gpu  OpSys  Weight        Price  Touchscreen  Ips  \\\n",
              "0  Intel Iris Plus Graphics 640  macOS    1.37   71378.6832            0    1   \n",
              "1        Intel HD Graphics 6000  macOS    1.34   47895.5232            0    0   \n",
              "2         Intel HD Graphics 620  No OS    1.86   30636.0000            0    0   \n",
              "3            AMD Radeon Pro 455  macOS    1.83  135195.3360            0    1   \n",
              "4  Intel Iris Plus Graphics 650  macOS    1.37   96095.8080            0    1   \n",
              "\n",
              "          ppi  \n",
              "0  226.983005  \n",
              "1  127.677940  \n",
              "2  141.211998  \n",
              "3  220.534624  \n",
              "4  226.983005  "
            ],
            "text/html": [
              "\n",
              "  <div id=\"df-0b66acfe-5a56-442e-aaeb-17d5e6630048\">\n",
              "    <div class=\"colab-df-container\">\n",
              "      <div>\n",
              "<style scoped>\n",
              "    .dataframe tbody tr th:only-of-type {\n",
              "        vertical-align: middle;\n",
              "    }\n",
              "\n",
              "    .dataframe tbody tr th {\n",
              "        vertical-align: top;\n",
              "    }\n",
              "\n",
              "    .dataframe thead th {\n",
              "        text-align: right;\n",
              "    }\n",
              "</style>\n",
              "<table border=\"1\" class=\"dataframe\">\n",
              "  <thead>\n",
              "    <tr style=\"text-align: right;\">\n",
              "      <th></th>\n",
              "      <th>Company</th>\n",
              "      <th>TypeName</th>\n",
              "      <th>Cpu</th>\n",
              "      <th>Ram</th>\n",
              "      <th>Memory</th>\n",
              "      <th>Gpu</th>\n",
              "      <th>OpSys</th>\n",
              "      <th>Weight</th>\n",
              "      <th>Price</th>\n",
              "      <th>Touchscreen</th>\n",
              "      <th>Ips</th>\n",
              "      <th>ppi</th>\n",
              "    </tr>\n",
              "  </thead>\n",
              "  <tbody>\n",
              "    <tr>\n",
              "      <th>0</th>\n",
              "      <td>Apple</td>\n",
              "      <td>Ultrabook</td>\n",
              "      <td>Intel Core i5 2.3GHz</td>\n",
              "      <td>8</td>\n",
              "      <td>128GB SSD</td>\n",
              "      <td>Intel Iris Plus Graphics 640</td>\n",
              "      <td>macOS</td>\n",
              "      <td>1.37</td>\n",
              "      <td>71378.6832</td>\n",
              "      <td>0</td>\n",
              "      <td>1</td>\n",
              "      <td>226.983005</td>\n",
              "    </tr>\n",
              "    <tr>\n",
              "      <th>1</th>\n",
              "      <td>Apple</td>\n",
              "      <td>Ultrabook</td>\n",
              "      <td>Intel Core i5 1.8GHz</td>\n",
              "      <td>8</td>\n",
              "      <td>128GB Flash Storage</td>\n",
              "      <td>Intel HD Graphics 6000</td>\n",
              "      <td>macOS</td>\n",
              "      <td>1.34</td>\n",
              "      <td>47895.5232</td>\n",
              "      <td>0</td>\n",
              "      <td>0</td>\n",
              "      <td>127.677940</td>\n",
              "    </tr>\n",
              "    <tr>\n",
              "      <th>2</th>\n",
              "      <td>HP</td>\n",
              "      <td>Notebook</td>\n",
              "      <td>Intel Core i5 7200U 2.5GHz</td>\n",
              "      <td>8</td>\n",
              "      <td>256GB SSD</td>\n",
              "      <td>Intel HD Graphics 620</td>\n",
              "      <td>No OS</td>\n",
              "      <td>1.86</td>\n",
              "      <td>30636.0000</td>\n",
              "      <td>0</td>\n",
              "      <td>0</td>\n",
              "      <td>141.211998</td>\n",
              "    </tr>\n",
              "    <tr>\n",
              "      <th>3</th>\n",
              "      <td>Apple</td>\n",
              "      <td>Ultrabook</td>\n",
              "      <td>Intel Core i7 2.7GHz</td>\n",
              "      <td>16</td>\n",
              "      <td>512GB SSD</td>\n",
              "      <td>AMD Radeon Pro 455</td>\n",
              "      <td>macOS</td>\n",
              "      <td>1.83</td>\n",
              "      <td>135195.3360</td>\n",
              "      <td>0</td>\n",
              "      <td>1</td>\n",
              "      <td>220.534624</td>\n",
              "    </tr>\n",
              "    <tr>\n",
              "      <th>4</th>\n",
              "      <td>Apple</td>\n",
              "      <td>Ultrabook</td>\n",
              "      <td>Intel Core i5 3.1GHz</td>\n",
              "      <td>8</td>\n",
              "      <td>256GB SSD</td>\n",
              "      <td>Intel Iris Plus Graphics 650</td>\n",
              "      <td>macOS</td>\n",
              "      <td>1.37</td>\n",
              "      <td>96095.8080</td>\n",
              "      <td>0</td>\n",
              "      <td>1</td>\n",
              "      <td>226.983005</td>\n",
              "    </tr>\n",
              "  </tbody>\n",
              "</table>\n",
              "</div>\n",
              "      <button class=\"colab-df-convert\" onclick=\"convertToInteractive('df-0b66acfe-5a56-442e-aaeb-17d5e6630048')\"\n",
              "              title=\"Convert this dataframe to an interactive table.\"\n",
              "              style=\"display:none;\">\n",
              "        \n",
              "  <svg xmlns=\"http://www.w3.org/2000/svg\" height=\"24px\"viewBox=\"0 0 24 24\"\n",
              "       width=\"24px\">\n",
              "    <path d=\"M0 0h24v24H0V0z\" fill=\"none\"/>\n",
              "    <path d=\"M18.56 5.44l.94 2.06.94-2.06 2.06-.94-2.06-.94-.94-2.06-.94 2.06-2.06.94zm-11 1L8.5 8.5l.94-2.06 2.06-.94-2.06-.94L8.5 2.5l-.94 2.06-2.06.94zm10 10l.94 2.06.94-2.06 2.06-.94-2.06-.94-.94-2.06-.94 2.06-2.06.94z\"/><path d=\"M17.41 7.96l-1.37-1.37c-.4-.4-.92-.59-1.43-.59-.52 0-1.04.2-1.43.59L10.3 9.45l-7.72 7.72c-.78.78-.78 2.05 0 2.83L4 21.41c.39.39.9.59 1.41.59.51 0 1.02-.2 1.41-.59l7.78-7.78 2.81-2.81c.8-.78.8-2.07 0-2.86zM5.41 20L4 18.59l7.72-7.72 1.47 1.35L5.41 20z\"/>\n",
              "  </svg>\n",
              "      </button>\n",
              "      \n",
              "  <style>\n",
              "    .colab-df-container {\n",
              "      display:flex;\n",
              "      flex-wrap:wrap;\n",
              "      gap: 12px;\n",
              "    }\n",
              "\n",
              "    .colab-df-convert {\n",
              "      background-color: #E8F0FE;\n",
              "      border: none;\n",
              "      border-radius: 50%;\n",
              "      cursor: pointer;\n",
              "      display: none;\n",
              "      fill: #1967D2;\n",
              "      height: 32px;\n",
              "      padding: 0 0 0 0;\n",
              "      width: 32px;\n",
              "    }\n",
              "\n",
              "    .colab-df-convert:hover {\n",
              "      background-color: #E2EBFA;\n",
              "      box-shadow: 0px 1px 2px rgba(60, 64, 67, 0.3), 0px 1px 3px 1px rgba(60, 64, 67, 0.15);\n",
              "      fill: #174EA6;\n",
              "    }\n",
              "\n",
              "    [theme=dark] .colab-df-convert {\n",
              "      background-color: #3B4455;\n",
              "      fill: #D2E3FC;\n",
              "    }\n",
              "\n",
              "    [theme=dark] .colab-df-convert:hover {\n",
              "      background-color: #434B5C;\n",
              "      box-shadow: 0px 1px 3px 1px rgba(0, 0, 0, 0.15);\n",
              "      filter: drop-shadow(0px 1px 2px rgba(0, 0, 0, 0.3));\n",
              "      fill: #FFFFFF;\n",
              "    }\n",
              "  </style>\n",
              "\n",
              "      <script>\n",
              "        const buttonEl =\n",
              "          document.querySelector('#df-0b66acfe-5a56-442e-aaeb-17d5e6630048 button.colab-df-convert');\n",
              "        buttonEl.style.display =\n",
              "          google.colab.kernel.accessAllowed ? 'block' : 'none';\n",
              "\n",
              "        async function convertToInteractive(key) {\n",
              "          const element = document.querySelector('#df-0b66acfe-5a56-442e-aaeb-17d5e6630048');\n",
              "          const dataTable =\n",
              "            await google.colab.kernel.invokeFunction('convertToInteractive',\n",
              "                                                     [key], {});\n",
              "          if (!dataTable) return;\n",
              "\n",
              "          const docLinkHtml = 'Like what you see? Visit the ' +\n",
              "            '<a target=\"_blank\" href=https://colab.research.google.com/notebooks/data_table.ipynb>data table notebook</a>'\n",
              "            + ' to learn more about interactive tables.';\n",
              "          element.innerHTML = '';\n",
              "          dataTable['output_type'] = 'display_data';\n",
              "          await google.colab.output.renderOutput(dataTable, element);\n",
              "          const docLink = document.createElement('div');\n",
              "          docLink.innerHTML = docLinkHtml;\n",
              "          element.appendChild(docLink);\n",
              "        }\n",
              "      </script>\n",
              "    </div>\n",
              "  </div>\n",
              "  "
            ]
          },
          "metadata": {},
          "execution_count": 392
        }
      ],
      "source": [
        "df.head()"
      ]
    },
    {
      "cell_type": "code",
      "execution_count": null,
      "metadata": {
        "id": "Mbv4iuqCQjAx"
      },
      "outputs": [],
      "source": [
        "df['Cpu_copy']=0\n",
        "\n",
        "#Intel processors\n",
        "df.loc[df['Cpu'].str.contains('Core M'),'Cpu_copy']=\"Intel M \"\n",
        "df.loc[df['Cpu'].str.contains('Atom'),'Cpu_copy']=\"Intel Atom\"\n",
        "df.loc[df['Cpu'].str.contains('Celeron'),'Cpu_copy']=\"Intel Celeron\"\n",
        "df.loc[df['Cpu'].str.contains('Pentium'),'Cpu_copy']=\"Intel Pentium\"\n",
        "df.loc[df['Cpu'].str.contains('i3'),'Cpu_copy']=\"Intel i3\"\n",
        "df.loc[df['Cpu'].str.contains('i5'),'Cpu_copy']=\"Intel i5\"\n",
        "df.loc[df['Cpu'].str.contains('i7'),'Cpu_copy']=\"Intel i7\"\n",
        "df.loc[df['Cpu'].str.contains('Xeon'),'Cpu_copy']=\"Intel Xeon\"\n",
        "\n",
        "\n",
        "#AMD processors\n",
        "df.loc[df['Cpu'].str.contains('AMD E-Series'),'Cpu_copy']=\"AMD E\"\n",
        "df.loc[df['Cpu'].str.contains('AMD FX'),'Cpu_copy']=\"AMD FX\"\n",
        "df.loc[df['Cpu'].str.contains('AMD A4'),'Cpu_copy']=\"AMD A4\"\n",
        "df.loc[df['Cpu'].str.contains('AMD A6'),'Cpu_copy']=\"AMD A6\"\n",
        "df.loc[df['Cpu'].str.contains('AMD A8'),'Cpu_copy']=\"AMD A8\"\n",
        "df.loc[df['Cpu'].str.contains('AMD A9'),'Cpu_copy']=\"AMD A9\"\n",
        "df.loc[df['Cpu'].str.contains('AMD A10'),'Cpu_copy']=\"AMD A10\"\n",
        "df.loc[df['Cpu'].str.contains('AMD A12'),'Cpu_copy']=\"AMD A12\"\n",
        "df.loc[df['Cpu'].str.contains('AMD Ryzen'),'Cpu_copy']=\"AMD Ryzen\"\n",
        "\n",
        "\n",
        "\n",
        "#Samsung processors\n",
        "df.loc[df['Cpu'].str.contains('Samsung'),'Cpu_copy']=\"Samsung\"\n"
      ]
    },
    {
      "cell_type": "code",
      "execution_count": null,
      "metadata": {
        "colab": {
          "base_uri": "https://localhost:8080/"
        },
        "id": "Q4lbjEIgQunM",
        "outputId": "8b7ded2e-2a32-4dae-b382-14875069c700"
      },
      "outputs": [
        {
          "output_type": "stream",
          "name": "stdout",
          "text": [
            "0\n"
          ]
        }
      ],
      "source": [
        "print(list(df['Cpu_copy']).count(0))"
      ]
    },
    {
      "cell_type": "code",
      "execution_count": null,
      "metadata": {
        "id": "c2D5ImYYQyUJ"
      },
      "outputs": [],
      "source": [
        "for i in range(len(df['Cpu_copy'])):\n",
        "     if df['Cpu_copy'][i]==0:\n",
        "         print(df['Cpu'][i])"
      ]
    },
    {
      "cell_type": "code",
      "execution_count": null,
      "metadata": {
        "id": "_uLjqlq6Q-Ka"
      },
      "outputs": [],
      "source": [
        "df['Cpu']=df['Cpu_copy']\n",
        "df.drop(columns=['Cpu_copy'],inplace=True)"
      ]
    },
    {
      "cell_type": "code",
      "execution_count": null,
      "metadata": {
        "colab": {
          "base_uri": "https://localhost:8080/",
          "height": 478
        },
        "id": "UwNhG83-RBcS",
        "outputId": "065aa66c-3b5d-4aab-a548-e6ce24d0e845"
      },
      "outputs": [
        {
          "output_type": "execute_result",
          "data": {
            "text/plain": [
              "  Company   TypeName       Cpu  Ram               Memory  \\\n",
              "0   Apple  Ultrabook  Intel i5    8            128GB SSD   \n",
              "1   Apple  Ultrabook  Intel i5    8  128GB Flash Storage   \n",
              "2      HP   Notebook  Intel i5    8            256GB SSD   \n",
              "3   Apple  Ultrabook  Intel i7   16            512GB SSD   \n",
              "4   Apple  Ultrabook  Intel i5    8            256GB SSD   \n",
              "\n",
              "                            Gpu  OpSys  Weight        Price  Touchscreen  Ips  \\\n",
              "0  Intel Iris Plus Graphics 640  macOS    1.37   71378.6832            0    1   \n",
              "1        Intel HD Graphics 6000  macOS    1.34   47895.5232            0    0   \n",
              "2         Intel HD Graphics 620  No OS    1.86   30636.0000            0    0   \n",
              "3            AMD Radeon Pro 455  macOS    1.83  135195.3360            0    1   \n",
              "4  Intel Iris Plus Graphics 650  macOS    1.37   96095.8080            0    1   \n",
              "\n",
              "          ppi  \n",
              "0  226.983005  \n",
              "1  127.677940  \n",
              "2  141.211998  \n",
              "3  220.534624  \n",
              "4  226.983005  "
            ],
            "text/html": [
              "\n",
              "  <div id=\"df-7d0aeefc-fcd3-4fdb-8836-456e625895f6\">\n",
              "    <div class=\"colab-df-container\">\n",
              "      <div>\n",
              "<style scoped>\n",
              "    .dataframe tbody tr th:only-of-type {\n",
              "        vertical-align: middle;\n",
              "    }\n",
              "\n",
              "    .dataframe tbody tr th {\n",
              "        vertical-align: top;\n",
              "    }\n",
              "\n",
              "    .dataframe thead th {\n",
              "        text-align: right;\n",
              "    }\n",
              "</style>\n",
              "<table border=\"1\" class=\"dataframe\">\n",
              "  <thead>\n",
              "    <tr style=\"text-align: right;\">\n",
              "      <th></th>\n",
              "      <th>Company</th>\n",
              "      <th>TypeName</th>\n",
              "      <th>Cpu</th>\n",
              "      <th>Ram</th>\n",
              "      <th>Memory</th>\n",
              "      <th>Gpu</th>\n",
              "      <th>OpSys</th>\n",
              "      <th>Weight</th>\n",
              "      <th>Price</th>\n",
              "      <th>Touchscreen</th>\n",
              "      <th>Ips</th>\n",
              "      <th>ppi</th>\n",
              "    </tr>\n",
              "  </thead>\n",
              "  <tbody>\n",
              "    <tr>\n",
              "      <th>0</th>\n",
              "      <td>Apple</td>\n",
              "      <td>Ultrabook</td>\n",
              "      <td>Intel i5</td>\n",
              "      <td>8</td>\n",
              "      <td>128GB SSD</td>\n",
              "      <td>Intel Iris Plus Graphics 640</td>\n",
              "      <td>macOS</td>\n",
              "      <td>1.37</td>\n",
              "      <td>71378.6832</td>\n",
              "      <td>0</td>\n",
              "      <td>1</td>\n",
              "      <td>226.983005</td>\n",
              "    </tr>\n",
              "    <tr>\n",
              "      <th>1</th>\n",
              "      <td>Apple</td>\n",
              "      <td>Ultrabook</td>\n",
              "      <td>Intel i5</td>\n",
              "      <td>8</td>\n",
              "      <td>128GB Flash Storage</td>\n",
              "      <td>Intel HD Graphics 6000</td>\n",
              "      <td>macOS</td>\n",
              "      <td>1.34</td>\n",
              "      <td>47895.5232</td>\n",
              "      <td>0</td>\n",
              "      <td>0</td>\n",
              "      <td>127.677940</td>\n",
              "    </tr>\n",
              "    <tr>\n",
              "      <th>2</th>\n",
              "      <td>HP</td>\n",
              "      <td>Notebook</td>\n",
              "      <td>Intel i5</td>\n",
              "      <td>8</td>\n",
              "      <td>256GB SSD</td>\n",
              "      <td>Intel HD Graphics 620</td>\n",
              "      <td>No OS</td>\n",
              "      <td>1.86</td>\n",
              "      <td>30636.0000</td>\n",
              "      <td>0</td>\n",
              "      <td>0</td>\n",
              "      <td>141.211998</td>\n",
              "    </tr>\n",
              "    <tr>\n",
              "      <th>3</th>\n",
              "      <td>Apple</td>\n",
              "      <td>Ultrabook</td>\n",
              "      <td>Intel i7</td>\n",
              "      <td>16</td>\n",
              "      <td>512GB SSD</td>\n",
              "      <td>AMD Radeon Pro 455</td>\n",
              "      <td>macOS</td>\n",
              "      <td>1.83</td>\n",
              "      <td>135195.3360</td>\n",
              "      <td>0</td>\n",
              "      <td>1</td>\n",
              "      <td>220.534624</td>\n",
              "    </tr>\n",
              "    <tr>\n",
              "      <th>4</th>\n",
              "      <td>Apple</td>\n",
              "      <td>Ultrabook</td>\n",
              "      <td>Intel i5</td>\n",
              "      <td>8</td>\n",
              "      <td>256GB SSD</td>\n",
              "      <td>Intel Iris Plus Graphics 650</td>\n",
              "      <td>macOS</td>\n",
              "      <td>1.37</td>\n",
              "      <td>96095.8080</td>\n",
              "      <td>0</td>\n",
              "      <td>1</td>\n",
              "      <td>226.983005</td>\n",
              "    </tr>\n",
              "  </tbody>\n",
              "</table>\n",
              "</div>\n",
              "      <button class=\"colab-df-convert\" onclick=\"convertToInteractive('df-7d0aeefc-fcd3-4fdb-8836-456e625895f6')\"\n",
              "              title=\"Convert this dataframe to an interactive table.\"\n",
              "              style=\"display:none;\">\n",
              "        \n",
              "  <svg xmlns=\"http://www.w3.org/2000/svg\" height=\"24px\"viewBox=\"0 0 24 24\"\n",
              "       width=\"24px\">\n",
              "    <path d=\"M0 0h24v24H0V0z\" fill=\"none\"/>\n",
              "    <path d=\"M18.56 5.44l.94 2.06.94-2.06 2.06-.94-2.06-.94-.94-2.06-.94 2.06-2.06.94zm-11 1L8.5 8.5l.94-2.06 2.06-.94-2.06-.94L8.5 2.5l-.94 2.06-2.06.94zm10 10l.94 2.06.94-2.06 2.06-.94-2.06-.94-.94-2.06-.94 2.06-2.06.94z\"/><path d=\"M17.41 7.96l-1.37-1.37c-.4-.4-.92-.59-1.43-.59-.52 0-1.04.2-1.43.59L10.3 9.45l-7.72 7.72c-.78.78-.78 2.05 0 2.83L4 21.41c.39.39.9.59 1.41.59.51 0 1.02-.2 1.41-.59l7.78-7.78 2.81-2.81c.8-.78.8-2.07 0-2.86zM5.41 20L4 18.59l7.72-7.72 1.47 1.35L5.41 20z\"/>\n",
              "  </svg>\n",
              "      </button>\n",
              "      \n",
              "  <style>\n",
              "    .colab-df-container {\n",
              "      display:flex;\n",
              "      flex-wrap:wrap;\n",
              "      gap: 12px;\n",
              "    }\n",
              "\n",
              "    .colab-df-convert {\n",
              "      background-color: #E8F0FE;\n",
              "      border: none;\n",
              "      border-radius: 50%;\n",
              "      cursor: pointer;\n",
              "      display: none;\n",
              "      fill: #1967D2;\n",
              "      height: 32px;\n",
              "      padding: 0 0 0 0;\n",
              "      width: 32px;\n",
              "    }\n",
              "\n",
              "    .colab-df-convert:hover {\n",
              "      background-color: #E2EBFA;\n",
              "      box-shadow: 0px 1px 2px rgba(60, 64, 67, 0.3), 0px 1px 3px 1px rgba(60, 64, 67, 0.15);\n",
              "      fill: #174EA6;\n",
              "    }\n",
              "\n",
              "    [theme=dark] .colab-df-convert {\n",
              "      background-color: #3B4455;\n",
              "      fill: #D2E3FC;\n",
              "    }\n",
              "\n",
              "    [theme=dark] .colab-df-convert:hover {\n",
              "      background-color: #434B5C;\n",
              "      box-shadow: 0px 1px 3px 1px rgba(0, 0, 0, 0.15);\n",
              "      filter: drop-shadow(0px 1px 2px rgba(0, 0, 0, 0.3));\n",
              "      fill: #FFFFFF;\n",
              "    }\n",
              "  </style>\n",
              "\n",
              "      <script>\n",
              "        const buttonEl =\n",
              "          document.querySelector('#df-7d0aeefc-fcd3-4fdb-8836-456e625895f6 button.colab-df-convert');\n",
              "        buttonEl.style.display =\n",
              "          google.colab.kernel.accessAllowed ? 'block' : 'none';\n",
              "\n",
              "        async function convertToInteractive(key) {\n",
              "          const element = document.querySelector('#df-7d0aeefc-fcd3-4fdb-8836-456e625895f6');\n",
              "          const dataTable =\n",
              "            await google.colab.kernel.invokeFunction('convertToInteractive',\n",
              "                                                     [key], {});\n",
              "          if (!dataTable) return;\n",
              "\n",
              "          const docLinkHtml = 'Like what you see? Visit the ' +\n",
              "            '<a target=\"_blank\" href=https://colab.research.google.com/notebooks/data_table.ipynb>data table notebook</a>'\n",
              "            + ' to learn more about interactive tables.';\n",
              "          element.innerHTML = '';\n",
              "          dataTable['output_type'] = 'display_data';\n",
              "          await google.colab.output.renderOutput(dataTable, element);\n",
              "          const docLink = document.createElement('div');\n",
              "          docLink.innerHTML = docLinkHtml;\n",
              "          element.appendChild(docLink);\n",
              "        }\n",
              "      </script>\n",
              "    </div>\n",
              "  </div>\n",
              "  "
            ]
          },
          "metadata": {},
          "execution_count": 397
        }
      ],
      "source": [
        "df.head()"
      ]
    },
    {
      "cell_type": "code",
      "execution_count": null,
      "metadata": {
        "colab": {
          "base_uri": "https://localhost:8080/",
          "height": 339
        },
        "id": "BsJst0ZDRFd9",
        "outputId": "fbfabd41-a592-4179-d459-5da010e39b8d"
      },
      "outputs": [
        {
          "output_type": "execute_result",
          "data": {
            "text/plain": [
              "<matplotlib.axes._subplots.AxesSubplot at 0x7fa75c130290>"
            ]
          },
          "metadata": {},
          "execution_count": 398
        },
        {
          "output_type": "display_data",
          "data": {
            "text/plain": [
              "<Figure size 432x288 with 1 Axes>"
            ],
            "image/png": "[encoded data removed]"
          },
          "metadata": {
            "needs_background": "light"
          }
        }
      ],
      "source": [
        "df['Cpu'].value_counts().plot(kind='bar')"
      ]
    },
    {
      "cell_type": "code",
      "execution_count": null,
      "metadata": {
        "colab": {
          "base_uri": "https://localhost:8080/",
          "height": 335
        },
        "id": "8XGd8nvnRfYf",
        "outputId": "15fd2fd7-5dae-46a6-efee-cad8d2930f19"
      },
      "outputs": [
        {
          "output_type": "display_data",
          "data": {
            "text/plain": [
              "<Figure size 432x288 with 1 Axes>"
            ],
            "image/png": "[encoded data removed]"
          },
          "metadata": {
            "needs_background": "light"
          }
        }
      ],
      "source": [
        "sns.barplot(x=df['Cpu'],y=df['Price'])\n",
        "plt.xticks(rotation='vertical')\n",
        "plt.show()"
      ]
    },
    {
      "cell_type": "code",
      "execution_count": null,
      "metadata": {
        "colab": {
          "base_uri": "https://localhost:8080/",
          "height": 286
        },
        "id": "LC2R6rTARl01",
        "outputId": "68c6afbb-6c42-4c5e-9cdd-5068844617d7"
      },
      "outputs": [
        {
          "output_type": "execute_result",
          "data": {
            "text/plain": [
              "<matplotlib.axes._subplots.AxesSubplot at 0x7fa75c1b2610>"
            ]
          },
          "metadata": {},
          "execution_count": 400
        },
        {
          "output_type": "display_data",
          "data": {
            "text/plain": [
              "<Figure size 432x288 with 1 Axes>"
            ],
            "image/png": "[encoded data removed]"
          },
          "metadata": {
            "needs_background": "light"
          }
        }
      ],
      "source": [
        "df['Ram'].value_counts().plot(kind='bar')"
      ]
    },
    {
      "cell_type": "code",
      "execution_count": null,
      "metadata": {
        "colab": {
          "base_uri": "https://localhost:8080/",
          "height": 282
        },
        "id": "LvjxCAYbRpyO",
        "outputId": "466dd1cb-e7a6-49c3-9ea5-a58cd2fa585e"
      },
      "outputs": [
        {
          "output_type": "display_data",
          "data": {
            "text/plain": [
              "<Figure size 432x288 with 1 Axes>"
            ],
            "image/png": "[encoded data removed]"
          },
          "metadata": {
            "needs_background": "light"
          }
        }
      ],
      "source": [
        "sns.barplot(x=df['Ram'],y=df['Price'])\n",
        "plt.xticks(rotation='vertical')\n",
        "plt.show()"
      ]
    },
    {
      "cell_type": "code",
      "execution_count": null,
      "metadata": {
        "colab": {
          "base_uri": "https://localhost:8080/"
        },
        "id": "bEc9vCijRsMc",
        "outputId": "5da4ec46-5d60-48f8-f7a7-2a4e1b222e2e"
      },
      "outputs": [
        {
          "output_type": "execute_result",
          "data": {
            "text/plain": [
              "256GB SSD                        412\n",
              "1TB HDD                          223\n",
              "500GB HDD                        132\n",
              "512GB SSD                        118\n",
              "128GB SSD +  1TB HDD              94\n",
              "128GB SSD                         76\n",
              "256GB SSD +  1TB HDD              73\n",
              "32GB Flash Storage                38\n",
              "2TB HDD                           16\n",
              "64GB Flash Storage                15\n",
              "512GB SSD +  1TB HDD              14\n",
              "1TB SSD                           14\n",
              "256GB SSD +  2TB HDD              10\n",
              "1.0TB Hybrid                       9\n",
              "256GB Flash Storage                8\n",
              "16GB Flash Storage                 7\n",
              "32GB SSD                           6\n",
              "180GB SSD                          5\n",
              "128GB Flash Storage                4\n",
              "512GB SSD +  2TB HDD               3\n",
              "16GB SSD                           3\n",
              "512GB Flash Storage                2\n",
              "1TB SSD +  1TB HDD                 2\n",
              "256GB SSD +  500GB HDD             2\n",
              "128GB SSD +  2TB HDD               2\n",
              "256GB SSD +  256GB SSD             2\n",
              "512GB SSD +  256GB SSD             1\n",
              "512GB SSD +  512GB SSD             1\n",
              "64GB Flash Storage +  1TB HDD      1\n",
              "1TB HDD +  1TB HDD                 1\n",
              "32GB HDD                           1\n",
              "64GB SSD                           1\n",
              "128GB HDD                          1\n",
              "240GB SSD                          1\n",
              "8GB SSD                            1\n",
              "508GB Hybrid                       1\n",
              "1.0TB HDD                          1\n",
              "512GB SSD +  1.0TB Hybrid          1\n",
              "256GB SSD +  1.0TB Hybrid          1\n",
              "Name: Memory, dtype: int64"
            ]
          },
          "metadata": {},
          "execution_count": 402
        }
      ],
      "source": [
        "df['Memory'].value_counts()"
      ]
    },
    {
      "cell_type": "code",
      "execution_count": null,
      "metadata": {
        "colab": {
          "base_uri": "https://localhost:8080/"
        },
        "id": "kX_G-XZYasqt",
        "outputId": "1a8904c0-90f6-4987-9339-c185974afbda"
      },
      "outputs": [
        {
          "output_type": "stream",
          "name": "stderr",
          "text": [
            "/usr/local/lib/python3.7/dist-packages/ipykernel_launcher.py:16: FutureWarning: The default value of regex will change from True to False in a future version.\n",
            "  app.launch_new_instance()\n",
            "/usr/local/lib/python3.7/dist-packages/ipykernel_launcher.py:25: FutureWarning: The default value of regex will change from True to False in a future version.\n"
          ]
        }
      ],
      "source": [
        "df['Memory'] = df['Memory'].astype(str).replace('\\.0', '', regex=True)\n",
        "df[\"Memory\"] = df[\"Memory\"].str.replace('GB', '')\n",
        "df[\"Memory\"] = df[\"Memory\"].str.replace('TB', '000')\n",
        "new = df[\"Memory\"].str.split(\"+\", n = 1, expand = True)\n",
        "\n",
        "df[\"first\"]= new[0]\n",
        "df[\"first\"]=df[\"first\"].str.strip()\n",
        "\n",
        "df[\"second\"]= new[1]\n",
        "\n",
        "df[\"Layer1HDD\"] = df[\"first\"].apply(lambda x: 1 if \"HDD\" in x else 0)\n",
        "df[\"Layer1SSD\"] = df[\"first\"].apply(lambda x: 1 if \"SSD\" in x else 0)\n",
        "df[\"Layer1Hybrid\"] = df[\"first\"].apply(lambda x: 1 if \"Hybrid\" in x else 0)\n",
        "df[\"Layer1Flash_Storage\"] = df[\"first\"].apply(lambda x: 1 if \"Flash Storage\" in x else 0)\n",
        "\n",
        "df['first'] = df['first'].str.replace(r'\\D', '')\n",
        "\n",
        "df[\"second\"].fillna(\"0\", inplace = True)\n",
        "\n",
        "df[\"Layer2HDD\"] = df[\"second\"].apply(lambda x: 1 if \"HDD\" in x else 0)\n",
        "df[\"Layer2SSD\"] = df[\"second\"].apply(lambda x: 1 if \"SSD\" in x else 0)\n",
        "df[\"Layer2Hybrid\"] = df[\"second\"].apply(lambda x: 1 if \"Hybrid\" in x else 0)\n",
        "df[\"Layer2Flash_Storage\"] = df[\"second\"].apply(lambda x: 1 if \"Flash Storage\" in x else 0)\n",
        "\n",
        "df['second'] = df['second'].str.replace(r'\\D', '')\n",
        "\n",
        "df[\"first\"] = df[\"first\"].astype(int)\n",
        "df[\"second\"] = df[\"second\"].astype(int)\n",
        "\n",
        "df[\"HDD\"]=(df[\"first\"]*df[\"Layer1HDD\"]+df[\"second\"]*df[\"Layer2HDD\"])\n",
        "df[\"SSD\"]=(df[\"first\"]*df[\"Layer1SSD\"]+df[\"second\"]*df[\"Layer2SSD\"])\n",
        "df[\"Hybrid\"]=(df[\"first\"]*df[\"Layer1Hybrid\"]+df[\"second\"]*df[\"Layer2Hybrid\"])\n",
        "df[\"Flash_Storage\"]=(df[\"first\"]*df[\"Layer1Flash_Storage\"]+df[\"second\"]*df[\"Layer2Flash_Storage\"])\n",
        "\n",
        "df.drop(columns=['first', 'second', 'Layer1HDD', 'Layer1SSD', 'Layer1Hybrid',\n",
        "       'Layer1Flash_Storage', 'Layer2HDD', 'Layer2SSD', 'Layer2Hybrid',\n",
        "       'Layer2Flash_Storage'],inplace=True)"
      ]
    },
    {
      "cell_type": "code",
      "execution_count": null,
      "metadata": {
        "id": "KktyIyYaTOCR"
      },
      "outputs": [],
      "source": [
        "for i in range(len(df['HDD'])):\n",
        "    if (df['HDD'][i]==0 and df['Hybrid'][i]==0) and (df['SSD'][i]==0 and df['Flash_Storage'][i]==0):\n",
        "        print(i)"
      ]
    },
    {
      "cell_type": "code",
      "execution_count": null,
      "metadata": {
        "colab": {
          "base_uri": "https://localhost:8080/",
          "height": 478
        },
        "id": "5U2rBiH2TZ7j",
        "outputId": "9177e95a-a786-4a7d-e948-34033084fab5"
      },
      "outputs": [
        {
          "output_type": "execute_result",
          "data": {
            "text/plain": [
              "  Company   TypeName       Cpu  Ram                           Gpu  OpSys  \\\n",
              "0   Apple  Ultrabook  Intel i5    8  Intel Iris Plus Graphics 640  macOS   \n",
              "1   Apple  Ultrabook  Intel i5    8        Intel HD Graphics 6000  macOS   \n",
              "2      HP   Notebook  Intel i5    8         Intel HD Graphics 620  No OS   \n",
              "3   Apple  Ultrabook  Intel i7   16            AMD Radeon Pro 455  macOS   \n",
              "4   Apple  Ultrabook  Intel i5    8  Intel Iris Plus Graphics 650  macOS   \n",
              "\n",
              "   Weight        Price  Touchscreen  Ips         ppi  HDD  SSD  Hybrid  \\\n",
              "0    1.37   71378.6832            0    1  226.983005    0  128       0   \n",
              "1    1.34   47895.5232            0    0  127.677940    0    0       0   \n",
              "2    1.86   30636.0000            0    0  141.211998    0  256       0   \n",
              "3    1.83  135195.3360            0    1  220.534624    0  512       0   \n",
              "4    1.37   96095.8080            0    1  226.983005    0  256       0   \n",
              "\n",
              "   Flash_Storage  \n",
              "0              0  \n",
              "1            128  \n",
              "2              0  \n",
              "3              0  \n",
              "4              0  "
            ],
            "text/html": [
              "\n",
              "  <div id=\"df-482fbb2e-d165-414d-94b6-31dde49745bc\">\n",
              "    <div class=\"colab-df-container\">\n",
              "      <div>\n",
              "<style scoped>\n",
              "    .dataframe tbody tr th:only-of-type {\n",
              "        vertical-align: middle;\n",
              "    }\n",
              "\n",
              "    .dataframe tbody tr th {\n",
              "        vertical-align: top;\n",
              "    }\n",
              "\n",
              "    .dataframe thead th {\n",
              "        text-align: right;\n",
              "    }\n",
              "</style>\n",
              "<table border=\"1\" class=\"dataframe\">\n",
              "  <thead>\n",
              "    <tr style=\"text-align: right;\">\n",
              "      <th></th>\n",
              "      <th>Company</th>\n",
              "      <th>TypeName</th>\n",
              "      <th>Cpu</th>\n",
              "      <th>Ram</th>\n",
              "      <th>Gpu</th>\n",
              "      <th>OpSys</th>\n",
              "      <th>Weight</th>\n",
              "      <th>Price</th>\n",
              "      <th>Touchscreen</th>\n",
              "      <th>Ips</th>\n",
              "      <th>ppi</th>\n",
              "      <th>HDD</th>\n",
              "      <th>SSD</th>\n",
              "      <th>Hybrid</th>\n",
              "      <th>Flash_Storage</th>\n",
              "    </tr>\n",
              "  </thead>\n",
              "  <tbody>\n",
              "    <tr>\n",
              "      <th>0</th>\n",
              "      <td>Apple</td>\n",
              "      <td>Ultrabook</td>\n",
              "      <td>Intel i5</td>\n",
              "      <td>8</td>\n",
              "      <td>Intel Iris Plus Graphics 640</td>\n",
              "      <td>macOS</td>\n",
              "      <td>1.37</td>\n",
              "      <td>71378.6832</td>\n",
              "      <td>0</td>\n",
              "      <td>1</td>\n",
              "      <td>226.983005</td>\n",
              "      <td>0</td>\n",
              "      <td>128</td>\n",
              "      <td>0</td>\n",
              "      <td>0</td>\n",
              "    </tr>\n",
              "    <tr>\n",
              "      <th>1</th>\n",
              "      <td>Apple</td>\n",
              "      <td>Ultrabook</td>\n",
              "      <td>Intel i5</td>\n",
              "      <td>8</td>\n",
              "      <td>Intel HD Graphics 6000</td>\n",
              "      <td>macOS</td>\n",
              "      <td>1.34</td>\n",
              "      <td>47895.5232</td>\n",
              "      <td>0</td>\n",
              "      <td>0</td>\n",
              "      <td>127.677940</td>\n",
              "      <td>0</td>\n",
              "      <td>0</td>\n",
              "      <td>0</td>\n",
              "      <td>128</td>\n",
              "    </tr>\n",
              "    <tr>\n",
              "      <th>2</th>\n",
              "      <td>HP</td>\n",
              "      <td>Notebook</td>\n",
              "      <td>Intel i5</td>\n",
              "      <td>8</td>\n",
              "      <td>Intel HD Graphics 620</td>\n",
              "      <td>No OS</td>\n",
              "      <td>1.86</td>\n",
              "      <td>30636.0000</td>\n",
              "      <td>0</td>\n",
              "      <td>0</td>\n",
              "      <td>141.211998</td>\n",
              "      <td>0</td>\n",
              "      <td>256</td>\n",
              "      <td>0</td>\n",
              "      <td>0</td>\n",
              "    </tr>\n",
              "    <tr>\n",
              "      <th>3</th>\n",
              "      <td>Apple</td>\n",
              "      <td>Ultrabook</td>\n",
              "      <td>Intel i7</td>\n",
              "      <td>16</td>\n",
              "      <td>AMD Radeon Pro 455</td>\n",
              "      <td>macOS</td>\n",
              "      <td>1.83</td>\n",
              "      <td>135195.3360</td>\n",
              "      <td>0</td>\n",
              "      <td>1</td>\n",
              "      <td>220.534624</td>\n",
              "      <td>0</td>\n",
              "      <td>512</td>\n",
              "      <td>0</td>\n",
              "      <td>0</td>\n",
              "    </tr>\n",
              "    <tr>\n",
              "      <th>4</th>\n",
              "      <td>Apple</td>\n",
              "      <td>Ultrabook</td>\n",
              "      <td>Intel i5</td>\n",
              "      <td>8</td>\n",
              "      <td>Intel Iris Plus Graphics 650</td>\n",
              "      <td>macOS</td>\n",
              "      <td>1.37</td>\n",
              "      <td>96095.8080</td>\n",
              "      <td>0</td>\n",
              "      <td>1</td>\n",
              "      <td>226.983005</td>\n",
              "      <td>0</td>\n",
              "      <td>256</td>\n",
              "      <td>0</td>\n",
              "      <td>0</td>\n",
              "    </tr>\n",
              "  </tbody>\n",
              "</table>\n",
              "</div>\n",
              "      <button class=\"colab-df-convert\" onclick=\"convertToInteractive('df-482fbb2e-d165-414d-94b6-31dde49745bc')\"\n",
              "              title=\"Convert this dataframe to an interactive table.\"\n",
              "              style=\"display:none;\">\n",
              "        \n",
              "  <svg xmlns=\"http://www.w3.org/2000/svg\" height=\"24px\"viewBox=\"0 0 24 24\"\n",
              "       width=\"24px\">\n",
              "    <path d=\"M0 0h24v24H0V0z\" fill=\"none\"/>\n",
              "    <path d=\"M18.56 5.44l.94 2.06.94-2.06 2.06-.94-2.06-.94-.94-2.06-.94 2.06-2.06.94zm-11 1L8.5 8.5l.94-2.06 2.06-.94-2.06-.94L8.5 2.5l-.94 2.06-2.06.94zm10 10l.94 2.06.94-2.06 2.06-.94-2.06-.94-.94-2.06-.94 2.06-2.06.94z\"/><path d=\"M17.41 7.96l-1.37-1.37c-.4-.4-.92-.59-1.43-.59-.52 0-1.04.2-1.43.59L10.3 9.45l-7.72 7.72c-.78.78-.78 2.05 0 2.83L4 21.41c.39.39.9.59 1.41.59.51 0 1.02-.2 1.41-.59l7.78-7.78 2.81-2.81c.8-.78.8-2.07 0-2.86zM5.41 20L4 18.59l7.72-7.72 1.47 1.35L5.41 20z\"/>\n",
              "  </svg>\n",
              "      </button>\n",
              "      \n",
              "  <style>\n",
              "    .colab-df-container {\n",
              "      display:flex;\n",
              "      flex-wrap:wrap;\n",
              "      gap: 12px;\n",
              "    }\n",
              "\n",
              "    .colab-df-convert {\n",
              "      background-color: #E8F0FE;\n",
              "      border: none;\n",
              "      border-radius: 50%;\n",
              "      cursor: pointer;\n",
              "      display: none;\n",
              "      fill: #1967D2;\n",
              "      height: 32px;\n",
              "      padding: 0 0 0 0;\n",
              "      width: 32px;\n",
              "    }\n",
              "\n",
              "    .colab-df-convert:hover {\n",
              "      background-color: #E2EBFA;\n",
              "      box-shadow: 0px 1px 2px rgba(60, 64, 67, 0.3), 0px 1px 3px 1px rgba(60, 64, 67, 0.15);\n",
              "      fill: #174EA6;\n",
              "    }\n",
              "\n",
              "    [theme=dark] .colab-df-convert {\n",
              "      background-color: #3B4455;\n",
              "      fill: #D2E3FC;\n",
              "    }\n",
              "\n",
              "    [theme=dark] .colab-df-convert:hover {\n",
              "      background-color: #434B5C;\n",
              "      box-shadow: 0px 1px 3px 1px rgba(0, 0, 0, 0.15);\n",
              "      filter: drop-shadow(0px 1px 2px rgba(0, 0, 0, 0.3));\n",
              "      fill: #FFFFFF;\n",
              "    }\n",
              "  </style>\n",
              "\n",
              "      <script>\n",
              "        const buttonEl =\n",
              "          document.querySelector('#df-482fbb2e-d165-414d-94b6-31dde49745bc button.colab-df-convert');\n",
              "        buttonEl.style.display =\n",
              "          google.colab.kernel.accessAllowed ? 'block' : 'none';\n",
              "\n",
              "        async function convertToInteractive(key) {\n",
              "          const element = document.querySelector('#df-482fbb2e-d165-414d-94b6-31dde49745bc');\n",
              "          const dataTable =\n",
              "            await google.colab.kernel.invokeFunction('convertToInteractive',\n",
              "                                                     [key], {});\n",
              "          if (!dataTable) return;\n",
              "\n",
              "          const docLinkHtml = 'Like what you see? Visit the ' +\n",
              "            '<a target=\"_blank\" href=https://colab.research.google.com/notebooks/data_table.ipynb>data table notebook</a>'\n",
              "            + ' to learn more about interactive tables.';\n",
              "          element.innerHTML = '';\n",
              "          dataTable['output_type'] = 'display_data';\n",
              "          await google.colab.output.renderOutput(dataTable, element);\n",
              "          const docLink = document.createElement('div');\n",
              "          docLink.innerHTML = docLinkHtml;\n",
              "          element.appendChild(docLink);\n",
              "        }\n",
              "      </script>\n",
              "    </div>\n",
              "  </div>\n",
              "  "
            ]
          },
          "metadata": {},
          "execution_count": 405
        }
      ],
      "source": [
        "df.drop(columns=['Memory'],inplace=True)\n",
        "df.head()"
      ]
    },
    {
      "cell_type": "code",
      "execution_count": null,
      "metadata": {
        "colab": {
          "base_uri": "https://localhost:8080/"
        },
        "id": "zNME6Xh6TlCs",
        "outputId": "ecc24197-af45-456f-99e0-0cee78390020"
      },
      "outputs": [
        {
          "output_type": "execute_result",
          "data": {
            "text/plain": [
              "Ram              0.743007\n",
              "Weight           0.210366\n",
              "Price            1.000000\n",
              "Touchscreen      0.191226\n",
              "Ips              0.252208\n",
              "ppi              0.473487\n",
              "HDD             -0.096441\n",
              "SSD              0.670799\n",
              "Hybrid           0.007989\n",
              "Flash_Storage   -0.040511\n",
              "Name: Price, dtype: float64"
            ]
          },
          "metadata": {},
          "execution_count": 406
        }
      ],
      "source": [
        "df.corr()['Price']"
      ]
    },
    {
      "cell_type": "code",
      "execution_count": null,
      "metadata": {
        "colab": {
          "base_uri": "https://localhost:8080/"
        },
        "id": "4iFwZUBdUHSH",
        "outputId": "70c55eb0-8014-4f37-ec46-f921c1c64948"
      },
      "outputs": [
        {
          "output_type": "execute_result",
          "data": {
            "text/plain": [
              "Intel HD Graphics 620      281\n",
              "Intel HD Graphics 520      185\n",
              "Intel UHD Graphics 620      68\n",
              "Nvidia GeForce GTX 1050     66\n",
              "Nvidia GeForce GTX 1060     48\n",
              "                          ... \n",
              "AMD Radeon R5 520            1\n",
              "AMD Radeon R7                1\n",
              "Intel HD Graphics 540        1\n",
              "AMD Radeon 540               1\n",
              "ARM Mali T860 MP4            1\n",
              "Name: Gpu, Length: 110, dtype: int64"
            ]
          },
          "metadata": {},
          "execution_count": 407
        }
      ],
      "source": [
        "df['Gpu'].value_counts()"
      ]
    },
    {
      "cell_type": "code",
      "execution_count": null,
      "metadata": {
        "id": "y8kVfSONUQ5_"
      },
      "outputs": [],
      "source": [
        "df['Gpu brand'] = df['Gpu'].apply(lambda x:x.split()[0])"
      ]
    },
    {
      "cell_type": "code",
      "execution_count": null,
      "metadata": {
        "colab": {
          "base_uri": "https://localhost:8080/",
          "height": 496
        },
        "id": "LmTIjH0SUa7S",
        "outputId": "9307aa0c-cf7a-42a3-ec47-4b0b4c936475"
      },
      "outputs": [
        {
          "output_type": "execute_result",
          "data": {
            "text/plain": [
              "  Company   TypeName       Cpu  Ram                           Gpu  OpSys  \\\n",
              "0   Apple  Ultrabook  Intel i5    8  Intel Iris Plus Graphics 640  macOS   \n",
              "1   Apple  Ultrabook  Intel i5    8        Intel HD Graphics 6000  macOS   \n",
              "2      HP   Notebook  Intel i5    8         Intel HD Graphics 620  No OS   \n",
              "3   Apple  Ultrabook  Intel i7   16            AMD Radeon Pro 455  macOS   \n",
              "4   Apple  Ultrabook  Intel i5    8  Intel Iris Plus Graphics 650  macOS   \n",
              "\n",
              "   Weight        Price  Touchscreen  Ips         ppi  HDD  SSD  Hybrid  \\\n",
              "0    1.37   71378.6832            0    1  226.983005    0  128       0   \n",
              "1    1.34   47895.5232            0    0  127.677940    0    0       0   \n",
              "2    1.86   30636.0000            0    0  141.211998    0  256       0   \n",
              "3    1.83  135195.3360            0    1  220.534624    0  512       0   \n",
              "4    1.37   96095.8080            0    1  226.983005    0  256       0   \n",
              "\n",
              "   Flash_Storage Gpu brand  \n",
              "0              0     Intel  \n",
              "1            128     Intel  \n",
              "2              0     Intel  \n",
              "3              0       AMD  \n",
              "4              0     Intel  "
            ],
            "text/html": [
              "\n",
              "  <div id=\"df-2bab9273-e5d6-40c1-a8a4-68767085bfba\">\n",
              "    <div class=\"colab-df-container\">\n",
              "      <div>\n",
              "<style scoped>\n",
              "    .dataframe tbody tr th:only-of-type {\n",
              "        vertical-align: middle;\n",
              "    }\n",
              "\n",
              "    .dataframe tbody tr th {\n",
              "        vertical-align: top;\n",
              "    }\n",
              "\n",
              "    .dataframe thead th {\n",
              "        text-align: right;\n",
              "    }\n",
              "</style>\n",
              "<table border=\"1\" class=\"dataframe\">\n",
              "  <thead>\n",
              "    <tr style=\"text-align: right;\">\n",
              "      <th></th>\n",
              "      <th>Company</th>\n",
              "      <th>TypeName</th>\n",
              "      <th>Cpu</th>\n",
              "      <th>Ram</th>\n",
              "      <th>Gpu</th>\n",
              "      <th>OpSys</th>\n",
              "      <th>Weight</th>\n",
              "      <th>Price</th>\n",
              "      <th>Touchscreen</th>\n",
              "      <th>Ips</th>\n",
              "      <th>ppi</th>\n",
              "      <th>HDD</th>\n",
              "      <th>SSD</th>\n",
              "      <th>Hybrid</th>\n",
              "      <th>Flash_Storage</th>\n",
              "      <th>Gpu brand</th>\n",
              "    </tr>\n",
              "  </thead>\n",
              "  <tbody>\n",
              "    <tr>\n",
              "      <th>0</th>\n",
              "      <td>Apple</td>\n",
              "      <td>Ultrabook</td>\n",
              "      <td>Intel i5</td>\n",
              "      <td>8</td>\n",
              "      <td>Intel Iris Plus Graphics 640</td>\n",
              "      <td>macOS</td>\n",
              "      <td>1.37</td>\n",
              "      <td>71378.6832</td>\n",
              "      <td>0</td>\n",
              "      <td>1</td>\n",
              "      <td>226.983005</td>\n",
              "      <td>0</td>\n",
              "      <td>128</td>\n",
              "      <td>0</td>\n",
              "      <td>0</td>\n",
              "      <td>Intel</td>\n",
              "    </tr>\n",
              "    <tr>\n",
              "      <th>1</th>\n",
              "      <td>Apple</td>\n",
              "      <td>Ultrabook</td>\n",
              "      <td>Intel i5</td>\n",
              "      <td>8</td>\n",
              "      <td>Intel HD Graphics 6000</td>\n",
              "      <td>macOS</td>\n",
              "      <td>1.34</td>\n",
              "      <td>47895.5232</td>\n",
              "      <td>0</td>\n",
              "      <td>0</td>\n",
              "      <td>127.677940</td>\n",
              "      <td>0</td>\n",
              "      <td>0</td>\n",
              "      <td>0</td>\n",
              "      <td>128</td>\n",
              "      <td>Intel</td>\n",
              "    </tr>\n",
              "    <tr>\n",
              "      <th>2</th>\n",
              "      <td>HP</td>\n",
              "      <td>Notebook</td>\n",
              "      <td>Intel i5</td>\n",
              "      <td>8</td>\n",
              "      <td>Intel HD Graphics 620</td>\n",
              "      <td>No OS</td>\n",
              "      <td>1.86</td>\n",
              "      <td>30636.0000</td>\n",
              "      <td>0</td>\n",
              "      <td>0</td>\n",
              "      <td>141.211998</td>\n",
              "      <td>0</td>\n",
              "      <td>256</td>\n",
              "      <td>0</td>\n",
              "      <td>0</td>\n",
              "      <td>Intel</td>\n",
              "    </tr>\n",
              "    <tr>\n",
              "      <th>3</th>\n",
              "      <td>Apple</td>\n",
              "      <td>Ultrabook</td>\n",
              "      <td>Intel i7</td>\n",
              "      <td>16</td>\n",
              "      <td>AMD Radeon Pro 455</td>\n",
              "      <td>macOS</td>\n",
              "      <td>1.83</td>\n",
              "      <td>135195.3360</td>\n",
              "      <td>0</td>\n",
              "      <td>1</td>\n",
              "      <td>220.534624</td>\n",
              "      <td>0</td>\n",
              "      <td>512</td>\n",
              "      <td>0</td>\n",
              "      <td>0</td>\n",
              "      <td>AMD</td>\n",
              "    </tr>\n",
              "    <tr>\n",
              "      <th>4</th>\n",
              "      <td>Apple</td>\n",
              "      <td>Ultrabook</td>\n",
              "      <td>Intel i5</td>\n",
              "      <td>8</td>\n",
              "      <td>Intel Iris Plus Graphics 650</td>\n",
              "      <td>macOS</td>\n",
              "      <td>1.37</td>\n",
              "      <td>96095.8080</td>\n",
              "      <td>0</td>\n",
              "      <td>1</td>\n",
              "      <td>226.983005</td>\n",
              "      <td>0</td>\n",
              "      <td>256</td>\n",
              "      <td>0</td>\n",
              "      <td>0</td>\n",
              "      <td>Intel</td>\n",
              "    </tr>\n",
              "  </tbody>\n",
              "</table>\n",
              "</div>\n",
              "      <button class=\"colab-df-convert\" onclick=\"convertToInteractive('df-2bab9273-e5d6-40c1-a8a4-68767085bfba')\"\n",
              "              title=\"Convert this dataframe to an interactive table.\"\n",
              "              style=\"display:none;\">\n",
              "        \n",
              "  <svg xmlns=\"http://www.w3.org/2000/svg\" height=\"24px\"viewBox=\"0 0 24 24\"\n",
              "       width=\"24px\">\n",
              "    <path d=\"M0 0h24v24H0V0z\" fill=\"none\"/>\n",
              "    <path d=\"M18.56 5.44l.94 2.06.94-2.06 2.06-.94-2.06-.94-.94-2.06-.94 2.06-2.06.94zm-11 1L8.5 8.5l.94-2.06 2.06-.94-2.06-.94L8.5 2.5l-.94 2.06-2.06.94zm10 10l.94 2.06.94-2.06 2.06-.94-2.06-.94-.94-2.06-.94 2.06-2.06.94z\"/><path d=\"M17.41 7.96l-1.37-1.37c-.4-.4-.92-.59-1.43-.59-.52 0-1.04.2-1.43.59L10.3 9.45l-7.72 7.72c-.78.78-.78 2.05 0 2.83L4 21.41c.39.39.9.59 1.41.59.51 0 1.02-.2 1.41-.59l7.78-7.78 2.81-2.81c.8-.78.8-2.07 0-2.86zM5.41 20L4 18.59l7.72-7.72 1.47 1.35L5.41 20z\"/>\n",
              "  </svg>\n",
              "      </button>\n",
              "      \n",
              "  <style>\n",
              "    .colab-df-container {\n",
              "      display:flex;\n",
              "      flex-wrap:wrap;\n",
              "      gap: 12px;\n",
              "    }\n",
              "\n",
              "    .colab-df-convert {\n",
              "      background-color: #E8F0FE;\n",
              "      border: none;\n",
              "      border-radius: 50%;\n",
              "      cursor: pointer;\n",
              "      display: none;\n",
              "      fill: #1967D2;\n",
              "      height: 32px;\n",
              "      padding: 0 0 0 0;\n",
              "      width: 32px;\n",
              "    }\n",
              "\n",
              "    .colab-df-convert:hover {\n",
              "      background-color: #E2EBFA;\n",
              "      box-shadow: 0px 1px 2px rgba(60, 64, 67, 0.3), 0px 1px 3px 1px rgba(60, 64, 67, 0.15);\n",
              "      fill: #174EA6;\n",
              "    }\n",
              "\n",
              "    [theme=dark] .colab-df-convert {\n",
              "      background-color: #3B4455;\n",
              "      fill: #D2E3FC;\n",
              "    }\n",
              "\n",
              "    [theme=dark] .colab-df-convert:hover {\n",
              "      background-color: #434B5C;\n",
              "      box-shadow: 0px 1px 3px 1px rgba(0, 0, 0, 0.15);\n",
              "      filter: drop-shadow(0px 1px 2px rgba(0, 0, 0, 0.3));\n",
              "      fill: #FFFFFF;\n",
              "    }\n",
              "  </style>\n",
              "\n",
              "      <script>\n",
              "        const buttonEl =\n",
              "          document.querySelector('#df-2bab9273-e5d6-40c1-a8a4-68767085bfba button.colab-df-convert');\n",
              "        buttonEl.style.display =\n",
              "          google.colab.kernel.accessAllowed ? 'block' : 'none';\n",
              "\n",
              "        async function convertToInteractive(key) {\n",
              "          const element = document.querySelector('#df-2bab9273-e5d6-40c1-a8a4-68767085bfba');\n",
              "          const dataTable =\n",
              "            await google.colab.kernel.invokeFunction('convertToInteractive',\n",
              "                                                     [key], {});\n",
              "          if (!dataTable) return;\n",
              "\n",
              "          const docLinkHtml = 'Like what you see? Visit the ' +\n",
              "            '<a target=\"_blank\" href=https://colab.research.google.com/notebooks/data_table.ipynb>data table notebook</a>'\n",
              "            + ' to learn more about interactive tables.';\n",
              "          element.innerHTML = '';\n",
              "          dataTable['output_type'] = 'display_data';\n",
              "          await google.colab.output.renderOutput(dataTable, element);\n",
              "          const docLink = document.createElement('div');\n",
              "          docLink.innerHTML = docLinkHtml;\n",
              "          element.appendChild(docLink);\n",
              "        }\n",
              "      </script>\n",
              "    </div>\n",
              "  </div>\n",
              "  "
            ]
          },
          "metadata": {},
          "execution_count": 409
        }
      ],
      "source": [
        "df.head()"
      ]
    },
    {
      "cell_type": "code",
      "execution_count": null,
      "metadata": {
        "colab": {
          "base_uri": "https://localhost:8080/"
        },
        "id": "9CaL2XtVUdEP",
        "outputId": "dff5887a-8698-4791-da47-84eadfba09ee"
      },
      "outputs": [
        {
          "output_type": "execute_result",
          "data": {
            "text/plain": [
              "Intel     722\n",
              "Nvidia    400\n",
              "AMD       180\n",
              "ARM         1\n",
              "Name: Gpu brand, dtype: int64"
            ]
          },
          "metadata": {},
          "execution_count": 410
        }
      ],
      "source": [
        "df['Gpu brand'].value_counts()"
      ]
    },
    {
      "cell_type": "code",
      "execution_count": null,
      "metadata": {
        "colab": {
          "base_uri": "https://localhost:8080/"
        },
        "id": "aj6R8ljRUhP2",
        "outputId": "63564aee-d1c7-46de-8e32-b2d8189b12a1"
      },
      "outputs": [
        {
          "output_type": "stream",
          "name": "stdout",
          "text": [
            "1191\n"
          ]
        }
      ],
      "source": [
        "for i in range(len(df['Gpu'])):\n",
        "    if (df['Gpu brand'][i]=='ARM'):\n",
        "        print(i)"
      ]
    },
    {
      "cell_type": "code",
      "execution_count": null,
      "metadata": {
        "colab": {
          "base_uri": "https://localhost:8080/",
          "height": 320
        },
        "id": "RzKZI59SU2Hk",
        "outputId": "02b5d5ea-7335-4a28-b395-852690744139"
      },
      "outputs": [
        {
          "output_type": "display_data",
          "data": {
            "text/plain": [
              "Company                     Samsung\n",
              "TypeName         2 in 1 Convertible\n",
              "Cpu                         Samsung\n",
              "Ram                               4\n",
              "Gpu               ARM Mali T860 MP4\n",
              "OpSys                     Chrome OS\n",
              "Weight                         1.15\n",
              "Price                      35111.52\n",
              "Touchscreen                       1\n",
              "Ips                               1\n",
              "ppi                        234.5074\n",
              "HDD                               0\n",
              "SSD                               0\n",
              "Hybrid                            0\n",
              "Flash_Storage                    32\n",
              "Gpu brand                       ARM\n",
              "Name: 1191, dtype: object"
            ]
          },
          "metadata": {}
        }
      ],
      "source": [
        "display(df.iloc[1191])"
      ]
    },
    {
      "cell_type": "code",
      "execution_count": null,
      "metadata": {
        "id": "DYunpRr-VLvL"
      },
      "outputs": [],
      "source": [
        "#df = df[df['Gpu brand'] != 'ARM']"
      ]
    },
    {
      "cell_type": "code",
      "execution_count": null,
      "metadata": {
        "id": "nrKtN76sicfr"
      },
      "outputs": [],
      "source": [
        "df.drop([1191], axis=0, inplace=True)"
      ]
    },
    {
      "cell_type": "code",
      "execution_count": null,
      "metadata": {
        "colab": {
          "base_uri": "https://localhost:8080/",
          "height": 869
        },
        "id": "1c5tXJamrPbm",
        "outputId": "de2b3ae3-ed1f-4c45-d9ae-704a2ebab7b3"
      },
      "outputs": [
        {
          "output_type": "execute_result",
          "data": {
            "text/plain": [
              "     Company            TypeName            Cpu  Ram  \\\n",
              "0      Apple           Ultrabook       Intel i5    8   \n",
              "1      Apple           Ultrabook       Intel i5    8   \n",
              "2         HP            Notebook       Intel i5    8   \n",
              "3      Apple           Ultrabook       Intel i7   16   \n",
              "4      Apple           Ultrabook       Intel i5    8   \n",
              "...      ...                 ...            ...  ...   \n",
              "1298  Lenovo  2 in 1 Convertible       Intel i7    4   \n",
              "1299  Lenovo  2 in 1 Convertible       Intel i7   16   \n",
              "1300  Lenovo            Notebook  Intel Celeron    2   \n",
              "1301      HP            Notebook       Intel i7    6   \n",
              "1302    Asus            Notebook  Intel Celeron    4   \n",
              "\n",
              "                               Gpu       OpSys  Weight        Price  \\\n",
              "0     Intel Iris Plus Graphics 640       macOS    1.37   71378.6832   \n",
              "1           Intel HD Graphics 6000       macOS    1.34   47895.5232   \n",
              "2            Intel HD Graphics 620       No OS    1.86   30636.0000   \n",
              "3               AMD Radeon Pro 455       macOS    1.83  135195.3360   \n",
              "4     Intel Iris Plus Graphics 650       macOS    1.37   96095.8080   \n",
              "...                            ...         ...     ...          ...   \n",
              "1298         Intel HD Graphics 520  Windows 10    1.80   33992.6400   \n",
              "1299         Intel HD Graphics 520  Windows 10    1.30   79866.7200   \n",
              "1300             Intel HD Graphics  Windows 10    1.50   12201.1200   \n",
              "1301            AMD Radeon R5 M330  Windows 10    2.19   40705.9200   \n",
              "1302             Intel HD Graphics  Windows 10    2.20   19660.3200   \n",
              "\n",
              "      Touchscreen  Ips         ppi   HDD  SSD  Hybrid  Flash_Storage Gpu brand  \n",
              "0               0    1  226.983005     0  128       0              0     Intel  \n",
              "1               0    0  127.677940     0    0       0            128     Intel  \n",
              "2               0    0  141.211998     0  256       0              0     Intel  \n",
              "3               0    1  220.534624     0  512       0              0       AMD  \n",
              "4               0    1  226.983005     0  256       0              0     Intel  \n",
              "...           ...  ...         ...   ...  ...     ...            ...       ...  \n",
              "1298            1    1  157.350512     0  128       0              0     Intel  \n",
              "1299            1    1  276.053530     0  512       0              0     Intel  \n",
              "1300            0    0  111.935204     0    0       0             64     Intel  \n",
              "1301            0    0  100.454670  1000    0       0              0       AMD  \n",
              "1302            0    0  100.454670   500    0       0              0     Intel  \n",
              "\n",
              "[1302 rows x 16 columns]"
            ],
            "text/html": [
              "\n",
              "  <div id=\"df-399aadb3-eb36-4e3d-97c2-7c7bc4d8f713\">\n",
              "    <div class=\"colab-df-container\">\n",
              "      <div>\n",
              "<style scoped>\n",
              "    .dataframe tbody tr th:only-of-type {\n",
              "        vertical-align: middle;\n",
              "    }\n",
              "\n",
              "    .dataframe tbody tr th {\n",
              "        vertical-align: top;\n",
              "    }\n",
              "\n",
              "    .dataframe thead th {\n",
              "        text-align: right;\n",
              "    }\n",
              "</style>\n",
              "<table border=\"1\" class=\"dataframe\">\n",
              "  <thead>\n",
              "    <tr style=\"text-align: right;\">\n",
              "      <th></th>\n",
              "      <th>Company</th>\n",
              "      <th>TypeName</th>\n",
              "      <th>Cpu</th>\n",
              "      <th>Ram</th>\n",
              "      <th>Gpu</th>\n",
              "      <th>OpSys</th>\n",
              "      <th>Weight</th>\n",
              "      <th>Price</th>\n",
              "      <th>Touchscreen</th>\n",
              "      <th>Ips</th>\n",
              "      <th>ppi</th>\n",
              "      <th>HDD</th>\n",
              "      <th>SSD</th>\n",
              "      <th>Hybrid</th>\n",
              "      <th>Flash_Storage</th>\n",
              "      <th>Gpu brand</th>\n",
              "    </tr>\n",
              "  </thead>\n",
              "  <tbody>\n",
              "    <tr>\n",
              "      <th>0</th>\n",
              "      <td>Apple</td>\n",
              "      <td>Ultrabook</td>\n",
              "      <td>Intel i5</td>\n",
              "      <td>8</td>\n",
              "      <td>Intel Iris Plus Graphics 640</td>\n",
              "      <td>macOS</td>\n",
              "      <td>1.37</td>\n",
              "      <td>71378.6832</td>\n",
              "      <td>0</td>\n",
              "      <td>1</td>\n",
              "      <td>226.983005</td>\n",
              "      <td>0</td>\n",
              "      <td>128</td>\n",
              "      <td>0</td>\n",
              "      <td>0</td>\n",
              "      <td>Intel</td>\n",
              "    </tr>\n",
              "    <tr>\n",
              "      <th>1</th>\n",
              "      <td>Apple</td>\n",
              "      <td>Ultrabook</td>\n",
              "      <td>Intel i5</td>\n",
              "      <td>8</td>\n",
              "      <td>Intel HD Graphics 6000</td>\n",
              "      <td>macOS</td>\n",
              "      <td>1.34</td>\n",
              "      <td>47895.5232</td>\n",
              "      <td>0</td>\n",
              "      <td>0</td>\n",
              "      <td>127.677940</td>\n",
              "      <td>0</td>\n",
              "      <td>0</td>\n",
              "      <td>0</td>\n",
              "      <td>128</td>\n",
              "      <td>Intel</td>\n",
              "    </tr>\n",
              "    <tr>\n",
              "      <th>2</th>\n",
              "      <td>HP</td>\n",
              "      <td>Notebook</td>\n",
              "      <td>Intel i5</td>\n",
              "      <td>8</td>\n",
              "      <td>Intel HD Graphics 620</td>\n",
              "      <td>No OS</td>\n",
              "      <td>1.86</td>\n",
              "      <td>30636.0000</td>\n",
              "      <td>0</td>\n",
              "      <td>0</td>\n",
              "      <td>141.211998</td>\n",
              "      <td>0</td>\n",
              "      <td>256</td>\n",
              "      <td>0</td>\n",
              "      <td>0</td>\n",
              "      <td>Intel</td>\n",
              "    </tr>\n",
              "    <tr>\n",
              "      <th>3</th>\n",
              "      <td>Apple</td>\n",
              "      <td>Ultrabook</td>\n",
              "      <td>Intel i7</td>\n",
              "      <td>16</td>\n",
              "      <td>AMD Radeon Pro 455</td>\n",
              "      <td>macOS</td>\n",
              "      <td>1.83</td>\n",
              "      <td>135195.3360</td>\n",
              "      <td>0</td>\n",
              "      <td>1</td>\n",
              "      <td>220.534624</td>\n",
              "      <td>0</td>\n",
              "      <td>512</td>\n",
              "      <td>0</td>\n",
              "      <td>0</td>\n",
              "      <td>AMD</td>\n",
              "    </tr>\n",
              "    <tr>\n",
              "      <th>4</th>\n",
              "      <td>Apple</td>\n",
              "      <td>Ultrabook</td>\n",
              "      <td>Intel i5</td>\n",
              "      <td>8</td>\n",
              "      <td>Intel Iris Plus Graphics 650</td>\n",
              "      <td>macOS</td>\n",
              "      <td>1.37</td>\n",
              "      <td>96095.8080</td>\n",
              "      <td>0</td>\n",
              "      <td>1</td>\n",
              "      <td>226.983005</td>\n",
              "      <td>0</td>\n",
              "      <td>256</td>\n",
              "      <td>0</td>\n",
              "      <td>0</td>\n",
              "      <td>Intel</td>\n",
              "    </tr>\n",
              "    <tr>\n",
              "      <th>...</th>\n",
              "      <td>...</td>\n",
              "      <td>...</td>\n",
              "      <td>...</td>\n",
              "      <td>...</td>\n",
              "      <td>...</td>\n",
              "      <td>...</td>\n",
              "      <td>...</td>\n",
              "      <td>...</td>\n",
              "      <td>...</td>\n",
              "      <td>...</td>\n",
              "      <td>...</td>\n",
              "      <td>...</td>\n",
              "      <td>...</td>\n",
              "      <td>...</td>\n",
              "      <td>...</td>\n",
              "      <td>...</td>\n",
              "    </tr>\n",
              "    <tr>\n",
              "      <th>1298</th>\n",
              "      <td>Lenovo</td>\n",
              "      <td>2 in 1 Convertible</td>\n",
              "      <td>Intel i7</td>\n",
              "      <td>4</td>\n",
              "      <td>Intel HD Graphics 520</td>\n",
              "      <td>Windows 10</td>\n",
              "      <td>1.80</td>\n",
              "      <td>33992.6400</td>\n",
              "      <td>1</td>\n",
              "      <td>1</td>\n",
              "      <td>157.350512</td>\n",
              "      <td>0</td>\n",
              "      <td>128</td>\n",
              "      <td>0</td>\n",
              "      <td>0</td>\n",
              "      <td>Intel</td>\n",
              "    </tr>\n",
              "    <tr>\n",
              "      <th>1299</th>\n",
              "      <td>Lenovo</td>\n",
              "      <td>2 in 1 Convertible</td>\n",
              "      <td>Intel i7</td>\n",
              "      <td>16</td>\n",
              "      <td>Intel HD Graphics 520</td>\n",
              "      <td>Windows 10</td>\n",
              "      <td>1.30</td>\n",
              "      <td>79866.7200</td>\n",
              "      <td>1</td>\n",
              "      <td>1</td>\n",
              "      <td>276.053530</td>\n",
              "      <td>0</td>\n",
              "      <td>512</td>\n",
              "      <td>0</td>\n",
              "      <td>0</td>\n",
              "      <td>Intel</td>\n",
              "    </tr>\n",
              "    <tr>\n",
              "      <th>1300</th>\n",
              "      <td>Lenovo</td>\n",
              "      <td>Notebook</td>\n",
              "      <td>Intel Celeron</td>\n",
              "      <td>2</td>\n",
              "      <td>Intel HD Graphics</td>\n",
              "      <td>Windows 10</td>\n",
              "      <td>1.50</td>\n",
              "      <td>12201.1200</td>\n",
              "      <td>0</td>\n",
              "      <td>0</td>\n",
              "      <td>111.935204</td>\n",
              "      <td>0</td>\n",
              "      <td>0</td>\n",
              "      <td>0</td>\n",
              "      <td>64</td>\n",
              "      <td>Intel</td>\n",
              "    </tr>\n",
              "    <tr>\n",
              "      <th>1301</th>\n",
              "      <td>HP</td>\n",
              "      <td>Notebook</td>\n",
              "      <td>Intel i7</td>\n",
              "      <td>6</td>\n",
              "      <td>AMD Radeon R5 M330</td>\n",
              "      <td>Windows 10</td>\n",
              "      <td>2.19</td>\n",
              "      <td>40705.9200</td>\n",
              "      <td>0</td>\n",
              "      <td>0</td>\n",
              "      <td>100.454670</td>\n",
              "      <td>1000</td>\n",
              "      <td>0</td>\n",
              "      <td>0</td>\n",
              "      <td>0</td>\n",
              "      <td>AMD</td>\n",
              "    </tr>\n",
              "    <tr>\n",
              "      <th>1302</th>\n",
              "      <td>Asus</td>\n",
              "      <td>Notebook</td>\n",
              "      <td>Intel Celeron</td>\n",
              "      <td>4</td>\n",
              "      <td>Intel HD Graphics</td>\n",
              "      <td>Windows 10</td>\n",
              "      <td>2.20</td>\n",
              "      <td>19660.3200</td>\n",
              "      <td>0</td>\n",
              "      <td>0</td>\n",
              "      <td>100.454670</td>\n",
              "      <td>500</td>\n",
              "      <td>0</td>\n",
              "      <td>0</td>\n",
              "      <td>0</td>\n",
              "      <td>Intel</td>\n",
              "    </tr>\n",
              "  </tbody>\n",
              "</table>\n",
              "<p>1302 rows × 16 columns</p>\n",
              "</div>\n",
              "      <button class=\"colab-df-convert\" onclick=\"convertToInteractive('df-399aadb3-eb36-4e3d-97c2-7c7bc4d8f713')\"\n",
              "              title=\"Convert this dataframe to an interactive table.\"\n",
              "              style=\"display:none;\">\n",
              "        \n",
              "  <svg xmlns=\"http://www.w3.org/2000/svg\" height=\"24px\"viewBox=\"0 0 24 24\"\n",
              "       width=\"24px\">\n",
              "    <path d=\"M0 0h24v24H0V0z\" fill=\"none\"/>\n",
              "    <path d=\"M18.56 5.44l.94 2.06.94-2.06 2.06-.94-2.06-.94-.94-2.06-.94 2.06-2.06.94zm-11 1L8.5 8.5l.94-2.06 2.06-.94-2.06-.94L8.5 2.5l-.94 2.06-2.06.94zm10 10l.94 2.06.94-2.06 2.06-.94-2.06-.94-.94-2.06-.94 2.06-2.06.94z\"/><path d=\"M17.41 7.96l-1.37-1.37c-.4-.4-.92-.59-1.43-.59-.52 0-1.04.2-1.43.59L10.3 9.45l-7.72 7.72c-.78.78-.78 2.05 0 2.83L4 21.41c.39.39.9.59 1.41.59.51 0 1.02-.2 1.41-.59l7.78-7.78 2.81-2.81c.8-.78.8-2.07 0-2.86zM5.41 20L4 18.59l7.72-7.72 1.47 1.35L5.41 20z\"/>\n",
              "  </svg>\n",
              "      </button>\n",
              "      \n",
              "  <style>\n",
              "    .colab-df-container {\n",
              "      display:flex;\n",
              "      flex-wrap:wrap;\n",
              "      gap: 12px;\n",
              "    }\n",
              "\n",
              "    .colab-df-convert {\n",
              "      background-color: #E8F0FE;\n",
              "      border: none;\n",
              "      border-radius: 50%;\n",
              "      cursor: pointer;\n",
              "      display: none;\n",
              "      fill: #1967D2;\n",
              "      height: 32px;\n",
              "      padding: 0 0 0 0;\n",
              "      width: 32px;\n",
              "    }\n",
              "\n",
              "    .colab-df-convert:hover {\n",
              "      background-color: #E2EBFA;\n",
              "      box-shadow: 0px 1px 2px rgba(60, 64, 67, 0.3), 0px 1px 3px 1px rgba(60, 64, 67, 0.15);\n",
              "      fill: #174EA6;\n",
              "    }\n",
              "\n",
              "    [theme=dark] .colab-df-convert {\n",
              "      background-color: #3B4455;\n",
              "      fill: #D2E3FC;\n",
              "    }\n",
              "\n",
              "    [theme=dark] .colab-df-convert:hover {\n",
              "      background-color: #434B5C;\n",
              "      box-shadow: 0px 1px 3px 1px rgba(0, 0, 0, 0.15);\n",
              "      filter: drop-shadow(0px 1px 2px rgba(0, 0, 0, 0.3));\n",
              "      fill: #FFFFFF;\n",
              "    }\n",
              "  </style>\n",
              "\n",
              "      <script>\n",
              "        const buttonEl =\n",
              "          document.querySelector('#df-399aadb3-eb36-4e3d-97c2-7c7bc4d8f713 button.colab-df-convert');\n",
              "        buttonEl.style.display =\n",
              "          google.colab.kernel.accessAllowed ? 'block' : 'none';\n",
              "\n",
              "        async function convertToInteractive(key) {\n",
              "          const element = document.querySelector('#df-399aadb3-eb36-4e3d-97c2-7c7bc4d8f713');\n",
              "          const dataTable =\n",
              "            await google.colab.kernel.invokeFunction('convertToInteractive',\n",
              "                                                     [key], {});\n",
              "          if (!dataTable) return;\n",
              "\n",
              "          const docLinkHtml = 'Like what you see? Visit the ' +\n",
              "            '<a target=\"_blank\" href=https://colab.research.google.com/notebooks/data_table.ipynb>data table notebook</a>'\n",
              "            + ' to learn more about interactive tables.';\n",
              "          element.innerHTML = '';\n",
              "          dataTable['output_type'] = 'display_data';\n",
              "          await google.colab.output.renderOutput(dataTable, element);\n",
              "          const docLink = document.createElement('div');\n",
              "          docLink.innerHTML = docLinkHtml;\n",
              "          element.appendChild(docLink);\n",
              "        }\n",
              "      </script>\n",
              "    </div>\n",
              "  </div>\n",
              "  "
            ]
          },
          "metadata": {},
          "execution_count": 415
        }
      ],
      "source": [
        "\n",
        "df"
      ]
    },
    {
      "cell_type": "code",
      "execution_count": null,
      "metadata": {
        "colab": {
          "base_uri": "https://localhost:8080/"
        },
        "id": "Ozfe1NiWVpHa",
        "outputId": "c2b5bac9-5fb3-4f6b-85fb-6e4bf4791412"
      },
      "outputs": [
        {
          "output_type": "execute_result",
          "data": {
            "text/plain": [
              "Intel     722\n",
              "Nvidia    400\n",
              "AMD       180\n",
              "Name: Gpu brand, dtype: int64"
            ]
          },
          "metadata": {},
          "execution_count": 416
        }
      ],
      "source": [
        "df['Gpu brand'].value_counts()"
      ]
    },
    {
      "cell_type": "code",
      "execution_count": null,
      "metadata": {
        "colab": {
          "base_uri": "https://localhost:8080/",
          "height": 301
        },
        "id": "6j8AvjN4Vq-2",
        "outputId": "a71b456e-c21d-4ea8-f68c-1007b6ed677d"
      },
      "outputs": [
        {
          "output_type": "display_data",
          "data": {
            "text/plain": [
              "<Figure size 432x288 with 1 Axes>"
            ],
            "image/png": "[encoded data removed]"
          },
          "metadata": {
            "needs_background": "light"
          }
        }
      ],
      "source": [
        "sns.barplot(x=df['Gpu brand'],y=df['Price'],estimator=np.median)\n",
        "plt.xticks(rotation='vertical')\n",
        "plt.show()"
      ]
    },
    {
      "cell_type": "code",
      "execution_count": null,
      "metadata": {
        "id": "3oBM56jCVt8W"
      },
      "outputs": [],
      "source": [
        "df['Gpu'] = df['Gpu brand']\n",
        "df.drop(columns=['Gpu brand'],inplace=True)"
      ]
    },
    {
      "cell_type": "code",
      "execution_count": null,
      "metadata": {
        "colab": {
          "base_uri": "https://localhost:8080/",
          "height": 357
        },
        "id": "2JwF24EYVxFm",
        "outputId": "fee84b3b-af8d-479e-8452-b025f8dbbea5"
      },
      "outputs": [
        {
          "output_type": "execute_result",
          "data": {
            "text/plain": [
              "  Company   TypeName       Cpu  Ram    Gpu  OpSys  Weight        Price  \\\n",
              "0   Apple  Ultrabook  Intel i5    8  Intel  macOS    1.37   71378.6832   \n",
              "1   Apple  Ultrabook  Intel i5    8  Intel  macOS    1.34   47895.5232   \n",
              "2      HP   Notebook  Intel i5    8  Intel  No OS    1.86   30636.0000   \n",
              "3   Apple  Ultrabook  Intel i7   16    AMD  macOS    1.83  135195.3360   \n",
              "4   Apple  Ultrabook  Intel i5    8  Intel  macOS    1.37   96095.8080   \n",
              "\n",
              "   Touchscreen  Ips         ppi  HDD  SSD  Hybrid  Flash_Storage  \n",
              "0            0    1  226.983005    0  128       0              0  \n",
              "1            0    0  127.677940    0    0       0            128  \n",
              "2            0    0  141.211998    0  256       0              0  \n",
              "3            0    1  220.534624    0  512       0              0  \n",
              "4            0    1  226.983005    0  256       0              0  "
            ],
            "text/html": [
              "\n",
              "  <div id=\"df-f05d2bc7-8b6e-4ecd-b018-c293853a749b\">\n",
              "    <div class=\"colab-df-container\">\n",
              "      <div>\n",
              "<style scoped>\n",
              "    .dataframe tbody tr th:only-of-type {\n",
              "        vertical-align: middle;\n",
              "    }\n",
              "\n",
              "    .dataframe tbody tr th {\n",
              "        vertical-align: top;\n",
              "    }\n",
              "\n",
              "    .dataframe thead th {\n",
              "        text-align: right;\n",
              "    }\n",
              "</style>\n",
              "<table border=\"1\" class=\"dataframe\">\n",
              "  <thead>\n",
              "    <tr style=\"text-align: right;\">\n",
              "      <th></th>\n",
              "      <th>Company</th>\n",
              "      <th>TypeName</th>\n",
              "      <th>Cpu</th>\n",
              "      <th>Ram</th>\n",
              "      <th>Gpu</th>\n",
              "      <th>OpSys</th>\n",
              "      <th>Weight</th>\n",
              "      <th>Price</th>\n",
              "      <th>Touchscreen</th>\n",
              "      <th>Ips</th>\n",
              "      <th>ppi</th>\n",
              "      <th>HDD</th>\n",
              "      <th>SSD</th>\n",
              "      <th>Hybrid</th>\n",
              "      <th>Flash_Storage</th>\n",
              "    </tr>\n",
              "  </thead>\n",
              "  <tbody>\n",
              "    <tr>\n",
              "      <th>0</th>\n",
              "      <td>Apple</td>\n",
              "      <td>Ultrabook</td>\n",
              "      <td>Intel i5</td>\n",
              "      <td>8</td>\n",
              "      <td>Intel</td>\n",
              "      <td>macOS</td>\n",
              "      <td>1.37</td>\n",
              "      <td>71378.6832</td>\n",
              "      <td>0</td>\n",
              "      <td>1</td>\n",
              "      <td>226.983005</td>\n",
              "      <td>0</td>\n",
              "      <td>128</td>\n",
              "      <td>0</td>\n",
              "      <td>0</td>\n",
              "    </tr>\n",
              "    <tr>\n",
              "      <th>1</th>\n",
              "      <td>Apple</td>\n",
              "      <td>Ultrabook</td>\n",
              "      <td>Intel i5</td>\n",
              "      <td>8</td>\n",
              "      <td>Intel</td>\n",
              "      <td>macOS</td>\n",
              "      <td>1.34</td>\n",
              "      <td>47895.5232</td>\n",
              "      <td>0</td>\n",
              "      <td>0</td>\n",
              "      <td>127.677940</td>\n",
              "      <td>0</td>\n",
              "      <td>0</td>\n",
              "      <td>0</td>\n",
              "      <td>128</td>\n",
              "    </tr>\n",
              "    <tr>\n",
              "      <th>2</th>\n",
              "      <td>HP</td>\n",
              "      <td>Notebook</td>\n",
              "      <td>Intel i5</td>\n",
              "      <td>8</td>\n",
              "      <td>Intel</td>\n",
              "      <td>No OS</td>\n",
              "      <td>1.86</td>\n",
              "      <td>30636.0000</td>\n",
              "      <td>0</td>\n",
              "      <td>0</td>\n",
              "      <td>141.211998</td>\n",
              "      <td>0</td>\n",
              "      <td>256</td>\n",
              "      <td>0</td>\n",
              "      <td>0</td>\n",
              "    </tr>\n",
              "    <tr>\n",
              "      <th>3</th>\n",
              "      <td>Apple</td>\n",
              "      <td>Ultrabook</td>\n",
              "      <td>Intel i7</td>\n",
              "      <td>16</td>\n",
              "      <td>AMD</td>\n",
              "      <td>macOS</td>\n",
              "      <td>1.83</td>\n",
              "      <td>135195.3360</td>\n",
              "      <td>0</td>\n",
              "      <td>1</td>\n",
              "      <td>220.534624</td>\n",
              "      <td>0</td>\n",
              "      <td>512</td>\n",
              "      <td>0</td>\n",
              "      <td>0</td>\n",
              "    </tr>\n",
              "    <tr>\n",
              "      <th>4</th>\n",
              "      <td>Apple</td>\n",
              "      <td>Ultrabook</td>\n",
              "      <td>Intel i5</td>\n",
              "      <td>8</td>\n",
              "      <td>Intel</td>\n",
              "      <td>macOS</td>\n",
              "      <td>1.37</td>\n",
              "      <td>96095.8080</td>\n",
              "      <td>0</td>\n",
              "      <td>1</td>\n",
              "      <td>226.983005</td>\n",
              "      <td>0</td>\n",
              "      <td>256</td>\n",
              "      <td>0</td>\n",
              "      <td>0</td>\n",
              "    </tr>\n",
              "  </tbody>\n",
              "</table>\n",
              "</div>\n",
              "      <button class=\"colab-df-convert\" onclick=\"convertToInteractive('df-f05d2bc7-8b6e-4ecd-b018-c293853a749b')\"\n",
              "              title=\"Convert this dataframe to an interactive table.\"\n",
              "              style=\"display:none;\">\n",
              "        \n",
              "  <svg xmlns=\"http://www.w3.org/2000/svg\" height=\"24px\"viewBox=\"0 0 24 24\"\n",
              "       width=\"24px\">\n",
              "    <path d=\"M0 0h24v24H0V0z\" fill=\"none\"/>\n",
              "    <path d=\"M18.56 5.44l.94 2.06.94-2.06 2.06-.94-2.06-.94-.94-2.06-.94 2.06-2.06.94zm-11 1L8.5 8.5l.94-2.06 2.06-.94-2.06-.94L8.5 2.5l-.94 2.06-2.06.94zm10 10l.94 2.06.94-2.06 2.06-.94-2.06-.94-.94-2.06-.94 2.06-2.06.94z\"/><path d=\"M17.41 7.96l-1.37-1.37c-.4-.4-.92-.59-1.43-.59-.52 0-1.04.2-1.43.59L10.3 9.45l-7.72 7.72c-.78.78-.78 2.05 0 2.83L4 21.41c.39.39.9.59 1.41.59.51 0 1.02-.2 1.41-.59l7.78-7.78 2.81-2.81c.8-.78.8-2.07 0-2.86zM5.41 20L4 18.59l7.72-7.72 1.47 1.35L5.41 20z\"/>\n",
              "  </svg>\n",
              "      </button>\n",
              "      \n",
              "  <style>\n",
              "    .colab-df-container {\n",
              "      display:flex;\n",
              "      flex-wrap:wrap;\n",
              "      gap: 12px;\n",
              "    }\n",
              "\n",
              "    .colab-df-convert {\n",
              "      background-color: #E8F0FE;\n",
              "      border: none;\n",
              "      border-radius: 50%;\n",
              "      cursor: pointer;\n",
              "      display: none;\n",
              "      fill: #1967D2;\n",
              "      height: 32px;\n",
              "      padding: 0 0 0 0;\n",
              "      width: 32px;\n",
              "    }\n",
              "\n",
              "    .colab-df-convert:hover {\n",
              "      background-color: #E2EBFA;\n",
              "      box-shadow: 0px 1px 2px rgba(60, 64, 67, 0.3), 0px 1px 3px 1px rgba(60, 64, 67, 0.15);\n",
              "      fill: #174EA6;\n",
              "    }\n",
              "\n",
              "    [theme=dark] .colab-df-convert {\n",
              "      background-color: #3B4455;\n",
              "      fill: #D2E3FC;\n",
              "    }\n",
              "\n",
              "    [theme=dark] .colab-df-convert:hover {\n",
              "      background-color: #434B5C;\n",
              "      box-shadow: 0px 1px 3px 1px rgba(0, 0, 0, 0.15);\n",
              "      filter: drop-shadow(0px 1px 2px rgba(0, 0, 0, 0.3));\n",
              "      fill: #FFFFFF;\n",
              "    }\n",
              "  </style>\n",
              "\n",
              "      <script>\n",
              "        const buttonEl =\n",
              "          document.querySelector('#df-f05d2bc7-8b6e-4ecd-b018-c293853a749b button.colab-df-convert');\n",
              "        buttonEl.style.display =\n",
              "          google.colab.kernel.accessAllowed ? 'block' : 'none';\n",
              "\n",
              "        async function convertToInteractive(key) {\n",
              "          const element = document.querySelector('#df-f05d2bc7-8b6e-4ecd-b018-c293853a749b');\n",
              "          const dataTable =\n",
              "            await google.colab.kernel.invokeFunction('convertToInteractive',\n",
              "                                                     [key], {});\n",
              "          if (!dataTable) return;\n",
              "\n",
              "          const docLinkHtml = 'Like what you see? Visit the ' +\n",
              "            '<a target=\"_blank\" href=https://colab.research.google.com/notebooks/data_table.ipynb>data table notebook</a>'\n",
              "            + ' to learn more about interactive tables.';\n",
              "          element.innerHTML = '';\n",
              "          dataTable['output_type'] = 'display_data';\n",
              "          await google.colab.output.renderOutput(dataTable, element);\n",
              "          const docLink = document.createElement('div');\n",
              "          docLink.innerHTML = docLinkHtml;\n",
              "          element.appendChild(docLink);\n",
              "        }\n",
              "      </script>\n",
              "    </div>\n",
              "  </div>\n",
              "  "
            ]
          },
          "metadata": {},
          "execution_count": 419
        }
      ],
      "source": [
        "df.head()"
      ]
    },
    {
      "cell_type": "code",
      "execution_count": null,
      "metadata": {
        "colab": {
          "base_uri": "https://localhost:8080/"
        },
        "id": "aYUgRN2lVzas",
        "outputId": "11118945-61c2-41b2-f51c-2b2eec97919c"
      },
      "outputs": [
        {
          "output_type": "execute_result",
          "data": {
            "text/plain": [
              "Windows 10      1072\n",
              "No OS             66\n",
              "Linux             62\n",
              "Windows 7         45\n",
              "Chrome OS         26\n",
              "macOS             13\n",
              "Mac OS X           8\n",
              "Windows 10 S       8\n",
              "Android            2\n",
              "Name: OpSys, dtype: int64"
            ]
          },
          "metadata": {},
          "execution_count": 420
        }
      ],
      "source": [
        "df['OpSys'].value_counts()"
      ]
    },
    {
      "cell_type": "code",
      "execution_count": null,
      "metadata": {
        "colab": {
          "base_uri": "https://localhost:8080/",
          "height": 339
        },
        "id": "iPL5D1kFV7af",
        "outputId": "3f4201a9-e066-4cfe-d231-16bfbbba0ac9"
      },
      "outputs": [
        {
          "output_type": "display_data",
          "data": {
            "text/plain": [
              "<Figure size 432x288 with 1 Axes>"
            ],
            "image/png": "[encoded data removed]"
          },
          "metadata": {
            "needs_background": "light"
          }
        }
      ],
      "source": [
        "sns.barplot(x=df['OpSys'],y=df['Price'])\n",
        "plt.xticks(rotation='vertical')\n",
        "plt.show()"
      ]
    },
    {
      "cell_type": "code",
      "execution_count": null,
      "metadata": {
        "id": "t-5n5EtZpmVi"
      },
      "outputs": [],
      "source": [
        "def cat_os(inp):\n",
        "    if inp == 'Windows 10' or inp == 'Windows 7' or inp == 'Windows 10 S':\n",
        "        return 'Windows'\n",
        "    elif inp == 'macOS' or inp == 'Mac OS X':\n",
        "        return 'Mac'\n",
        "    else:\n",
        "        return 'Others/No OS/Linux'"
      ]
    },
    {
      "cell_type": "code",
      "execution_count": null,
      "metadata": {
        "id": "rJHowcXRppGZ"
      },
      "outputs": [],
      "source": [
        "df['os'] = df['OpSys'].apply(cat_os)"
      ]
    },
    {
      "cell_type": "code",
      "execution_count": null,
      "metadata": {
        "id": "zEH9RhYtpqXp"
      },
      "outputs": [],
      "source": [
        "df.drop(columns = ['OpSys'],inplace = True)"
      ]
    },
    {
      "cell_type": "code",
      "execution_count": null,
      "metadata": {
        "id": "jj5dH2iGp1qD"
      },
      "outputs": [],
      "source": [
        "df['OpSys'] = df['os']"
      ]
    },
    {
      "cell_type": "code",
      "execution_count": null,
      "metadata": {
        "id": "hbJsHvXZp6rJ"
      },
      "outputs": [],
      "source": [
        "df.drop(columns = ['os'],inplace = True)"
      ]
    },
    {
      "cell_type": "code",
      "execution_count": null,
      "metadata": {
        "colab": {
          "base_uri": "https://localhost:8080/",
          "height": 352
        },
        "id": "ILyctcS2V9N-",
        "outputId": "9197b570-bf3c-4636-a2a6-7f2d5eef014c"
      },
      "outputs": [
        {
          "output_type": "stream",
          "name": "stderr",
          "text": [
            "/usr/local/lib/python3.7/dist-packages/seaborn/distributions.py:2619: FutureWarning: `distplot` is a deprecated function and will be removed in a future version. Please adapt your code to use either `displot` (a figure-level function with similar flexibility) or `histplot` (an axes-level function for histograms).\n",
            "  warnings.warn(msg, FutureWarning)\n"
          ]
        },
        {
          "output_type": "execute_result",
          "data": {
            "text/plain": [
              "<matplotlib.axes._subplots.AxesSubplot at 0x7fa75b60d990>"
            ]
          },
          "metadata": {},
          "execution_count": 427
        },
        {
          "output_type": "display_data",
          "data": {
            "text/plain": [
              "<Figure size 432x288 with 1 Axes>"
            ],
            "image/png": "[encoded data removed]"
          },
          "metadata": {
            "needs_background": "light"
          }
        }
      ],
      "source": [
        "sns.distplot(df['Weight'])"
      ]
    },
    {
      "cell_type": "code",
      "execution_count": null,
      "metadata": {
        "id": "8nyxQVXrmUPh"
      },
      "outputs": [],
      "source": [
        "df.drop(columns = 'Flash_Storage',inplace = True)"
      ]
    },
    {
      "cell_type": "code",
      "execution_count": null,
      "metadata": {
        "colab": {
          "base_uri": "https://localhost:8080/"
        },
        "id": "p6AMzYANWntu",
        "outputId": "62af790f-957c-40f5-96e2-c686a2cbdbde"
      },
      "outputs": [
        {
          "output_type": "execute_result",
          "data": {
            "text/plain": [
              "Ram            0.742905\n",
              "Weight         0.209863\n",
              "Price          1.000000\n",
              "Touchscreen    0.192917\n",
              "Ips            0.253320\n",
              "ppi            0.475368\n",
              "HDD           -0.096891\n",
              "SSD            0.670660\n",
              "Hybrid         0.007942\n",
              "Name: Price, dtype: float64"
            ]
          },
          "metadata": {},
          "execution_count": 429
        }
      ],
      "source": [
        "df.corr()['Price']"
      ]
    },
    {
      "cell_type": "code",
      "source": [
        "df.drop(columns = ['Hybrid'],inplace = True)"
      ],
      "metadata": {
        "id": "1X3fZVXWwiWa"
      },
      "execution_count": null,
      "outputs": []
    },
    {
      "cell_type": "code",
      "execution_count": null,
      "metadata": {
        "id": "YQ11PQqXWr1G"
      },
      "outputs": [],
      "source": [
        "X = df.drop(columns=['Price'])\n",
        "y = np.log(df['Price'])"
      ]
    },
    {
      "cell_type": "code",
      "execution_count": null,
      "metadata": {
        "colab": {
          "base_uri": "https://localhost:8080/",
          "height": 357
        },
        "id": "2NgW7jcggKY_",
        "outputId": "503df4da-8359-43ac-b1b2-83dff4945e44"
      },
      "outputs": [
        {
          "output_type": "execute_result",
          "data": {
            "text/plain": [
              "  Company   TypeName       Cpu  Ram    Gpu  Weight  Touchscreen  Ips  \\\n",
              "0   Apple  Ultrabook  Intel i5    8  Intel    1.37            0    1   \n",
              "1   Apple  Ultrabook  Intel i5    8  Intel    1.34            0    0   \n",
              "2      HP   Notebook  Intel i5    8  Intel    1.86            0    0   \n",
              "3   Apple  Ultrabook  Intel i7   16    AMD    1.83            0    1   \n",
              "4   Apple  Ultrabook  Intel i5    8  Intel    1.37            0    1   \n",
              "\n",
              "          ppi  HDD  SSD               OpSys  \n",
              "0  226.983005    0  128                 Mac  \n",
              "1  127.677940    0    0                 Mac  \n",
              "2  141.211998    0  256  Others/No OS/Linux  \n",
              "3  220.534624    0  512                 Mac  \n",
              "4  226.983005    0  256                 Mac  "
            ],
            "text/html": [
              "\n",
              "  <div id=\"df-8be84da5-0380-4a0d-ba52-eff16c99b299\">\n",
              "    <div class=\"colab-df-container\">\n",
              "      <div>\n",
              "<style scoped>\n",
              "    .dataframe tbody tr th:only-of-type {\n",
              "        vertical-align: middle;\n",
              "    }\n",
              "\n",
              "    .dataframe tbody tr th {\n",
              "        vertical-align: top;\n",
              "    }\n",
              "\n",
              "    .dataframe thead th {\n",
              "        text-align: right;\n",
              "    }\n",
              "</style>\n",
              "<table border=\"1\" class=\"dataframe\">\n",
              "  <thead>\n",
              "    <tr style=\"text-align: right;\">\n",
              "      <th></th>\n",
              "      <th>Company</th>\n",
              "      <th>TypeName</th>\n",
              "      <th>Cpu</th>\n",
              "      <th>Ram</th>\n",
              "      <th>Gpu</th>\n",
              "      <th>Weight</th>\n",
              "      <th>Touchscreen</th>\n",
              "      <th>Ips</th>\n",
              "      <th>ppi</th>\n",
              "      <th>HDD</th>\n",
              "      <th>SSD</th>\n",
              "      <th>OpSys</th>\n",
              "    </tr>\n",
              "  </thead>\n",
              "  <tbody>\n",
              "    <tr>\n",
              "      <th>0</th>\n",
              "      <td>Apple</td>\n",
              "      <td>Ultrabook</td>\n",
              "      <td>Intel i5</td>\n",
              "      <td>8</td>\n",
              "      <td>Intel</td>\n",
              "      <td>1.37</td>\n",
              "      <td>0</td>\n",
              "      <td>1</td>\n",
              "      <td>226.983005</td>\n",
              "      <td>0</td>\n",
              "      <td>128</td>\n",
              "      <td>Mac</td>\n",
              "    </tr>\n",
              "    <tr>\n",
              "      <th>1</th>\n",
              "      <td>Apple</td>\n",
              "      <td>Ultrabook</td>\n",
              "      <td>Intel i5</td>\n",
              "      <td>8</td>\n",
              "      <td>Intel</td>\n",
              "      <td>1.34</td>\n",
              "      <td>0</td>\n",
              "      <td>0</td>\n",
              "      <td>127.677940</td>\n",
              "      <td>0</td>\n",
              "      <td>0</td>\n",
              "      <td>Mac</td>\n",
              "    </tr>\n",
              "    <tr>\n",
              "      <th>2</th>\n",
              "      <td>HP</td>\n",
              "      <td>Notebook</td>\n",
              "      <td>Intel i5</td>\n",
              "      <td>8</td>\n",
              "      <td>Intel</td>\n",
              "      <td>1.86</td>\n",
              "      <td>0</td>\n",
              "      <td>0</td>\n",
              "      <td>141.211998</td>\n",
              "      <td>0</td>\n",
              "      <td>256</td>\n",
              "      <td>Others/No OS/Linux</td>\n",
              "    </tr>\n",
              "    <tr>\n",
              "      <th>3</th>\n",
              "      <td>Apple</td>\n",
              "      <td>Ultrabook</td>\n",
              "      <td>Intel i7</td>\n",
              "      <td>16</td>\n",
              "      <td>AMD</td>\n",
              "      <td>1.83</td>\n",
              "      <td>0</td>\n",
              "      <td>1</td>\n",
              "      <td>220.534624</td>\n",
              "      <td>0</td>\n",
              "      <td>512</td>\n",
              "      <td>Mac</td>\n",
              "    </tr>\n",
              "    <tr>\n",
              "      <th>4</th>\n",
              "      <td>Apple</td>\n",
              "      <td>Ultrabook</td>\n",
              "      <td>Intel i5</td>\n",
              "      <td>8</td>\n",
              "      <td>Intel</td>\n",
              "      <td>1.37</td>\n",
              "      <td>0</td>\n",
              "      <td>1</td>\n",
              "      <td>226.983005</td>\n",
              "      <td>0</td>\n",
              "      <td>256</td>\n",
              "      <td>Mac</td>\n",
              "    </tr>\n",
              "  </tbody>\n",
              "</table>\n",
              "</div>\n",
              "      <button class=\"colab-df-convert\" onclick=\"convertToInteractive('df-8be84da5-0380-4a0d-ba52-eff16c99b299')\"\n",
              "              title=\"Convert this dataframe to an interactive table.\"\n",
              "              style=\"display:none;\">\n",
              "        \n",
              "  <svg xmlns=\"http://www.w3.org/2000/svg\" height=\"24px\"viewBox=\"0 0 24 24\"\n",
              "       width=\"24px\">\n",
              "    <path d=\"M0 0h24v24H0V0z\" fill=\"none\"/>\n",
              "    <path d=\"M18.56 5.44l.94 2.06.94-2.06 2.06-.94-2.06-.94-.94-2.06-.94 2.06-2.06.94zm-11 1L8.5 8.5l.94-2.06 2.06-.94-2.06-.94L8.5 2.5l-.94 2.06-2.06.94zm10 10l.94 2.06.94-2.06 2.06-.94-2.06-.94-.94-2.06-.94 2.06-2.06.94z\"/><path d=\"M17.41 7.96l-1.37-1.37c-.4-.4-.92-.59-1.43-.59-.52 0-1.04.2-1.43.59L10.3 9.45l-7.72 7.72c-.78.78-.78 2.05 0 2.83L4 21.41c.39.39.9.59 1.41.59.51 0 1.02-.2 1.41-.59l7.78-7.78 2.81-2.81c.8-.78.8-2.07 0-2.86zM5.41 20L4 18.59l7.72-7.72 1.47 1.35L5.41 20z\"/>\n",
              "  </svg>\n",
              "      </button>\n",
              "      \n",
              "  <style>\n",
              "    .colab-df-container {\n",
              "      display:flex;\n",
              "      flex-wrap:wrap;\n",
              "      gap: 12px;\n",
              "    }\n",
              "\n",
              "    .colab-df-convert {\n",
              "      background-color: #E8F0FE;\n",
              "      border: none;\n",
              "      border-radius: 50%;\n",
              "      cursor: pointer;\n",
              "      display: none;\n",
              "      fill: #1967D2;\n",
              "      height: 32px;\n",
              "      padding: 0 0 0 0;\n",
              "      width: 32px;\n",
              "    }\n",
              "\n",
              "    .colab-df-convert:hover {\n",
              "      background-color: #E2EBFA;\n",
              "      box-shadow: 0px 1px 2px rgba(60, 64, 67, 0.3), 0px 1px 3px 1px rgba(60, 64, 67, 0.15);\n",
              "      fill: #174EA6;\n",
              "    }\n",
              "\n",
              "    [theme=dark] .colab-df-convert {\n",
              "      background-color: #3B4455;\n",
              "      fill: #D2E3FC;\n",
              "    }\n",
              "\n",
              "    [theme=dark] .colab-df-convert:hover {\n",
              "      background-color: #434B5C;\n",
              "      box-shadow: 0px 1px 3px 1px rgba(0, 0, 0, 0.15);\n",
              "      filter: drop-shadow(0px 1px 2px rgba(0, 0, 0, 0.3));\n",
              "      fill: #FFFFFF;\n",
              "    }\n",
              "  </style>\n",
              "\n",
              "      <script>\n",
              "        const buttonEl =\n",
              "          document.querySelector('#df-8be84da5-0380-4a0d-ba52-eff16c99b299 button.colab-df-convert');\n",
              "        buttonEl.style.display =\n",
              "          google.colab.kernel.accessAllowed ? 'block' : 'none';\n",
              "\n",
              "        async function convertToInteractive(key) {\n",
              "          const element = document.querySelector('#df-8be84da5-0380-4a0d-ba52-eff16c99b299');\n",
              "          const dataTable =\n",
              "            await google.colab.kernel.invokeFunction('convertToInteractive',\n",
              "                                                     [key], {});\n",
              "          if (!dataTable) return;\n",
              "\n",
              "          const docLinkHtml = 'Like what you see? Visit the ' +\n",
              "            '<a target=\"_blank\" href=https://colab.research.google.com/notebooks/data_table.ipynb>data table notebook</a>'\n",
              "            + ' to learn more about interactive tables.';\n",
              "          element.innerHTML = '';\n",
              "          dataTable['output_type'] = 'display_data';\n",
              "          await google.colab.output.renderOutput(dataTable, element);\n",
              "          const docLink = document.createElement('div');\n",
              "          docLink.innerHTML = docLinkHtml;\n",
              "          element.appendChild(docLink);\n",
              "        }\n",
              "      </script>\n",
              "    </div>\n",
              "  </div>\n",
              "  "
            ]
          },
          "metadata": {},
          "execution_count": 432
        }
      ],
      "source": [
        "X.head()"
      ]
    },
    {
      "cell_type": "code",
      "execution_count": null,
      "metadata": {
        "colab": {
          "base_uri": "https://localhost:8080/"
        },
        "id": "LvZEUeAmgMwh",
        "outputId": "914ffaf0-49eb-4e96-d30f-7c9f014aa3c6"
      },
      "outputs": [
        {
          "output_type": "execute_result",
          "data": {
            "text/plain": [
              "0       11.175755\n",
              "1       10.776777\n",
              "2       10.329931\n",
              "3       11.814476\n",
              "4       11.473101\n",
              "          ...    \n",
              "1298    10.433899\n",
              "1299    11.288115\n",
              "1300     9.409283\n",
              "1301    10.614129\n",
              "1302     9.886358\n",
              "Name: Price, Length: 1302, dtype: float64"
            ]
          },
          "metadata": {},
          "execution_count": 433
        }
      ],
      "source": [
        "y"
      ]
    },
    {
      "cell_type": "code",
      "execution_count": null,
      "metadata": {
        "id": "jrHWUHLtgTbp"
      },
      "outputs": [],
      "source": [
        "from sklearn.model_selection import train_test_split\n",
        "X_train,X_test,y_train,y_test = train_test_split(X,y,test_size = 0.15,random_state = 1)"
      ]
    },
    {
      "cell_type": "code",
      "execution_count": null,
      "metadata": {
        "colab": {
          "base_uri": "https://localhost:8080/",
          "height": 557
        },
        "id": "ufwWFEs6g9Qw",
        "outputId": "6b87fbca-8f12-4633-b232-3d0c1c40e385"
      },
      "outputs": [
        {
          "output_type": "execute_result",
          "data": {
            "text/plain": [
              "     Company   TypeName            Cpu  Ram     Gpu  Weight  Touchscreen  Ips  \\\n",
              "335       HP   Notebook       Intel i5    8   Intel    1.48            0    0   \n",
              "786      MSI     Gaming       Intel i5    8  Nvidia    2.20            0    0   \n",
              "817       HP    Netbook  Intel Celeron    4   Intel    1.23            0    0   \n",
              "258      MSI     Gaming       Intel i7   16  Nvidia    4.14            0    0   \n",
              "661   Lenovo   Notebook  Intel Celeron    4   Intel    2.20            0    0   \n",
              "...      ...        ...            ...  ...     ...     ...          ...  ...   \n",
              "715   Lenovo   Notebook       Intel i5    8  Nvidia    1.87            0    1   \n",
              "905       LG  Ultrabook       Intel i7   16   Intel    1.08            1    1   \n",
              "1096    Dell   Notebook       Intel i5    8     AMD    2.36            0    0   \n",
              "235     Dell   Notebook       Intel i7   16     AMD    2.36            0    0   \n",
              "1061    Asus     Gaming       Intel i7   16  Nvidia    4.00            0    1   \n",
              "\n",
              "             ppi   HDD  SSD               OpSys  \n",
              "335   157.350512     0  256             Windows  \n",
              "786   141.211998  1000  128             Windows  \n",
              "817   135.094211     0    0  Others/No OS/Linux  \n",
              "258   127.335675  1000  512             Windows  \n",
              "661   100.454670   500    0             Windows  \n",
              "...          ...   ...  ...                 ...  \n",
              "715   157.350512     0  256             Windows  \n",
              "905   141.211998     0  512             Windows  \n",
              "1096  141.211998  1000    0             Windows  \n",
              "235   141.211998     0  256  Others/No OS/Linux  \n",
              "1061  127.335675  1000    0  Others/No OS/Linux  \n",
              "\n",
              "[1106 rows x 12 columns]"
            ],
            "text/html": [
              "\n",
              "  <div id=\"df-a220de8e-c6b0-4ce3-b1c3-ba6588456c37\">\n",
              "    <div class=\"colab-df-container\">\n",
              "      <div>\n",
              "<style scoped>\n",
              "    .dataframe tbody tr th:only-of-type {\n",
              "        vertical-align: middle;\n",
              "    }\n",
              "\n",
              "    .dataframe tbody tr th {\n",
              "        vertical-align: top;\n",
              "    }\n",
              "\n",
              "    .dataframe thead th {\n",
              "        text-align: right;\n",
              "    }\n",
              "</style>\n",
              "<table border=\"1\" class=\"dataframe\">\n",
              "  <thead>\n",
              "    <tr style=\"text-align: right;\">\n",
              "      <th></th>\n",
              "      <th>Company</th>\n",
              "      <th>TypeName</th>\n",
              "      <th>Cpu</th>\n",
              "      <th>Ram</th>\n",
              "      <th>Gpu</th>\n",
              "      <th>Weight</th>\n",
              "      <th>Touchscreen</th>\n",
              "      <th>Ips</th>\n",
              "      <th>ppi</th>\n",
              "      <th>HDD</th>\n",
              "      <th>SSD</th>\n",
              "      <th>OpSys</th>\n",
              "    </tr>\n",
              "  </thead>\n",
              "  <tbody>\n",
              "    <tr>\n",
              "      <th>335</th>\n",
              "      <td>HP</td>\n",
              "      <td>Notebook</td>\n",
              "      <td>Intel i5</td>\n",
              "      <td>8</td>\n",
              "      <td>Intel</td>\n",
              "      <td>1.48</td>\n",
              "      <td>0</td>\n",
              "      <td>0</td>\n",
              "      <td>157.350512</td>\n",
              "      <td>0</td>\n",
              "      <td>256</td>\n",
              "      <td>Windows</td>\n",
              "    </tr>\n",
              "    <tr>\n",
              "      <th>786</th>\n",
              "      <td>MSI</td>\n",
              "      <td>Gaming</td>\n",
              "      <td>Intel i5</td>\n",
              "      <td>8</td>\n",
              "      <td>Nvidia</td>\n",
              "      <td>2.20</td>\n",
              "      <td>0</td>\n",
              "      <td>0</td>\n",
              "      <td>141.211998</td>\n",
              "      <td>1000</td>\n",
              "      <td>128</td>\n",
              "      <td>Windows</td>\n",
              "    </tr>\n",
              "    <tr>\n",
              "      <th>817</th>\n",
              "      <td>HP</td>\n",
              "      <td>Netbook</td>\n",
              "      <td>Intel Celeron</td>\n",
              "      <td>4</td>\n",
              "      <td>Intel</td>\n",
              "      <td>1.23</td>\n",
              "      <td>0</td>\n",
              "      <td>0</td>\n",
              "      <td>135.094211</td>\n",
              "      <td>0</td>\n",
              "      <td>0</td>\n",
              "      <td>Others/No OS/Linux</td>\n",
              "    </tr>\n",
              "    <tr>\n",
              "      <th>258</th>\n",
              "      <td>MSI</td>\n",
              "      <td>Gaming</td>\n",
              "      <td>Intel i7</td>\n",
              "      <td>16</td>\n",
              "      <td>Nvidia</td>\n",
              "      <td>4.14</td>\n",
              "      <td>0</td>\n",
              "      <td>0</td>\n",
              "      <td>127.335675</td>\n",
              "      <td>1000</td>\n",
              "      <td>512</td>\n",
              "      <td>Windows</td>\n",
              "    </tr>\n",
              "    <tr>\n",
              "      <th>661</th>\n",
              "      <td>Lenovo</td>\n",
              "      <td>Notebook</td>\n",
              "      <td>Intel Celeron</td>\n",
              "      <td>4</td>\n",
              "      <td>Intel</td>\n",
              "      <td>2.20</td>\n",
              "      <td>0</td>\n",
              "      <td>0</td>\n",
              "      <td>100.454670</td>\n",
              "      <td>500</td>\n",
              "      <td>0</td>\n",
              "      <td>Windows</td>\n",
              "    </tr>\n",
              "    <tr>\n",
              "      <th>...</th>\n",
              "      <td>...</td>\n",
              "      <td>...</td>\n",
              "      <td>...</td>\n",
              "      <td>...</td>\n",
              "      <td>...</td>\n",
              "      <td>...</td>\n",
              "      <td>...</td>\n",
              "      <td>...</td>\n",
              "      <td>...</td>\n",
              "      <td>...</td>\n",
              "      <td>...</td>\n",
              "      <td>...</td>\n",
              "    </tr>\n",
              "    <tr>\n",
              "      <th>715</th>\n",
              "      <td>Lenovo</td>\n",
              "      <td>Notebook</td>\n",
              "      <td>Intel i5</td>\n",
              "      <td>8</td>\n",
              "      <td>Nvidia</td>\n",
              "      <td>1.87</td>\n",
              "      <td>0</td>\n",
              "      <td>1</td>\n",
              "      <td>157.350512</td>\n",
              "      <td>0</td>\n",
              "      <td>256</td>\n",
              "      <td>Windows</td>\n",
              "    </tr>\n",
              "    <tr>\n",
              "      <th>905</th>\n",
              "      <td>LG</td>\n",
              "      <td>Ultrabook</td>\n",
              "      <td>Intel i7</td>\n",
              "      <td>16</td>\n",
              "      <td>Intel</td>\n",
              "      <td>1.08</td>\n",
              "      <td>1</td>\n",
              "      <td>1</td>\n",
              "      <td>141.211998</td>\n",
              "      <td>0</td>\n",
              "      <td>512</td>\n",
              "      <td>Windows</td>\n",
              "    </tr>\n",
              "    <tr>\n",
              "      <th>1096</th>\n",
              "      <td>Dell</td>\n",
              "      <td>Notebook</td>\n",
              "      <td>Intel i5</td>\n",
              "      <td>8</td>\n",
              "      <td>AMD</td>\n",
              "      <td>2.36</td>\n",
              "      <td>0</td>\n",
              "      <td>0</td>\n",
              "      <td>141.211998</td>\n",
              "      <td>1000</td>\n",
              "      <td>0</td>\n",
              "      <td>Windows</td>\n",
              "    </tr>\n",
              "    <tr>\n",
              "      <th>235</th>\n",
              "      <td>Dell</td>\n",
              "      <td>Notebook</td>\n",
              "      <td>Intel i7</td>\n",
              "      <td>16</td>\n",
              "      <td>AMD</td>\n",
              "      <td>2.36</td>\n",
              "      <td>0</td>\n",
              "      <td>0</td>\n",
              "      <td>141.211998</td>\n",
              "      <td>0</td>\n",
              "      <td>256</td>\n",
              "      <td>Others/No OS/Linux</td>\n",
              "    </tr>\n",
              "    <tr>\n",
              "      <th>1061</th>\n",
              "      <td>Asus</td>\n",
              "      <td>Gaming</td>\n",
              "      <td>Intel i7</td>\n",
              "      <td>16</td>\n",
              "      <td>Nvidia</td>\n",
              "      <td>4.00</td>\n",
              "      <td>0</td>\n",
              "      <td>1</td>\n",
              "      <td>127.335675</td>\n",
              "      <td>1000</td>\n",
              "      <td>0</td>\n",
              "      <td>Others/No OS/Linux</td>\n",
              "    </tr>\n",
              "  </tbody>\n",
              "</table>\n",
              "<p>1106 rows × 12 columns</p>\n",
              "</div>\n",
              "      <button class=\"colab-df-convert\" onclick=\"convertToInteractive('df-a220de8e-c6b0-4ce3-b1c3-ba6588456c37')\"\n",
              "              title=\"Convert this dataframe to an interactive table.\"\n",
              "              style=\"display:none;\">\n",
              "        \n",
              "  <svg xmlns=\"http://www.w3.org/2000/svg\" height=\"24px\"viewBox=\"0 0 24 24\"\n",
              "       width=\"24px\">\n",
              "    <path d=\"M0 0h24v24H0V0z\" fill=\"none\"/>\n",
              "    <path d=\"M18.56 5.44l.94 2.06.94-2.06 2.06-.94-2.06-.94-.94-2.06-.94 2.06-2.06.94zm-11 1L8.5 8.5l.94-2.06 2.06-.94-2.06-.94L8.5 2.5l-.94 2.06-2.06.94zm10 10l.94 2.06.94-2.06 2.06-.94-2.06-.94-.94-2.06-.94 2.06-2.06.94z\"/><path d=\"M17.41 7.96l-1.37-1.37c-.4-.4-.92-.59-1.43-.59-.52 0-1.04.2-1.43.59L10.3 9.45l-7.72 7.72c-.78.78-.78 2.05 0 2.83L4 21.41c.39.39.9.59 1.41.59.51 0 1.02-.2 1.41-.59l7.78-7.78 2.81-2.81c.8-.78.8-2.07 0-2.86zM5.41 20L4 18.59l7.72-7.72 1.47 1.35L5.41 20z\"/>\n",
              "  </svg>\n",
              "      </button>\n",
              "      \n",
              "  <style>\n",
              "    .colab-df-container {\n",
              "      display:flex;\n",
              "      flex-wrap:wrap;\n",
              "      gap: 12px;\n",
              "    }\n",
              "\n",
              "    .colab-df-convert {\n",
              "      background-color: #E8F0FE;\n",
              "      border: none;\n",
              "      border-radius: 50%;\n",
              "      cursor: pointer;\n",
              "      display: none;\n",
              "      fill: #1967D2;\n",
              "      height: 32px;\n",
              "      padding: 0 0 0 0;\n",
              "      width: 32px;\n",
              "    }\n",
              "\n",
              "    .colab-df-convert:hover {\n",
              "      background-color: #E2EBFA;\n",
              "      box-shadow: 0px 1px 2px rgba(60, 64, 67, 0.3), 0px 1px 3px 1px rgba(60, 64, 67, 0.15);\n",
              "      fill: #174EA6;\n",
              "    }\n",
              "\n",
              "    [theme=dark] .colab-df-convert {\n",
              "      background-color: #3B4455;\n",
              "      fill: #D2E3FC;\n",
              "    }\n",
              "\n",
              "    [theme=dark] .colab-df-convert:hover {\n",
              "      background-color: #434B5C;\n",
              "      box-shadow: 0px 1px 3px 1px rgba(0, 0, 0, 0.15);\n",
              "      filter: drop-shadow(0px 1px 2px rgba(0, 0, 0, 0.3));\n",
              "      fill: #FFFFFF;\n",
              "    }\n",
              "  </style>\n",
              "\n",
              "      <script>\n",
              "        const buttonEl =\n",
              "          document.querySelector('#df-a220de8e-c6b0-4ce3-b1c3-ba6588456c37 button.colab-df-convert');\n",
              "        buttonEl.style.display =\n",
              "          google.colab.kernel.accessAllowed ? 'block' : 'none';\n",
              "\n",
              "        async function convertToInteractive(key) {\n",
              "          const element = document.querySelector('#df-a220de8e-c6b0-4ce3-b1c3-ba6588456c37');\n",
              "          const dataTable =\n",
              "            await google.colab.kernel.invokeFunction('convertToInteractive',\n",
              "                                                     [key], {});\n",
              "          if (!dataTable) return;\n",
              "\n",
              "          const docLinkHtml = 'Like what you see? Visit the ' +\n",
              "            '<a target=\"_blank\" href=https://colab.research.google.com/notebooks/data_table.ipynb>data table notebook</a>'\n",
              "            + ' to learn more about interactive tables.';\n",
              "          element.innerHTML = '';\n",
              "          dataTable['output_type'] = 'display_data';\n",
              "          await google.colab.output.renderOutput(dataTable, element);\n",
              "          const docLink = document.createElement('div');\n",
              "          docLink.innerHTML = docLinkHtml;\n",
              "          element.appendChild(docLink);\n",
              "        }\n",
              "      </script>\n",
              "    </div>\n",
              "  </div>\n",
              "  "
            ]
          },
          "metadata": {},
          "execution_count": 435
        }
      ],
      "source": [
        "X_train"
      ]
    },
    {
      "cell_type": "code",
      "execution_count": null,
      "metadata": {
        "id": "5FfmEH6lhBSY"
      },
      "outputs": [],
      "source": [
        "from sklearn.compose import ColumnTransformer\n",
        "from sklearn.pipeline import Pipeline\n",
        "from sklearn.preprocessing import OneHotEncoder\n",
        "from sklearn.metrics import r2_score,mean_absolute_error"
      ]
    },
    {
      "cell_type": "code",
      "execution_count": null,
      "metadata": {
        "id": "5UwekS2ght-T"
      },
      "outputs": [],
      "source": [
        "from sklearn.linear_model import LinearRegression,Ridge,Lasso\n",
        "from sklearn.neighbors import KNeighborsRegressor\n",
        "from sklearn.tree import DecisionTreeRegressor\n",
        "from sklearn.ensemble import RandomForestRegressor,GradientBoostingRegressor,AdaBoostRegressor,ExtraTreesRegressor\n",
        "from sklearn.svm import SVR\n",
        "from xgboost import XGBRegressor"
      ]
    },
    {
      "cell_type": "markdown",
      "metadata": {
        "id": "kBsokiL-je5B"
      },
      "source": [
        "Linear Regression"
      ]
    },
    {
      "cell_type": "code",
      "execution_count": null,
      "metadata": {
        "colab": {
          "base_uri": "https://localhost:8080/"
        },
        "id": "4vIDk5iAv_Ch",
        "outputId": "b1862a5e-b83a-4d54-8d85-f80556b653e1"
      },
      "outputs": [
        {
          "output_type": "stream",
          "name": "stdout",
          "text": [
            "R2 score 0.8209158108246131\n",
            "MAE 0.20332457998385264\n"
          ]
        }
      ],
      "source": [
        "step1 = ColumnTransformer(transformers=[\n",
        "    ('col_tnf',OneHotEncoder(sparse=False,drop='first'),[0,1,2,4,11])\n",
        "],remainder='passthrough')\n",
        "\n",
        "step2 = LinearRegression()\n",
        "\n",
        "pipe = Pipeline([\n",
        "    ('step1',step1),\n",
        "    ('step2',step2)\n",
        "])\n",
        "\n",
        "pipe.fit(X_train,y_train)\n",
        "\n",
        "y_pred = pipe.predict(X_test)\n",
        "\n",
        "print('R2 score',r2_score(y_test,y_pred))\n",
        "print('MAE',mean_absolute_error(y_test,y_pred))"
      ]
    },
    {
      "cell_type": "markdown",
      "metadata": {
        "id": "oB5snz7WrFBv"
      },
      "source": [
        "Lasso Regression"
      ]
    },
    {
      "cell_type": "code",
      "execution_count": null,
      "metadata": {
        "colab": {
          "base_uri": "https://localhost:8080/"
        },
        "id": "i9U-rDFPonZU",
        "outputId": "d52d68ad-ce77-4448-c555-e674d7259a80"
      },
      "outputs": [
        {
          "output_type": "stream",
          "name": "stdout",
          "text": [
            "R2 score 0.8139277255104319\n",
            "MAE 0.2031494505049321\n"
          ]
        }
      ],
      "source": [
        "step1 = ColumnTransformer(transformers=[\n",
        "    ('col_tnf',OneHotEncoder(sparse=False,drop='first'),[0,1,2,4,11])\n",
        "],remainder='passthrough')\n",
        "\n",
        "step2 = Ridge(alpha=10)\n",
        "\n",
        "pipe = Pipeline([\n",
        "    ('step1',step1),\n",
        "    ('step2',step2)\n",
        "])\n",
        "\n",
        "pipe.fit(X_train,y_train)\n",
        "\n",
        "y_pred = pipe.predict(X_test)\n",
        "\n",
        "print('R2 score',r2_score(y_test,y_pred))\n",
        "print('MAE',mean_absolute_error(y_test,y_pred))"
      ]
    },
    {
      "cell_type": "markdown",
      "metadata": {
        "id": "qPwf3gLdrNxX"
      },
      "source": [
        "KNN"
      ]
    },
    {
      "cell_type": "code",
      "execution_count": null,
      "metadata": {
        "colab": {
          "base_uri": "https://localhost:8080/"
        },
        "id": "2DoUiVddcyUz",
        "outputId": "53f9b45b-9cc1-43e2-b502-d7b56c9cf111"
      },
      "outputs": [
        {
          "output_type": "stream",
          "name": "stdout",
          "text": [
            "R2 score 0.711389899879051\n",
            "MAE 0.22759467709345693\n"
          ]
        }
      ],
      "source": [
        "step1 = ColumnTransformer(transformers=[\n",
        "    ('col_tnf',OneHotEncoder(sparse=False,drop='first'),[0,1,2,4,11])\n",
        "],remainder='passthrough')\n",
        "\n",
        "step2 = KNeighborsRegressor(n_neighbors=3)\n",
        "\n",
        "pipe = Pipeline([\n",
        "    ('step1',step1),\n",
        "    ('step2',step2)\n",
        "])\n",
        "\n",
        "pipe.fit(X_train,y_train)\n",
        "\n",
        "y_pred = pipe.predict(X_test)\n",
        "\n",
        "print('R2 score',r2_score(y_test,y_pred))\n",
        "print('MAE',mean_absolute_error(y_test,y_pred))"
      ]
    },
    {
      "cell_type": "markdown",
      "metadata": {
        "id": "oT9VYX2frTx_"
      },
      "source": [
        "Decision Tree"
      ]
    },
    {
      "cell_type": "code",
      "execution_count": null,
      "metadata": {
        "colab": {
          "base_uri": "https://localhost:8080/"
        },
        "id": "Hq4ky7q3rOuB",
        "outputId": "6eef9d65-e6a0-4e4d-addb-83791e9f50b8"
      },
      "outputs": [
        {
          "output_type": "stream",
          "name": "stdout",
          "text": [
            "R2 score 0.7972146988561406\n",
            "MAE 0.20141832672972568\n"
          ]
        }
      ],
      "source": [
        "step1 = ColumnTransformer(transformers=[\n",
        "    ('col_tnf',OneHotEncoder(sparse=False,drop='first'),[0,1,2,4,11])\n",
        "],remainder='passthrough')\n",
        "\n",
        "step2 = DecisionTreeRegressor(max_depth=8)\n",
        "\n",
        "pipe = Pipeline([\n",
        "    ('step1',step1),\n",
        "    ('step2',step2)\n",
        "])\n",
        "\n",
        "pipe.fit(X_train,y_train)\n",
        "\n",
        "y_pred = pipe.predict(X_test)\n",
        "\n",
        "print('R2 score',r2_score(y_test,y_pred))\n",
        "print('MAE',mean_absolute_error(y_test,y_pred))"
      ]
    },
    {
      "cell_type": "markdown",
      "metadata": {
        "id": "Yz5uJgt1rYYR"
      },
      "source": [
        "SVM"
      ]
    },
    {
      "cell_type": "code",
      "execution_count": null,
      "metadata": {
        "colab": {
          "base_uri": "https://localhost:8080/"
        },
        "id": "f4PRMMfvrVzp",
        "outputId": "d464abb9-ecb4-4ba3-e21a-8da8a646a1d3"
      },
      "outputs": [
        {
          "output_type": "stream",
          "name": "stdout",
          "text": [
            "R2 score 0.7054665356799206\n",
            "MAE 0.20932444110361698\n"
          ]
        }
      ],
      "source": [
        "step1 = ColumnTransformer(transformers=[\n",
        "    ('col_tnf',OneHotEncoder(sparse=False,drop='first'),[0,1,2,4,11])\n",
        "],remainder='passthrough')\n",
        "\n",
        "step2 = SVR(kernel='rbf',C=10000,epsilon=0.1)\n",
        "\n",
        "pipe = Pipeline([\n",
        "    ('step1',step1),\n",
        "    ('step2',step2)\n",
        "])\n",
        "\n",
        "pipe.fit(X_train,y_train)\n",
        "\n",
        "y_pred = pipe.predict(X_test)\n",
        "\n",
        "print('R2 score',r2_score(y_test,y_pred))\n",
        "print('MAE',mean_absolute_error(y_test,y_pred))"
      ]
    },
    {
      "cell_type": "markdown",
      "metadata": {
        "id": "vJ64tedNrhPd"
      },
      "source": [
        "Random Forest"
      ]
    },
    {
      "cell_type": "code",
      "execution_count": null,
      "metadata": {
        "colab": {
          "base_uri": "https://localhost:8080/"
        },
        "id": "3cl1o8zjrZuc",
        "outputId": "fee27662-3db8-4030-c7f7-3b750d41c7f7"
      },
      "outputs": [
        {
          "output_type": "stream",
          "name": "stdout",
          "text": [
            "R2 score 0.8805958870989686\n",
            "MAE 0.16620782210063895\n"
          ]
        }
      ],
      "source": [
        "step1 = ColumnTransformer(transformers=[\n",
        "    ('col_tnf',OneHotEncoder(sparse=False,drop='first'),[0,1,2,4,11])\n",
        "],remainder='passthrough')\n",
        "\n",
        "step2 = RandomForestRegressor(n_estimators=100,\n",
        "                              random_state=3,\n",
        "                              max_samples=0.5,\n",
        "                              max_features=0.75,\n",
        "                              max_depth=15)\n",
        "\n",
        "pipe = Pipeline([\n",
        "    ('step1',step1),\n",
        "    ('step2',step2)\n",
        "])\n",
        "\n",
        "pipe.fit(X_train,y_train)\n",
        "\n",
        "y_pred = pipe.predict(X_test)\n",
        "\n",
        "print('R2 score',r2_score(y_test,y_pred))\n",
        "print('MAE',mean_absolute_error(y_test,y_pred))"
      ]
    },
    {
      "cell_type": "markdown",
      "metadata": {
        "id": "sLM-kC5hrp1N"
      },
      "source": [
        "Extra Trees"
      ]
    },
    {
      "cell_type": "code",
      "execution_count": null,
      "metadata": {
        "colab": {
          "base_uri": "https://localhost:8080/"
        },
        "id": "kPhi1zRUrl2L",
        "outputId": "49d1141b-1944-4044-9d94-650428047507"
      },
      "outputs": [
        {
          "output_type": "stream",
          "name": "stdout",
          "text": [
            "R2 score 0.8757329959149092\n",
            "MAE 0.16840479130023617\n"
          ]
        }
      ],
      "source": [
        "step1 = ColumnTransformer(transformers=[\n",
        "    ('col_tnf',OneHotEncoder(sparse=False,drop='first'),[0,1,2,4,11])\n",
        "],remainder='passthrough')\n",
        "\n",
        "step2 = ExtraTreesRegressor(n_estimators=100,\n",
        "                              random_state=3,\n",
        "                              max_samples=0.5,\n",
        "                              max_features=0.75,\n",
        "                              bootstrap=True,\n",
        "                              max_depth=15)\n",
        "\n",
        "pipe = Pipeline([\n",
        "    ('step1',step1),\n",
        "    ('step2',step2)\n",
        "])\n",
        "\n",
        "pipe.fit(X_train,y_train)\n",
        "\n",
        "y_pred = pipe.predict(X_test)\n",
        "\n",
        "print('R2 score',r2_score(y_test,y_pred))\n",
        "print('MAE',mean_absolute_error(y_test,y_pred))"
      ]
    },
    {
      "cell_type": "markdown",
      "metadata": {
        "id": "bZ5_nUY8sRpI"
      },
      "source": [
        "ADA Boost"
      ]
    },
    {
      "cell_type": "code",
      "execution_count": null,
      "metadata": {
        "colab": {
          "base_uri": "https://localhost:8080/"
        },
        "id": "e4aTFqXErr50",
        "outputId": "05def53d-b470-4f18-f15a-d274aa42d012"
      },
      "outputs": [
        {
          "output_type": "stream",
          "name": "stdout",
          "text": [
            "R2 score 0.78830337655628\n",
            "MAE 0.225063937743351\n"
          ]
        }
      ],
      "source": [
        "step1 = ColumnTransformer(transformers=[\n",
        "    ('col_tnf',OneHotEncoder(sparse=False,drop='first'),[0,1,2,4,11])\n",
        "],remainder='passthrough')\n",
        "\n",
        "step2 = AdaBoostRegressor(n_estimators=15,learning_rate=1.0)\n",
        "\n",
        "pipe = Pipeline([\n",
        "    ('step1',step1),\n",
        "    ('step2',step2)\n",
        "])\n",
        "\n",
        "pipe.fit(X_train,y_train)\n",
        "\n",
        "y_pred = pipe.predict(X_test)\n",
        "\n",
        "print('R2 score',r2_score(y_test,y_pred))\n",
        "print('MAE',mean_absolute_error(y_test,y_pred))"
      ]
    },
    {
      "cell_type": "markdown",
      "metadata": {
        "id": "PBruiaL-sbTW"
      },
      "source": [
        "Gradient Boost"
      ]
    },
    {
      "cell_type": "code",
      "execution_count": null,
      "metadata": {
        "colab": {
          "base_uri": "https://localhost:8080/"
        },
        "id": "s5tbFOplsUBM",
        "outputId": "703505be-0411-4dea-eda1-7bb5f430d885"
      },
      "outputs": [
        {
          "output_type": "stream",
          "name": "stdout",
          "text": [
            "R2 score 0.8838522631387007\n",
            "MAE 0.15840269254421036\n"
          ]
        }
      ],
      "source": [
        "step1 = ColumnTransformer(transformers=[\n",
        "    ('col_tnf',OneHotEncoder(sparse=False,drop='first'),[0,1,2,4,11])\n",
        "],remainder='passthrough')\n",
        "\n",
        "step2 = GradientBoostingRegressor(n_estimators=500)\n",
        "\n",
        "pipe = Pipeline([\n",
        "    ('step1',step1),\n",
        "    ('step2',step2)\n",
        "])\n",
        "\n",
        "pipe.fit(X_train,y_train)\n",
        "\n",
        "y_pred = pipe.predict(X_test)\n",
        "\n",
        "print('R2 score',r2_score(y_test,y_pred))\n",
        "print('MAE',mean_absolute_error(y_test,y_pred))"
      ]
    },
    {
      "cell_type": "markdown",
      "metadata": {
        "id": "rfH22nlisjj_"
      },
      "source": [
        "XGBoost"
      ]
    },
    {
      "cell_type": "code",
      "execution_count": null,
      "metadata": {
        "colab": {
          "base_uri": "https://localhost:8080/"
        },
        "id": "bwlxib3Isdpw",
        "outputId": "6c93d8b7-06ba-4b7c-86a4-82b4261444b9"
      },
      "outputs": [
        {
          "output_type": "stream",
          "name": "stdout",
          "text": [
            "[20:04:28] WARNING: /workspace/src/objective/regression_obj.cu:152: reg:linear is now deprecated in favor of reg:squarederror.\n",
            "R2 score 0.8752926811275031\n",
            "MAE 0.15614416657645855\n"
          ]
        }
      ],
      "source": [
        "step1 = ColumnTransformer(transformers=[\n",
        "    ('col_tnf',OneHotEncoder(sparse=False,drop='first'),[0,1,2,4,11])\n",
        "],remainder='passthrough')\n",
        "\n",
        "step2 = XGBRegressor(n_estimators=45,max_depth=5,learning_rate=0.5)\n",
        "\n",
        "pipe = Pipeline([\n",
        "    ('step1',step1),\n",
        "    ('step2',step2)\n",
        "])\n",
        "\n",
        "pipe.fit(X_train,y_train)\n",
        "\n",
        "y_pred = pipe.predict(X_test)\n",
        "\n",
        "print('R2 score',r2_score(y_test,y_pred))\n",
        "print('MAE',mean_absolute_error(y_test,y_pred))"
      ]
    },
    {
      "cell_type": "markdown",
      "metadata": {
        "id": "Whoa2r3Ms1Yo"
      },
      "source": [
        "Voting Regressor"
      ]
    },
    {
      "cell_type": "code",
      "execution_count": null,
      "metadata": {
        "colab": {
          "base_uri": "https://localhost:8080/"
        },
        "id": "5TLT0aTJsoZ-",
        "outputId": "a4f3c4ee-02b4-47c9-eeb3-d844e18bcd44"
      },
      "outputs": [
        {
          "output_type": "stream",
          "name": "stdout",
          "text": [
            "[20:04:33] WARNING: /workspace/src/objective/regression_obj.cu:152: reg:linear is now deprecated in favor of reg:squarederror.\n",
            "R2 score 0.8829606250117373\n",
            "MAE 0.16505274408046128\n"
          ]
        }
      ],
      "source": [
        "from sklearn.ensemble import VotingRegressor,StackingRegressor\n",
        "\n",
        "step1 = ColumnTransformer(transformers=[\n",
        "    ('col_tnf',OneHotEncoder(sparse=False,drop='first'),[0,1,2,4,11])\n",
        "],remainder='passthrough')\n",
        "\n",
        "\n",
        "rf = RandomForestRegressor(n_estimators=350,random_state=3,max_samples=0.5,max_features=0.75,max_depth=15)\n",
        "gbdt = GradientBoostingRegressor(n_estimators=100,max_features=0.5)\n",
        "xgb = XGBRegressor(n_estimators=25,learning_rate=0.3,max_depth=5)\n",
        "et = ExtraTreesRegressor(n_estimators=100,random_state=3,max_samples=0.5,bootstrap=True,max_features=0.75,max_depth=10)\n",
        "\n",
        "step2 = VotingRegressor([('rf', rf), ('gbdt', gbdt), ('xgb',xgb), ('et',et)],weights=[5,1,1,1])\n",
        "\n",
        "pipe = Pipeline([\n",
        "    ('step1',step1),\n",
        "    ('step2',step2)\n",
        "])\n",
        "\n",
        "pipe.fit(X_train,y_train)\n",
        "\n",
        "y_pred = pipe.predict(X_test)\n",
        "\n",
        "print('R2 score',r2_score(y_test,y_pred))\n",
        "print('MAE',mean_absolute_error(y_test,y_pred))"
      ]
    },
    {
      "cell_type": "markdown",
      "metadata": {
        "id": "WT6REGLTtMB1"
      },
      "source": [
        "Stacking"
      ]
    },
    {
      "cell_type": "code",
      "execution_count": null,
      "metadata": {
        "colab": {
          "base_uri": "https://localhost:8080/"
        },
        "id": "WA7Scbg2s3tM",
        "outputId": "062e575e-2ca3-425a-ec0a-a41a84aa8738"
      },
      "outputs": [
        {
          "output_type": "stream",
          "name": "stdout",
          "text": [
            "[20:04:35] WARNING: /workspace/src/objective/regression_obj.cu:152: reg:linear is now deprecated in favor of reg:squarederror.\n",
            "[20:04:40] WARNING: /workspace/src/objective/regression_obj.cu:152: reg:linear is now deprecated in favor of reg:squarederror.\n",
            "[20:04:40] WARNING: /workspace/src/objective/regression_obj.cu:152: reg:linear is now deprecated in favor of reg:squarederror.\n",
            "[20:04:40] WARNING: /workspace/src/objective/regression_obj.cu:152: reg:linear is now deprecated in favor of reg:squarederror.\n",
            "[20:04:40] WARNING: /workspace/src/objective/regression_obj.cu:152: reg:linear is now deprecated in favor of reg:squarederror.\n",
            "[20:04:40] WARNING: /workspace/src/objective/regression_obj.cu:152: reg:linear is now deprecated in favor of reg:squarederror.\n",
            "R2 score 0.8754354554500892\n",
            "MAE 0.17256539450597844\n"
          ]
        }
      ],
      "source": [
        "from sklearn.ensemble import VotingRegressor,StackingRegressor\n",
        "\n",
        "step1 = ColumnTransformer(transformers=[\n",
        "    ('col_tnf',OneHotEncoder(sparse=False,drop='first'),[0,1,2,4,11])\n",
        "],remainder='passthrough')\n",
        "\n",
        "\n",
        "estimators = [\n",
        "    ('rf', RandomForestRegressor(n_estimators=350,random_state=3,max_samples=0.5,max_features=0.75,max_depth=15)),\n",
        "    ('gbdt',GradientBoostingRegressor(n_estimators=100,max_features=0.5)),\n",
        "    ('xgb', XGBRegressor(n_estimators=25,learning_rate=0.3,max_depth=5))\n",
        "]\n",
        "\n",
        "step2 = StackingRegressor(estimators=estimators, final_estimator=Ridge(alpha=100))\n",
        "\n",
        "pipe = Pipeline([\n",
        "    ('step1',step1),\n",
        "    ('step2',step2)\n",
        "])\n",
        "\n",
        "pipe.fit(X_train,y_train)\n",
        "\n",
        "y_pred = pipe.predict(X_test)\n",
        "\n",
        "print('R2 score',r2_score(y_test,y_pred))\n",
        "print('MAE',mean_absolute_error(y_test,y_pred))"
      ]
    },
    {
      "cell_type": "markdown",
      "metadata": {
        "id": "StLcWKFC5U2R"
      },
      "source": [
        "Exporting the model"
      ]
    },
    {
      "cell_type": "code",
      "execution_count": null,
      "metadata": {
        "id": "Oywaw7YGtPIl"
      },
      "outputs": [],
      "source": [
        "import pickle\n",
        "\n",
        "pickle.dump(df,open('df.pkl','wb'))\n",
        "pickle.dump(pipe,open('pipe.pkl','wb'))"
      ]
    },
    {
      "cell_type": "code",
      "source": [],
      "metadata": {
        "id": "q2t08j5AlXVe"
      },
      "execution_count": null,
      "outputs": []
    }
  ],
  "metadata": {
    "colab": {
      "provenance": []
    },
    "kernelspec": {
      "display_name": "Python 3",
      "name": "python3"
    },
    "language_info": {
      "name": "python"
    }
  },
  "nbformat": 4,
  "nbformat_minor": 0
}